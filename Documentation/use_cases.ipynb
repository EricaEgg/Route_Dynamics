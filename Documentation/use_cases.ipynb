{
 "cells": [
  {
   "cell_type": "markdown",
   "metadata": {},
   "source": [
    "# Use Cases"
   ]
  },
  {
   "cell_type": "markdown",
   "metadata": {},
   "source": [
    "### Software goal: Establish a vehicle model and data integration protocol to estimate battery degredation for a hybrid-electric bus battery module."
   ]
  },
  {
   "cell_type": "markdown",
   "metadata": {},
   "source": [
    "* Route planning: this software will include a cost comparison per route.\n",
    "* Module ordering: the battery load predictions are used to create bus maintenance schedules\n",
    "    "
   ]
  },
  {
   "cell_type": "markdown",
   "metadata": {},
   "source": [
    "## 1) Calculating the net-force on the bus\n",
    "\n",
    "Inputs: mass, gravitational constant, road grade, wind speed, velocity, acceleration, coefficient of friction, drag coefficient, surface area, air density.\n",
    "\n",
    "Output: net-force"
   ]
  },
  {
   "cell_type": "markdown",
   "metadata": {},
   "source": [
    "## 2) Create protocol and functions to determine all required variables\n",
    "\n",
    "a) Function for determining mass changes over time (ridership)\n",
    "\n",
    "b) Function that calls weather API to find climate-related variables (air density, wind speed, coefficient of friction)\n",
    "\n",
    "c) Function to determine road grade (Route_Dynamics)\n",
    "\n",
    "d) Function to determine velocity and acceleration"
   ]
  },
  {
   "cell_type": "markdown",
   "metadata": {},
   "source": [
    "## 3) Create load profile for the route\n",
    "\n",
    "Input: Net-force\n",
    "\n",
    "Output: Power requirements for the vehicle along the route"
   ]
  },
  {
   "cell_type": "markdown",
   "metadata": {},
   "source": [
    "## 4) Establish metric of degradation "
   ]
  },
  {
   "cell_type": "code",
   "execution_count": null,
   "metadata": {},
   "outputs": [],
   "source": []
  }
 ],
 "metadata": {
  "kernelspec": {
   "display_name": "Python 3",
   "language": "python",
   "name": "python3"
  },
  "language_info": {
   "codemirror_mode": {
    "name": "ipython",
    "version": 3
   },
   "file_extension": ".py",
   "mimetype": "text/x-python",
   "name": "python",
   "nbconvert_exporter": "python",
   "pygments_lexer": "ipython3",
   "version": "3.7.2"
  }
 },
 "nbformat": 4,
 "nbformat_minor": 2
}
