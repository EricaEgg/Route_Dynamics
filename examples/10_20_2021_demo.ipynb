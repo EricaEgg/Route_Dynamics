{
 "cells": [
  {
   "cell_type": "markdown",
   "metadata": {},
   "source": [
    "## Route_Dynamics Example Notebook"
   ]
  },
  {
   "cell_type": "markdown",
   "metadata": {},
   "source": [
    "First, let's import all the packages we need:"
   ]
  },
  {
   "cell_type": "code",
   "execution_count": 2,
   "metadata": {},
   "outputs": [],
   "source": [
    "#General imports needed for path\n",
    "import os \n",
    "import sys\n",
    "module_path = os.path.abspath(os.path.join('..'))\n",
    "sys.path.append(module_path)\n",
    "\n",
    "#import for plots\n",
    "import matplotlib.pyplot as plt"
   ]
  },
  {
   "cell_type": "code",
   "execution_count": 3,
   "metadata": {},
   "outputs": [
    {
     "name": "stderr",
     "output_type": "stream",
     "text": [
      "C:\\users\\erica\\miniconda3\\envs\\route_dynamics\\lib\\site-packages\\IPython\\core\\interactiveshell.py:3209: DtypeWarning: Columns (46) have mixed types. Specify dtype option on import or set low_memory=False.\n",
      "  if (yield from self.run_code(code, result)):\n"
     ]
    }
   ],
   "source": [
    "#Import modules from route_dynamics package\n",
    "import route_dynamics.route_elevation.base_df as base\n",
    "from route_dynamics.route_energy import longi_dynam_model as ldm\n",
    "from route_dynamics.route_riders import route_riders as ride\n",
    "from route_dynamics.route_visualizer import visualizer as vis"
   ]
  },
  {
   "cell_type": "markdown",
   "metadata": {},
   "source": [
    "Let's start by looking at one route:"
   ]
  },
  {
   "cell_type": "code",
   "execution_count": 4,
   "metadata": {
    "scrolled": true
   },
   "outputs": [],
   "source": [
    "#User defines what routes they want to evaluate\n",
    "rt_list = [22]\n",
    "\n",
    "#Import data file\n",
    "shapefile_name = '../data/rt' + str(rt_list[0]) + '_pts.shp'\n",
    "\n",
    "#Initialize route dataframe\n",
    "rt_df = base.wrapper(shapefile_name)"
   ]
  },
  {
   "cell_type": "code",
   "execution_count": null,
   "metadata": {},
   "outputs": [],
   "source": [
    "#rt_df"
   ]
  },
  {
   "cell_type": "markdown",
   "metadata": {},
   "source": [
    "Next, let's add ridereship information to the dataframe. First, we create a dataframe of bus stops and riders along the route."
   ]
  },
  {
   "cell_type": "code",
   "execution_count": 5,
   "metadata": {},
   "outputs": [],
   "source": [
    "df, riders, mass = ride.route_ridership('AM', rt_list[0]) "
   ]
  },
  {
   "cell_type": "code",
   "execution_count": 6,
   "metadata": {},
   "outputs": [],
   "source": [
    "stop_coord, rider_coord = ride.stop_coord(rt_list[0], riders)\n",
    "coords = rider_coord['coordinates'].values\n",
    "mass2 = rider_coord['Mean'].values"
   ]
  },
  {
   "cell_type": "markdown",
   "metadata": {},
   "source": [
    "Then, we calculate the forces:\n",
    "debugging this..."
   ]
  },
  {
   "cell_type": "code",
   "execution_count": 8,
   "metadata": {},
   "outputs": [],
   "source": [
    "# ex = ldm.RouteTrajectory(\n",
    "#      rt_list[0], \n",
    "#      shapefile_name, \n",
    "#      bus_speed_model='const_accel_between_stops_and_speed_lim',\n",
    "#      stop_coords=coords,\n",
    "#      mass_array=mass2 + mass,\n",
    "#      charging_power_max = 160,\n",
    "#      a_m=1.0,\n",
    "#      v_lim=15.0,)"
   ]
  },
  {
   "cell_type": "code",
   "execution_count": null,
   "metadata": {},
   "outputs": [],
   "source": []
  },
  {
   "cell_type": "code",
   "execution_count": null,
   "metadata": {},
   "outputs": [],
   "source": []
  },
  {
   "cell_type": "code",
   "execution_count": null,
   "metadata": {},
   "outputs": [],
   "source": []
  }
 ],
 "metadata": {
  "kernelspec": {
   "display_name": "Python 3",
   "language": "python",
   "name": "python3"
  },
  "language_info": {
   "codemirror_mode": {
    "name": "ipython",
    "version": 3
   },
   "file_extension": ".py",
   "mimetype": "text/x-python",
   "name": "python",
   "nbconvert_exporter": "python",
   "pygments_lexer": "ipython3",
   "version": "3.7.1"
  }
 },
 "nbformat": 4,
 "nbformat_minor": 2
}
