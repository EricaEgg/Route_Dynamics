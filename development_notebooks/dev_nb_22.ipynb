{
 "cells": [
  {
   "cell_type": "code",
   "execution_count": 1,
   "id": "19c7675d",
   "metadata": {},
   "outputs": [],
   "source": [
    "import os \n",
    "import sys\n",
    "module_path = os.path.abspath(os.path.join('..'))\n",
    "sys.path.append(module_path)\n",
    "\n",
    "import warnings\n",
    "warnings.filterwarnings('ignore')"
   ]
  },
  {
   "cell_type": "code",
   "execution_count": 2,
   "id": "13b359c1",
   "metadata": {},
   "outputs": [],
   "source": [
    "import pandas as pd"
   ]
  },
  {
   "cell_type": "code",
   "execution_count": 3,
   "id": "b9bccc4c",
   "metadata": {},
   "outputs": [],
   "source": [
    "import route_dynamics.route_elevation.base_df as base\n",
    "import route_dynamics.route_energy.longi_dynam_model as ldm\n",
    "from route_dynamics.route_riders import route_riders as ride\n",
    "from route_dynamics.route_visualizer import visualizer as vis"
   ]
  },
  {
   "cell_type": "code",
   "execution_count": 4,
   "id": "6fe101a1",
   "metadata": {},
   "outputs": [],
   "source": [
    "#User defines what routes they want to evaluate\n",
    "rt_list = [22]\n",
    "\n",
    "#Import route shapefile\n",
    "shapefile_name = '../data/rt' + str(rt_list[0]) + '_pts.shp'\n",
    "\n",
    "#Import bus stops shapefile\n",
    "stops_shp = '../data/Transit_Stops_for_King_County_Metro__transitstop_point.shp'\n",
    "\n",
    "trip183 = pd.read_csv(\"../data/Trip183.csv\", usecols = ['SignRt', 'InOut', 'KeyTrip', 'BusType', 'Seats', \n",
    "                     'Period', 'AnnRides']) # KCM Data\n",
    "trip183unsum = pd.read_csv(\"../data/Zon183Unsum.csv\", usecols = ['Route', 'Dir', 'Trip_ID', 'InOut', 'STOP_SEQ', 'STOP_ID',\n",
    "                     'Period', 'AveOn', 'AveOff', 'AveLd', 'Obs'])\n",
    "\n",
    "#Acceleration profile\n",
    "a_prof =pd.read_csv('../data/acceleration.csv', names=['time (s)', 'accel. (g)'])"
   ]
  },
  {
   "cell_type": "code",
   "execution_count": 5,
   "id": "aef0e8b8",
   "metadata": {},
   "outputs": [],
   "source": [
    "df_22, riders_22, mass_22 = ride.route_ridership('PM', 22) "
   ]
  },
  {
   "cell_type": "code",
   "execution_count": 6,
   "id": "99be6802",
   "metadata": {},
   "outputs": [],
   "source": [
    "stop_coord, rider_coord = ride.stop_coord(22, riders_22)\n"
   ]
  },
  {
   "cell_type": "code",
   "execution_count": 7,
   "id": "1f93236e",
   "metadata": {},
   "outputs": [],
   "source": [
    "coords22 = rider_coord['coordinates'].values"
   ]
  },
  {
   "cell_type": "code",
   "execution_count": 8,
   "id": "8ad72251",
   "metadata": {},
   "outputs": [],
   "source": [
    "mass22 = rider_coord['Mean'].values"
   ]
  },
  {
   "cell_type": "code",
   "execution_count": 9,
   "id": "8a30170c",
   "metadata": {},
   "outputs": [],
   "source": [
    "ex = ldm.RouteTrajectory(rt_list[0], shapefile_name, stop_coords=coords22, mass_array=mass22 + mass_22,  a_prof = a_prof)"
   ]
  },
  {
   "cell_type": "code",
   "execution_count": 22,
   "id": "bc9b09e2",
   "metadata": {},
   "outputs": [
    {
     "data": {
      "text/plain": [
       " 0.000000    1372\n",
       "-0.400000     226\n",
       " 0.413416      22\n",
       "Name: acceleration, dtype: int64"
      ]
     },
     "execution_count": 22,
     "metadata": {},
     "output_type": "execute_result"
    }
   ],
   "source": [
    "ex.route_df.acceleration.value_counts()"
   ]
  },
  {
   "cell_type": "code",
   "execution_count": null,
   "id": "487c006d",
   "metadata": {},
   "outputs": [],
   "source": []
  },
  {
   "cell_type": "code",
   "execution_count": null,
   "id": "d1c50cca",
   "metadata": {},
   "outputs": [],
   "source": []
  },
  {
   "cell_type": "code",
   "execution_count": null,
   "id": "dfa50567",
   "metadata": {},
   "outputs": [],
   "source": []
  }
 ],
 "metadata": {
  "kernelspec": {
   "display_name": "Python 3 (ipykernel)",
   "language": "python",
   "name": "python3"
  },
  "language_info": {
   "codemirror_mode": {
    "name": "ipython",
    "version": 3
   },
   "file_extension": ".py",
   "mimetype": "text/x-python",
   "name": "python",
   "nbconvert_exporter": "python",
   "pygments_lexer": "ipython3",
   "version": "3.10.2"
  }
 },
 "nbformat": 4,
 "nbformat_minor": 5
}
