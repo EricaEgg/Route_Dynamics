{
 "cells": [
  {
   "cell_type": "code",
   "execution_count": 1,
   "id": "b3f53e1c",
   "metadata": {},
   "outputs": [],
   "source": [
    "import os \n",
    "import sys\n",
    "module_path = os.path.abspath(os.path.join('..'))\n",
    "sys.path.append(module_path)\n",
    "\n",
    "import warnings\n",
    "warnings.filterwarnings('ignore')"
   ]
  },
  {
   "cell_type": "code",
   "execution_count": 2,
   "id": "090453f5",
   "metadata": {},
   "outputs": [],
   "source": [
    "import pandas as pd"
   ]
  },
  {
   "cell_type": "code",
   "execution_count": 3,
   "id": "2966cc33",
   "metadata": {},
   "outputs": [],
   "source": [
    "import route_dynamics.route_elevation.base_df as base\n",
    "import route_dynamics.route_energy.longi_dynam_model as ldm\n",
    "import route_dynamics.route_energy.accel as accel\n",
    "from route_dynamics.route_riders import route_riders as ride\n",
    "from route_dynamics.route_visualizer import visualizer as vis\n",
    "import route_dynamics.route_energy.knn as knn"
   ]
  },
  {
   "cell_type": "code",
   "execution_count": 4,
   "id": "9e8affe1",
   "metadata": {},
   "outputs": [],
   "source": [
    "#User defines what routes they want to evaluate\n",
    "rt_list = [22]\n",
    "\n",
    "#Import route shapefile\n",
    "shapefile_name = '../data/rt' + str(rt_list[0]) + '_pts.shp'\n",
    "\n",
    "#Import bus stops shapefile\n",
    "stops_shp = '../data/Transit_Stops_for_King_County_Metro__transitstop_point.shp'\n",
    "\n",
    "trip183 = pd.read_csv(\"../data/Trip183.csv\", usecols = ['SignRt', 'InOut', 'KeyTrip', 'BusType', 'Seats', \n",
    "                     'Period', 'AnnRides']) # KCM Data\n",
    "trip183unsum = pd.read_csv(\"../data/Zon183Unsum.csv\", usecols = ['Route', 'Dir', 'Trip_ID', 'InOut', 'STOP_SEQ', 'STOP_ID',\n",
    "                     'Period', 'AveOn', 'AveOff', 'AveLd', 'Obs'])\n",
    "\n",
    "#Acceleration profile\n",
    "a_prof =pd.read_csv('../data/acceleration.csv', names=['time (s)', 'accel. (g)'])"
   ]
  },
  {
   "cell_type": "code",
   "execution_count": 5,
   "id": "39fb19f2",
   "metadata": {},
   "outputs": [
    {
     "data": {
      "text/html": [
       "<div>\n",
       "<style scoped>\n",
       "    .dataframe tbody tr th:only-of-type {\n",
       "        vertical-align: middle;\n",
       "    }\n",
       "\n",
       "    .dataframe tbody tr th {\n",
       "        vertical-align: top;\n",
       "    }\n",
       "\n",
       "    .dataframe thead th {\n",
       "        text-align: right;\n",
       "    }\n",
       "</style>\n",
       "<table border=\"1\" class=\"dataframe\">\n",
       "  <thead>\n",
       "    <tr style=\"text-align: right;\">\n",
       "      <th></th>\n",
       "      <th>time (s)</th>\n",
       "      <th>accel. (g)</th>\n",
       "    </tr>\n",
       "  </thead>\n",
       "  <tbody>\n",
       "    <tr>\n",
       "      <th>0</th>\n",
       "      <td>0.000000</td>\n",
       "      <td>0.000556</td>\n",
       "    </tr>\n",
       "    <tr>\n",
       "      <th>1</th>\n",
       "      <td>0.917431</td>\n",
       "      <td>0.115556</td>\n",
       "    </tr>\n",
       "    <tr>\n",
       "      <th>2</th>\n",
       "      <td>1.972477</td>\n",
       "      <td>0.123889</td>\n",
       "    </tr>\n",
       "    <tr>\n",
       "      <th>3</th>\n",
       "      <td>2.935780</td>\n",
       "      <td>0.126111</td>\n",
       "    </tr>\n",
       "    <tr>\n",
       "      <th>4</th>\n",
       "      <td>4.036697</td>\n",
       "      <td>0.125556</td>\n",
       "    </tr>\n",
       "  </tbody>\n",
       "</table>\n",
       "</div>"
      ],
      "text/plain": [
       "   time (s)  accel. (g)\n",
       "0  0.000000    0.000556\n",
       "1  0.917431    0.115556\n",
       "2  1.972477    0.123889\n",
       "3  2.935780    0.126111\n",
       "4  4.036697    0.125556"
      ]
     },
     "execution_count": 5,
     "metadata": {},
     "output_type": "execute_result"
    }
   ],
   "source": [
    "a_prof.head()"
   ]
  },
  {
   "cell_type": "code",
   "execution_count": 8,
   "id": "53abfcf3",
   "metadata": {},
   "outputs": [
    {
     "data": {
      "text/html": [
       "<div>\n",
       "<style scoped>\n",
       "    .dataframe tbody tr th:only-of-type {\n",
       "        vertical-align: middle;\n",
       "    }\n",
       "\n",
       "    .dataframe tbody tr th {\n",
       "        vertical-align: top;\n",
       "    }\n",
       "\n",
       "    .dataframe thead th {\n",
       "        text-align: right;\n",
       "    }\n",
       "</style>\n",
       "<table border=\"1\" class=\"dataframe\">\n",
       "  <thead>\n",
       "    <tr style=\"text-align: right;\">\n",
       "      <th></th>\n",
       "      <th>geometry</th>\n",
       "      <th>distance</th>\n",
       "      <th>elevation</th>\n",
       "      <th>grade</th>\n",
       "    </tr>\n",
       "  </thead>\n",
       "  <tbody>\n",
       "    <tr>\n",
       "      <th>0</th>\n",
       "      <td>POINT (-122.38813 47.56295)</td>\n",
       "      <td>0.0000</td>\n",
       "      <td>99.398090</td>\n",
       "      <td>0.000000</td>\n",
       "    </tr>\n",
       "    <tr>\n",
       "      <th>1</th>\n",
       "      <td>POINT (-122.38798 47.56295)</td>\n",
       "      <td>10.9728</td>\n",
       "      <td>99.874774</td>\n",
       "      <td>0.043442</td>\n",
       "    </tr>\n",
       "    <tr>\n",
       "      <th>2</th>\n",
       "      <td>POINT (-122.38784 47.56295)</td>\n",
       "      <td>21.9456</td>\n",
       "      <td>100.272354</td>\n",
       "      <td>0.036233</td>\n",
       "    </tr>\n",
       "    <tr>\n",
       "      <th>3</th>\n",
       "      <td>POINT (-122.38769 47.56295)</td>\n",
       "      <td>32.9184</td>\n",
       "      <td>100.594760</td>\n",
       "      <td>0.029382</td>\n",
       "    </tr>\n",
       "    <tr>\n",
       "      <th>4</th>\n",
       "      <td>POINT (-122.38754 47.56295)</td>\n",
       "      <td>43.8912</td>\n",
       "      <td>100.845922</td>\n",
       "      <td>0.022889</td>\n",
       "    </tr>\n",
       "  </tbody>\n",
       "</table>\n",
       "</div>"
      ],
      "text/plain": [
       "                      geometry  distance   elevation     grade\n",
       "0  POINT (-122.38813 47.56295)    0.0000   99.398090  0.000000\n",
       "1  POINT (-122.38798 47.56295)   10.9728   99.874774  0.043442\n",
       "2  POINT (-122.38784 47.56295)   21.9456  100.272354  0.036233\n",
       "3  POINT (-122.38769 47.56295)   32.9184  100.594760  0.029382\n",
       "4  POINT (-122.38754 47.56295)   43.8912  100.845922  0.022889"
      ]
     },
     "execution_count": 8,
     "metadata": {},
     "output_type": "execute_result"
    }
   ],
   "source": [
    "route_df = base.wrapper(shapefile_name, 6, 6)\n",
    "route_df.head()"
   ]
  },
  {
   "cell_type": "code",
   "execution_count": null,
   "id": "f007efd7",
   "metadata": {},
   "outputs": [],
   "source": [
    "route_df.head()"
   ]
  },
  {
   "cell_type": "code",
   "execution_count": null,
   "id": "8277d428",
   "metadata": {},
   "outputs": [],
   "source": [
    "df_22, riders_22, mass_22 = ride.route_ridership('PM', 22)"
   ]
  },
  {
   "cell_type": "code",
   "execution_count": null,
   "id": "1a4b2eb6",
   "metadata": {},
   "outputs": [],
   "source": [
    "stop_coord, rider_coord = ride.stop_coord(22, riders_22)"
   ]
  },
  {
   "cell_type": "code",
   "execution_count": null,
   "id": "819ac5ea",
   "metadata": {},
   "outputs": [],
   "source": [
    "stop_coords = stop_coord.coordinates.values"
   ]
  },
  {
   "cell_type": "code",
   "execution_count": null,
   "id": "211823d0",
   "metadata": {},
   "outputs": [],
   "source": [
    "stop_nn_indicies, stop_coord_nn = knn.find_knn(\n",
    "1,\n",
    "route_df.geometry.values,\n",
    "stop_coords\n",
    ")\n",
    "# the 'jth' element of stop_nn_indicies also selects the\n",
    "\n",
    "route_df = route_df.assign(\n",
    "is_bus_stop = ([False] * len(route_df.index))\n",
    ")\n",
    "\n",
    "for i in stop_nn_indicies.ravel():\n",
    "    route_df.at[i, 'is_bus_stop'] = True"
   ]
  },
  {
   "cell_type": "code",
   "execution_count": null,
   "id": "6394ae63",
   "metadata": {},
   "outputs": [],
   "source": [
    "route_df.is_bus_stop.value_counts()"
   ]
  },
  {
   "cell_type": "code",
   "execution_count": null,
   "id": "63505e47",
   "metadata": {},
   "outputs": [],
   "source": [
    "a, v, x_ls, x_ns, t  = accel.accel_dynamics(route_df, a_prof, -0.4, 15)"
   ]
  },
  {
   "cell_type": "code",
   "execution_count": null,
   "id": "14ff28e2",
   "metadata": {},
   "outputs": [],
   "source": [
    "route_df['a'] = a"
   ]
  },
  {
   "cell_type": "code",
   "execution_count": null,
   "id": "4c57caa4",
   "metadata": {},
   "outputs": [],
   "source": [
    "route_df['a'].value_counts()"
   ]
  },
  {
   "cell_type": "code",
   "execution_count": null,
   "id": "fb93d31d",
   "metadata": {},
   "outputs": [],
   "source": [
    "a_prof"
   ]
  },
  {
   "cell_type": "code",
   "execution_count": null,
   "id": "77ab9d08",
   "metadata": {},
   "outputs": [],
   "source": []
  }
 ],
 "metadata": {
  "kernelspec": {
   "display_name": "Python 3 (ipykernel)",
   "language": "python",
   "name": "python3"
  },
  "language_info": {
   "codemirror_mode": {
    "name": "ipython",
    "version": 3
   },
   "file_extension": ".py",
   "mimetype": "text/x-python",
   "name": "python",
   "nbconvert_exporter": "python",
   "pygments_lexer": "ipython3",
   "version": "3.10.2"
  }
 },
 "nbformat": 4,
 "nbformat_minor": 5
}
