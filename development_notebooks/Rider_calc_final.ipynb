{
 "cells": [
  {
   "cell_type": "code",
   "execution_count": 1,
   "metadata": {},
   "outputs": [],
   "source": [
    "import os\n",
    "import sys\n",
    "module_path = os.path.abspath(os.path.join('..'))\n",
    "sys.path.append(module_path)"
   ]
  },
  {
   "cell_type": "code",
   "execution_count": 29,
   "metadata": {},
   "outputs": [],
   "source": [
    "import pandas as pd\n",
    "import numpy as np\n",
    "import matplotlib.pyplot as plt\n",
    "import route_dynamics.route_elevation.base as base\n",
    "import geopandas as gpd\n",
    "\n",
    "from shapely.geometry import mapping"
   ]
  },
  {
   "cell_type": "code",
   "execution_count": 30,
   "metadata": {},
   "outputs": [
    {
     "name": "stderr",
     "output_type": "stream",
     "text": [
      "/Users/ryanjcarlin/miniconda3/envs/simple_route_dynamics/lib/python3.6/site-packages/IPython/core/interactiveshell.py:3049: DtypeWarning: Columns (46) have mixed types. Specify dtype option on import or set low_memory=False.\n",
      "  interactivity=interactivity, compiler=compiler, result=result)\n"
     ]
    }
   ],
   "source": [
    "dat1 = pd.read_csv(\"../data/Trip183.csv\")\n",
    "dat2 = pd.read_csv(\"../data/Zon183Unsum.csv\")"
   ]
  },
  {
   "cell_type": "code",
   "execution_count": 31,
   "metadata": {},
   "outputs": [],
   "source": [
    "trip183 = dat1[['SignRt', 'InOut', 'KeyTrip', 'BusType', 'Seats',\n",
    "                'Period', 'AnnRides']]"
   ]
  },
  {
   "cell_type": "code",
   "execution_count": 32,
   "metadata": {},
   "outputs": [],
   "source": [
    "trip183unsum = dat2[['Route', 'Dir', 'Trip_ID', 'InOut', 'STOP_SEQ', 'STOP_ID',\n",
    "                     'Period', 'AveOn', 'AveOff', 'AveLd', 'Obs']]"
   ]
  },
  {
   "cell_type": "code",
   "execution_count": 33,
   "metadata": {},
   "outputs": [],
   "source": [
    "bus_mass = {\n",
    "    11: 11000,\n",
    "    26: 19051,\n",
    "    32: 11793,\n",
    "    36: 11793,\n",
    "    37: 12247,\n",
    "    43: 14913,\n",
    "    45: 19051,\n",
    "    46: 18835,\n",
    "    60: 19051,\n",
    "    62: 19051,\n",
    "    68: 19051,\n",
    "    70: 12927,\n",
    "    72: 12927,\n",
    "    73: 12927,\n",
    "    80: 19051,\n",
    "    81: 19051,\n",
    "    82: 19051,\n",
    "    90: 12927,\n",
    "    91: 12927,\n",
    "    92: 12927,\n",
    "    95: 19051,\n",
    "    96: 19051\n",
    "        }"
   ]
  },
  {
   "cell_type": "code",
   "execution_count": 34,
   "metadata": {},
   "outputs": [],
   "source": [
    "trip183 = trip183.replace({'BusType': bus_mass})\n",
    "trip_mass = trip183[['BusType', 'KeyTrip']]\n",
    "trip_dict = dict(zip(trip_mass.KeyTrip, trip_mass.BusType))"
   ]
  },
  {
   "cell_type": "code",
   "execution_count": 35,
   "metadata": {},
   "outputs": [],
   "source": [
    "def route_ridership(period, direction, route):\n",
    "    \n",
    "    df = trip183unsum\n",
    "    df = df.drop(df[(df.Period != period)].index)\n",
    "    df = df.drop(df[(df.InOut != direction)].index)\n",
    "    df = df.drop(df[(df.Route != route)].index)\n",
    "\n",
    "    final_df = df.sort_values(by=['Trip_ID', 'STOP_SEQ', 'STOP_ID'])\n",
    "    seq_id = final_df[['STOP_SEQ', 'STOP_ID']]\n",
    "    seq_id2 = seq_id.drop_duplicates(subset=['STOP_SEQ'], keep='first')\n",
    "    seq_id3 = seq_id2.sort_values(by='STOP_SEQ')\n",
    "    stopid_dic = dict(zip(seq_id3.STOP_SEQ, seq_id3.STOP_ID))\n",
    "    riders = final_df.pivot(index='STOP_SEQ', columns='Trip_ID', values='AveLd')\n",
    "\n",
    "    keyfind = list(riders.columns)\n",
    "    mass_bus = [trip_dict[x] for x in keyfind]\n",
    "    mode = mode_mass = max(set(mass_bus), key=mass_bus.count)\n",
    "    rider_columns = list(riders.columns)\n",
    "    kept_columns = []\n",
    "\n",
    "    for i in range(0, len(mass_bus)):\n",
    "        if mass_bus[i] == mode:\n",
    "            kept_columns.append(rider_columns[i])\n",
    "\n",
    "    riders_interm = riders[kept_columns]\n",
    "    riders_kept = pd.DataFrame((riders_interm.mean(axis=1)), columns=['Mean'])\n",
    "    riders_kept.Mean*=80\n",
    "    riders_kept.reset_index(inplace=True)\n",
    "    riders_kept.replace({\"STOP_SEQ\": stopid_dic}, inplace=True)\n",
    "    riders_kept.columns = ['STOP_ID', 'Mean']\n",
    "\n",
    "\n",
    "\n",
    "    return final_df, riders_kept, mode_mass"
   ]
  },
  {
   "cell_type": "code",
   "execution_count": 36,
   "metadata": {},
   "outputs": [],
   "source": [
    "df_45, riders_45, mass_45 = route_ridership('AM', 'I', 45)"
   ]
  },
  {
   "cell_type": "code",
   "execution_count": 10,
   "metadata": {},
   "outputs": [
    {
     "data": {
      "text/html": [
       "<div>\n",
       "<style scoped>\n",
       "    .dataframe tbody tr th:only-of-type {\n",
       "        vertical-align: middle;\n",
       "    }\n",
       "\n",
       "    .dataframe tbody tr th {\n",
       "        vertical-align: top;\n",
       "    }\n",
       "\n",
       "    .dataframe thead th {\n",
       "        text-align: right;\n",
       "    }\n",
       "</style>\n",
       "<table border=\"1\" class=\"dataframe\">\n",
       "  <thead>\n",
       "    <tr style=\"text-align: right;\">\n",
       "      <th></th>\n",
       "      <th>STOP_ID</th>\n",
       "      <th>Mean</th>\n",
       "    </tr>\n",
       "  </thead>\n",
       "  <tbody>\n",
       "    <tr>\n",
       "      <th>0</th>\n",
       "      <td>35530.0</td>\n",
       "      <td>43.692308</td>\n",
       "    </tr>\n",
       "    <tr>\n",
       "      <th>1</th>\n",
       "      <td>35540.0</td>\n",
       "      <td>74.461538</td>\n",
       "    </tr>\n",
       "    <tr>\n",
       "      <th>2</th>\n",
       "      <td>35550.0</td>\n",
       "      <td>94.153846</td>\n",
       "    </tr>\n",
       "    <tr>\n",
       "      <th>3</th>\n",
       "      <td>19210.0</td>\n",
       "      <td>122.461538</td>\n",
       "    </tr>\n",
       "    <tr>\n",
       "      <th>4</th>\n",
       "      <td>35551.0</td>\n",
       "      <td>158.769231</td>\n",
       "    </tr>\n",
       "    <tr>\n",
       "      <th>5</th>\n",
       "      <td>35570.0</td>\n",
       "      <td>193.846154</td>\n",
       "    </tr>\n",
       "    <tr>\n",
       "      <th>6</th>\n",
       "      <td>35580.0</td>\n",
       "      <td>227.076923</td>\n",
       "    </tr>\n",
       "    <tr>\n",
       "      <th>7</th>\n",
       "      <td>35600.0</td>\n",
       "      <td>353.846154</td>\n",
       "    </tr>\n",
       "    <tr>\n",
       "      <th>8</th>\n",
       "      <td>35630.0</td>\n",
       "      <td>404.307692</td>\n",
       "    </tr>\n",
       "    <tr>\n",
       "      <th>9</th>\n",
       "      <td>41430.0</td>\n",
       "      <td>516.307692</td>\n",
       "    </tr>\n",
       "    <tr>\n",
       "      <th>10</th>\n",
       "      <td>35660.0</td>\n",
       "      <td>622.769231</td>\n",
       "    </tr>\n",
       "    <tr>\n",
       "      <th>11</th>\n",
       "      <td>35670.0</td>\n",
       "      <td>683.692308</td>\n",
       "    </tr>\n",
       "    <tr>\n",
       "      <th>12</th>\n",
       "      <td>5330.0</td>\n",
       "      <td>889.230769</td>\n",
       "    </tr>\n",
       "    <tr>\n",
       "      <th>13</th>\n",
       "      <td>5350.0</td>\n",
       "      <td>1048.615385</td>\n",
       "    </tr>\n",
       "    <tr>\n",
       "      <th>14</th>\n",
       "      <td>5370.0</td>\n",
       "      <td>1220.666667</td>\n",
       "    </tr>\n",
       "    <tr>\n",
       "      <th>15</th>\n",
       "      <td>5380.0</td>\n",
       "      <td>1356.666667</td>\n",
       "    </tr>\n",
       "    <tr>\n",
       "      <th>16</th>\n",
       "      <td>5400.0</td>\n",
       "      <td>1443.333333</td>\n",
       "    </tr>\n",
       "    <tr>\n",
       "      <th>17</th>\n",
       "      <td>17070.0</td>\n",
       "      <td>1497.333333</td>\n",
       "    </tr>\n",
       "    <tr>\n",
       "      <th>18</th>\n",
       "      <td>17080.0</td>\n",
       "      <td>1533.333333</td>\n",
       "    </tr>\n",
       "    <tr>\n",
       "      <th>19</th>\n",
       "      <td>35680.0</td>\n",
       "      <td>1716.666667</td>\n",
       "    </tr>\n",
       "    <tr>\n",
       "      <th>20</th>\n",
       "      <td>35690.0</td>\n",
       "      <td>1728.666667</td>\n",
       "    </tr>\n",
       "    <tr>\n",
       "      <th>21</th>\n",
       "      <td>35710.0</td>\n",
       "      <td>1776.000000</td>\n",
       "    </tr>\n",
       "    <tr>\n",
       "      <th>22</th>\n",
       "      <td>35720.0</td>\n",
       "      <td>1849.333333</td>\n",
       "    </tr>\n",
       "    <tr>\n",
       "      <th>23</th>\n",
       "      <td>16390.0</td>\n",
       "      <td>2025.333333</td>\n",
       "    </tr>\n",
       "    <tr>\n",
       "      <th>24</th>\n",
       "      <td>16400.0</td>\n",
       "      <td>2042.666667</td>\n",
       "    </tr>\n",
       "    <tr>\n",
       "      <th>25</th>\n",
       "      <td>16410.0</td>\n",
       "      <td>2170.181818</td>\n",
       "    </tr>\n",
       "    <tr>\n",
       "      <th>26</th>\n",
       "      <td>16416.0</td>\n",
       "      <td>2080.000000</td>\n",
       "    </tr>\n",
       "    <tr>\n",
       "      <th>27</th>\n",
       "      <td>16440.0</td>\n",
       "      <td>2149.818182</td>\n",
       "    </tr>\n",
       "    <tr>\n",
       "      <th>28</th>\n",
       "      <td>16465.0</td>\n",
       "      <td>2243.636364</td>\n",
       "    </tr>\n",
       "    <tr>\n",
       "      <th>29</th>\n",
       "      <td>38022.0</td>\n",
       "      <td>2437.818182</td>\n",
       "    </tr>\n",
       "    <tr>\n",
       "      <th>30</th>\n",
       "      <td>38024.0</td>\n",
       "      <td>2697.454545</td>\n",
       "    </tr>\n",
       "    <tr>\n",
       "      <th>31</th>\n",
       "      <td>9132.0</td>\n",
       "      <td>2775.272727</td>\n",
       "    </tr>\n",
       "    <tr>\n",
       "      <th>32</th>\n",
       "      <td>9133.0</td>\n",
       "      <td>2661.090909</td>\n",
       "    </tr>\n",
       "    <tr>\n",
       "      <th>33</th>\n",
       "      <td>9134.0</td>\n",
       "      <td>2146.181818</td>\n",
       "    </tr>\n",
       "    <tr>\n",
       "      <th>34</th>\n",
       "      <td>9142.0</td>\n",
       "      <td>1552.800000</td>\n",
       "    </tr>\n",
       "    <tr>\n",
       "      <th>35</th>\n",
       "      <td>29240.0</td>\n",
       "      <td>883.200000</td>\n",
       "    </tr>\n",
       "    <tr>\n",
       "      <th>36</th>\n",
       "      <td>29242.0</td>\n",
       "      <td>414.400000</td>\n",
       "    </tr>\n",
       "    <tr>\n",
       "      <th>37</th>\n",
       "      <td>98360.0</td>\n",
       "      <td>2.400000</td>\n",
       "    </tr>\n",
       "  </tbody>\n",
       "</table>\n",
       "</div>"
      ],
      "text/plain": [
       "    STOP_ID         Mean\n",
       "0   35530.0    43.692308\n",
       "1   35540.0    74.461538\n",
       "2   35550.0    94.153846\n",
       "3   19210.0   122.461538\n",
       "4   35551.0   158.769231\n",
       "5   35570.0   193.846154\n",
       "6   35580.0   227.076923\n",
       "7   35600.0   353.846154\n",
       "8   35630.0   404.307692\n",
       "9   41430.0   516.307692\n",
       "10  35660.0   622.769231\n",
       "11  35670.0   683.692308\n",
       "12   5330.0   889.230769\n",
       "13   5350.0  1048.615385\n",
       "14   5370.0  1220.666667\n",
       "15   5380.0  1356.666667\n",
       "16   5400.0  1443.333333\n",
       "17  17070.0  1497.333333\n",
       "18  17080.0  1533.333333\n",
       "19  35680.0  1716.666667\n",
       "20  35690.0  1728.666667\n",
       "21  35710.0  1776.000000\n",
       "22  35720.0  1849.333333\n",
       "23  16390.0  2025.333333\n",
       "24  16400.0  2042.666667\n",
       "25  16410.0  2170.181818\n",
       "26  16416.0  2080.000000\n",
       "27  16440.0  2149.818182\n",
       "28  16465.0  2243.636364\n",
       "29  38022.0  2437.818182\n",
       "30  38024.0  2697.454545\n",
       "31   9132.0  2775.272727\n",
       "32   9133.0  2661.090909\n",
       "33   9134.0  2146.181818\n",
       "34   9142.0  1552.800000\n",
       "35  29240.0   883.200000\n",
       "36  29242.0   414.400000\n",
       "37  98360.0     2.400000"
      ]
     },
     "execution_count": 10,
     "metadata": {},
     "output_type": "execute_result"
    }
   ],
   "source": [
    "riders_45"
   ]
  },
  {
   "cell_type": "code",
   "execution_count": 11,
   "metadata": {},
   "outputs": [],
   "source": [
    "routes_shp = '../data/six_routes.shp'\n",
    "stops_shp = '../data/Transit_Stops_for_King_County_Metro__transitstop_point.shp'"
   ]
  },
  {
   "cell_type": "code",
   "execution_count": 12,
   "metadata": {},
   "outputs": [],
   "source": [
    "def stop_coord(num, riders_num):\n",
    "    route_num = num\n",
    "    \n",
    "    route = base.read_shape(routes_shp, route_num)\n",
    "    points = base.extract_point_df(route)\n",
    "    stops = gpd.read_file(stops_shp)\n",
    "    stops['ROUTE_LIST'].fillna(value=str(0), inplace=True)\n",
    "    \n",
    "    stops_list = pd.DataFrame()\n",
    "    for i in range(0, len(stops)):\n",
    "    \n",
    "        if str(route_num) in (stops['ROUTE_LIST'][i]):\n",
    "            for x in stops['ROUTE_LIST'][i].split(' '):\n",
    "                if str(route_num) == x:\n",
    "                    stops_list = stops_list.append(stops.iloc[i])\n",
    "                else:\n",
    "                    pass\n",
    "        else:\n",
    "            pass\n",
    "        \n",
    "    stop_ids = stops_list['STOP_ID'].values\n",
    "    \n",
    "    geometry = stops_list.geometry.values\n",
    "\n",
    "    xy = []\n",
    "    for i in range(len(geometry)):\n",
    "        dic = mapping(geometry[i])\n",
    "        coords = dic['coordinates']\n",
    "        xy.append(coords)\n",
    "        xy_df = pd.DataFrame(columns = ['STOP_ID','coordinates'])\n",
    "        xy_df['coordinates'] = xy\n",
    "    \n",
    "    xy_df['STOP_ID'] = stops_list['STOP_ID'].values\n",
    "    \n",
    "    df = riders_num\n",
    "    df_ind = df.reset_index()\n",
    "    df_ind.columns = ['STOP_SEQ', 'STOP_ID', 'Mean']\n",
    "    \n",
    "    df_comb = xy_df.merge(df_ind, how='right', on=\"STOP_ID\")\n",
    "    df_comb = df_comb.drop_duplicates(subset=['STOP_ID'], keep='first')\n",
    "    df_comb = df_comb[['STOP_SEQ', 'STOP_ID', 'coordinates', 'Mean']]\n",
    "    df_combine = df_comb.sort_values(by='STOP_SEQ')\n",
    "    \n",
    "    return xy_df, df_combine"
   ]
  },
  {
   "cell_type": "code",
   "execution_count": 13,
   "metadata": {},
   "outputs": [],
   "source": [
    "coordinates_45, final_45 = stop_coord(45, riders_45)"
   ]
  },
  {
   "cell_type": "code",
   "execution_count": 14,
   "metadata": {},
   "outputs": [
    {
     "data": {
      "text/html": [
       "<div>\n",
       "<style scoped>\n",
       "    .dataframe tbody tr th:only-of-type {\n",
       "        vertical-align: middle;\n",
       "    }\n",
       "\n",
       "    .dataframe tbody tr th {\n",
       "        vertical-align: top;\n",
       "    }\n",
       "\n",
       "    .dataframe thead th {\n",
       "        text-align: right;\n",
       "    }\n",
       "</style>\n",
       "<table border=\"1\" class=\"dataframe\">\n",
       "  <thead>\n",
       "    <tr style=\"text-align: right;\">\n",
       "      <th></th>\n",
       "      <th>STOP_ID</th>\n",
       "      <th>coordinates</th>\n",
       "    </tr>\n",
       "  </thead>\n",
       "  <tbody>\n",
       "    <tr>\n",
       "      <th>0</th>\n",
       "      <td>5330.0</td>\n",
       "      <td>(-122.35493491168019, 47.69052891200809)</td>\n",
       "    </tr>\n",
       "    <tr>\n",
       "      <th>1</th>\n",
       "      <td>5350.0</td>\n",
       "      <td>(-122.34960617887032, 47.6905094486964)</td>\n",
       "    </tr>\n",
       "    <tr>\n",
       "      <th>2</th>\n",
       "      <td>5370.0</td>\n",
       "      <td>(-122.34472418112374, 47.69049011915158)</td>\n",
       "    </tr>\n",
       "    <tr>\n",
       "      <th>3</th>\n",
       "      <td>5380.0</td>\n",
       "      <td>(-122.34150318558568, 47.69047109565094)</td>\n",
       "    </tr>\n",
       "    <tr>\n",
       "      <th>4</th>\n",
       "      <td>5400.0</td>\n",
       "      <td>(-122.33660476604088, 47.6904450549253)</td>\n",
       "    </tr>\n",
       "  </tbody>\n",
       "</table>\n",
       "</div>"
      ],
      "text/plain": [
       "   STOP_ID                               coordinates\n",
       "0   5330.0  (-122.35493491168019, 47.69052891200809)\n",
       "1   5350.0   (-122.34960617887032, 47.6905094486964)\n",
       "2   5370.0  (-122.34472418112374, 47.69049011915158)\n",
       "3   5380.0  (-122.34150318558568, 47.69047109565094)\n",
       "4   5400.0   (-122.33660476604088, 47.6904450549253)"
      ]
     },
     "execution_count": 14,
     "metadata": {},
     "output_type": "execute_result"
    }
   ],
   "source": [
    "coordinates_45.head()"
   ]
  },
  {
   "cell_type": "code",
   "execution_count": 15,
   "metadata": {},
   "outputs": [
    {
     "data": {
      "text/html": [
       "<div>\n",
       "<style scoped>\n",
       "    .dataframe tbody tr th:only-of-type {\n",
       "        vertical-align: middle;\n",
       "    }\n",
       "\n",
       "    .dataframe tbody tr th {\n",
       "        vertical-align: top;\n",
       "    }\n",
       "\n",
       "    .dataframe thead th {\n",
       "        text-align: right;\n",
       "    }\n",
       "</style>\n",
       "<table border=\"1\" class=\"dataframe\">\n",
       "  <thead>\n",
       "    <tr style=\"text-align: right;\">\n",
       "      <th></th>\n",
       "      <th>STOP_SEQ</th>\n",
       "      <th>STOP_ID</th>\n",
       "      <th>coordinates</th>\n",
       "      <th>Mean</th>\n",
       "    </tr>\n",
       "  </thead>\n",
       "  <tbody>\n",
       "    <tr>\n",
       "      <th>56</th>\n",
       "      <td>0</td>\n",
       "      <td>35530.0</td>\n",
       "      <td>(-122.39786618471946, 47.690295853436986)</td>\n",
       "      <td>43.692308</td>\n",
       "    </tr>\n",
       "    <tr>\n",
       "      <th>58</th>\n",
       "      <td>1</td>\n",
       "      <td>35540.0</td>\n",
       "      <td>(-122.39653218098778, 47.690500893105884)</td>\n",
       "      <td>74.461538</td>\n",
       "    </tr>\n",
       "    <tr>\n",
       "      <th>60</th>\n",
       "      <td>2</td>\n",
       "      <td>35550.0</td>\n",
       "      <td>(-122.3941645942555, 47.69050290761158)</td>\n",
       "      <td>94.153846</td>\n",
       "    </tr>\n",
       "    <tr>\n",
       "      <th>36</th>\n",
       "      <td>3</td>\n",
       "      <td>19210.0</td>\n",
       "      <td>(-122.39161830818995, 47.69050457451431)</td>\n",
       "      <td>122.461538</td>\n",
       "    </tr>\n",
       "    <tr>\n",
       "      <th>62</th>\n",
       "      <td>4</td>\n",
       "      <td>35551.0</td>\n",
       "      <td>(-122.38776029322838, 47.690506809007324)</td>\n",
       "      <td>158.769231</td>\n",
       "    </tr>\n",
       "  </tbody>\n",
       "</table>\n",
       "</div>"
      ],
      "text/plain": [
       "    STOP_SEQ  STOP_ID                                coordinates        Mean\n",
       "56         0  35530.0  (-122.39786618471946, 47.690295853436986)   43.692308\n",
       "58         1  35540.0  (-122.39653218098778, 47.690500893105884)   74.461538\n",
       "60         2  35550.0    (-122.3941645942555, 47.69050290761158)   94.153846\n",
       "36         3  19210.0   (-122.39161830818995, 47.69050457451431)  122.461538\n",
       "62         4  35551.0  (-122.38776029322838, 47.690506809007324)  158.769231"
      ]
     },
     "execution_count": 15,
     "metadata": {},
     "output_type": "execute_result"
    }
   ],
   "source": [
    "final_45.head()"
   ]
  },
  {
   "cell_type": "code",
   "execution_count": 28,
   "metadata": {},
   "outputs": [
    {
     "data": {
      "text/plain": [
       "array([(-122.39786618471946, 47.690295853436986),\n",
       "       (-122.39653218098778, 47.690500893105884),\n",
       "       (-122.3941645942555, 47.69050290761158),\n",
       "       (-122.39161830818995, 47.69050457451431),\n",
       "       (-122.38776029322838, 47.690506809007324),\n",
       "       (-122.38402033023164, 47.69051827478684),\n",
       "       (-122.38186811567802, 47.69052450657306),\n",
       "       (-122.37643891195872, 47.69054221241847),\n",
       "       (-122.37003126702969, 47.690569566890574),\n",
       "       (-122.36546698895918, 47.69058385834804),\n",
       "       (-122.3602800879014, 47.690554760978245),\n",
       "       (-122.35765616907172, 47.69053970873586),\n",
       "       (-122.35493491168019, 47.69052891200809),\n",
       "       (-122.34960617887032, 47.6905094486964),\n",
       "       (-122.34472418112374, 47.69049011915158),\n",
       "       (-122.34150318558568, 47.69047109565094),\n",
       "       (-122.33660476604088, 47.6904450549253),\n",
       "       (-122.33650469381267, 47.688530261542994),\n",
       "       (-122.33647017353609, 47.687056340469276),\n",
       "       (-122.33656263770621, 47.685480112620745),\n",
       "       (-122.33454509131116, 47.68381489288642),\n",
       "       (-122.32945717433618, 47.68254426165376),\n",
       "       (-122.32735158928367, 47.68147673402408),\n",
       "       (-122.32484106949721, 47.67846381219627),\n",
       "       (-122.32386826898987, 47.67738824360775), nan,\n",
       "       (-122.3201317892374, 47.67578391518564),\n",
       "       (-122.31746320238092, 47.67545676572092),\n",
       "       (-122.31697458438391, 47.67185137551875),\n",
       "       (-122.31313131217128, 47.670751919741804),\n",
       "       (-122.31312274960679, 47.668312481052375),\n",
       "       (-122.31318644939772, 47.66413395456641),\n",
       "       (-122.31321471464462, 47.66227533914786),\n",
       "       (-122.3132674595906, 47.65985100660268),\n",
       "       (-122.3133430177243, 47.65694515752522),\n",
       "       (-122.31120460436249, 47.65224737765437), nan, nan], dtype=object)"
      ]
     },
     "execution_count": 28,
     "metadata": {},
     "output_type": "execute_result"
    }
   ],
   "source": []
  },
  {
   "cell_type": "code",
   "execution_count": 16,
   "metadata": {},
   "outputs": [],
   "source": [
    "df_45_ami, riders_45ami, mass_45ami = route_ridership('AM', 'I', 45)\n",
    "df_45amo, riders_45amo, mass_45amo = route_ridership('AM', 'O', 45)"
   ]
  },
  {
   "cell_type": "code",
   "execution_count": 17,
   "metadata": {},
   "outputs": [],
   "source": [
    "df_45pmi, riders_45pmi, mass_45pmi = route_ridership('PM', 'I', 45)\n",
    "df_45pmo, riders_45pmo, mass_45pmo = route_ridership('PM', 'O', 45)"
   ]
  },
  {
   "cell_type": "code",
   "execution_count": 18,
   "metadata": {},
   "outputs": [
    {
     "data": {
      "text/html": [
       "<div>\n",
       "<style scoped>\n",
       "    .dataframe tbody tr th:only-of-type {\n",
       "        vertical-align: middle;\n",
       "    }\n",
       "\n",
       "    .dataframe tbody tr th {\n",
       "        vertical-align: top;\n",
       "    }\n",
       "\n",
       "    .dataframe thead th {\n",
       "        text-align: right;\n",
       "    }\n",
       "</style>\n",
       "<table border=\"1\" class=\"dataframe\">\n",
       "  <thead>\n",
       "    <tr style=\"text-align: right;\">\n",
       "      <th></th>\n",
       "      <th>STOP_ID</th>\n",
       "      <th>Mean</th>\n",
       "    </tr>\n",
       "  </thead>\n",
       "  <tbody>\n",
       "    <tr>\n",
       "      <th>0</th>\n",
       "      <td>35530.0</td>\n",
       "      <td>101.647059</td>\n",
       "    </tr>\n",
       "    <tr>\n",
       "      <th>1</th>\n",
       "      <td>35540.0</td>\n",
       "      <td>112.000000</td>\n",
       "    </tr>\n",
       "    <tr>\n",
       "      <th>2</th>\n",
       "      <td>35550.0</td>\n",
       "      <td>121.333333</td>\n",
       "    </tr>\n",
       "    <tr>\n",
       "      <th>3</th>\n",
       "      <td>19210.0</td>\n",
       "      <td>132.888889</td>\n",
       "    </tr>\n",
       "    <tr>\n",
       "      <th>4</th>\n",
       "      <td>35551.0</td>\n",
       "      <td>153.333333</td>\n",
       "    </tr>\n",
       "  </tbody>\n",
       "</table>\n",
       "</div>"
      ],
      "text/plain": [
       "   STOP_ID        Mean\n",
       "0  35530.0  101.647059\n",
       "1  35540.0  112.000000\n",
       "2  35550.0  121.333333\n",
       "3  19210.0  132.888889\n",
       "4  35551.0  153.333333"
      ]
     },
     "execution_count": 18,
     "metadata": {},
     "output_type": "execute_result"
    }
   ],
   "source": [
    "riders_45pmi.head()"
   ]
  },
  {
   "cell_type": "code",
   "execution_count": 19,
   "metadata": {},
   "outputs": [],
   "source": [
    "df_45ami, riders_45ami, mass_45ami = route_ridership('AM', 'I', 45)\n",
    "df_45midi, riders_45midi, mass_45midi = route_ridership('MID', 'I', 45)\n",
    "df_45pmi, riders_45pmi, mass_45pmi = route_ridership('PM', 'I', 45)\n",
    "df_45xnti, riders_45xnti, mass_45xnti = route_ridership('XNT', 'I', 45)\n",
    "df_45xevi, riders_45xevi, mass_45xevi = route_ridership('XEV', 'I', 45)"
   ]
  },
  {
   "cell_type": "code",
   "execution_count": 20,
   "metadata": {},
   "outputs": [],
   "source": [
    "riders45ami = riders_45ami / 80\n",
    "riders45midi = riders_45midi / 80\n",
    "riders45pmi = riders_45pmi / 80\n",
    "riders45xevi = riders_45xevi / 80\n",
    "riders45xnti = riders_45xnti / 80"
   ]
  },
  {
   "cell_type": "code",
   "execution_count": 21,
   "metadata": {},
   "outputs": [],
   "source": [
    "riders45pmo = riders_45pmo / 80\n",
    "riders45pmi = riders_45pmi / 80"
   ]
  },
  {
   "cell_type": "code",
   "execution_count": 22,
   "metadata": {},
   "outputs": [
    {
     "data": {
      "text/html": [
       "<div>\n",
       "<style scoped>\n",
       "    .dataframe tbody tr th:only-of-type {\n",
       "        vertical-align: middle;\n",
       "    }\n",
       "\n",
       "    .dataframe tbody tr th {\n",
       "        vertical-align: top;\n",
       "    }\n",
       "\n",
       "    .dataframe thead th {\n",
       "        text-align: right;\n",
       "    }\n",
       "</style>\n",
       "<table border=\"1\" class=\"dataframe\">\n",
       "  <thead>\n",
       "    <tr style=\"text-align: right;\">\n",
       "      <th></th>\n",
       "      <th>STOP_ID</th>\n",
       "      <th>Mean</th>\n",
       "    </tr>\n",
       "  </thead>\n",
       "  <tbody>\n",
       "    <tr>\n",
       "      <th>0</th>\n",
       "      <td>35530.0</td>\n",
       "      <td>43.692308</td>\n",
       "    </tr>\n",
       "    <tr>\n",
       "      <th>1</th>\n",
       "      <td>35540.0</td>\n",
       "      <td>74.461538</td>\n",
       "    </tr>\n",
       "    <tr>\n",
       "      <th>2</th>\n",
       "      <td>35550.0</td>\n",
       "      <td>94.153846</td>\n",
       "    </tr>\n",
       "    <tr>\n",
       "      <th>3</th>\n",
       "      <td>19210.0</td>\n",
       "      <td>122.461538</td>\n",
       "    </tr>\n",
       "    <tr>\n",
       "      <th>4</th>\n",
       "      <td>35551.0</td>\n",
       "      <td>158.769231</td>\n",
       "    </tr>\n",
       "  </tbody>\n",
       "</table>\n",
       "</div>"
      ],
      "text/plain": [
       "   STOP_ID        Mean\n",
       "0  35530.0   43.692308\n",
       "1  35540.0   74.461538\n",
       "2  35550.0   94.153846\n",
       "3  19210.0  122.461538\n",
       "4  35551.0  158.769231"
      ]
     },
     "execution_count": 22,
     "metadata": {},
     "output_type": "execute_result"
    }
   ],
   "source": [
    "riders_45ami.head()"
   ]
  },
  {
   "cell_type": "code",
   "execution_count": 23,
   "metadata": {},
   "outputs": [
    {
     "data": {
      "image/png": "[encoded data removed]",
      "text/plain": [
       "<Figure size 576x576 with 1 Axes>"
      ]
     },
     "metadata": {
      "needs_background": "light"
     },
     "output_type": "display_data"
    }
   ],
   "source": [
    "plt.figure(figsize=(8,8))\n",
    "plt.plot(riders45pmo['Mean'], label='PM Outbound Segment', linewidth=4)\n",
    "plt.plot(riders45pmi['Mean'], label='PM Inbound Segment', linewidth=4)\n",
    "plt.legend()\n",
    "plt.xlabel('Stop Sequence', size=16)\n",
    "plt.ylabel('Average Number of Riders', size=16)\n",
    "plt.title('Route 45 Inbound vs Outbound Riders', size=24)\n",
    "plt.savefig('Outbound_Inbound_45.png', dpi=300)"
   ]
  },
  {
   "cell_type": "code",
   "execution_count": 24,
   "metadata": {},
   "outputs": [
    {
     "data": {
      "text/plain": [
       "Text(0.5, 1.0, 'Number of Riders on Route 45 (Inbound)')"
      ]
     },
     "execution_count": 24,
     "metadata": {},
     "output_type": "execute_result"
    },
    {
     "data": {
      "image/png": "[encoded data removed]",
      "text/plain": [
       "<Figure size 576x576 with 1 Axes>"
      ]
     },
     "metadata": {
      "needs_background": "light"
     },
     "output_type": "display_data"
    }
   ],
   "source": [
    "plt.figure(figsize=(8,8))\n",
    "AM_plot = plt.plot(riders45ami['Mean'], label='Morning (5AM-9AM)', linewidth=4)\n",
    "MID_plot = plt.plot(riders45midi['Mean'], label='Mid-Day (9AM-3PM)', linewidth=4)\n",
    "PM_plot = plt.plot(riders45pmi['Mean'], label='Late Afternoon (3PM-7PM)', linewidth=4)\n",
    "XEV_plot = plt.plot(riders45xevi['Mean'], label='Evening (7PM-10PM)', linewidth=4)\n",
    "XNT_plot = plt.plot(riders45xnti['Mean'], label='Late Night (10PM-5AM)', linewidth=4)\n",
    "plt.legend()\n",
    "plt.xlabel('Stop Sequence', size=16)\n",
    "plt.ylabel('Average Number of Riders', size=16)\n",
    "plt.title('Number of Riders on Route 45 (Inbound)', size=24)\n",
    "#plt.savefig('Ridership_daysegments.png', dpi=300)"
   ]
  },
  {
   "cell_type": "code",
   "execution_count": null,
   "metadata": {},
   "outputs": [],
   "source": []
  },
  {
   "cell_type": "code",
   "execution_count": 25,
   "metadata": {},
   "outputs": [],
   "source": [
    "df_45amo, riders_45amo, mass_45amo = route_ridership('AM', 'O', 45)\n",
    "df_45mido, riders_45mido, mass_45mido = route_ridership('MID', 'O', 45)\n",
    "df_45pmo, riders_45pmo, mass_45pmo = route_ridership('PM', 'O', 45)\n",
    "df_45xevo, riders_45xevo, mass_45xevo = route_ridership('XEV', 'O', 45)\n",
    "df_45xnto, riders_45xnto, mass_45xnto = route_ridership('XNT', 'O', 45)"
   ]
  },
  {
   "cell_type": "code",
   "execution_count": 26,
   "metadata": {},
   "outputs": [
    {
     "data": {
      "text/plain": [
       "<matplotlib.legend.Legend at 0x121729278>"
      ]
     },
     "execution_count": 26,
     "metadata": {},
     "output_type": "execute_result"
    },
    {
     "data": {
      "image/png": "[encoded data removed]",
      "text/plain": [
       "<Figure size 432x288 with 1 Axes>"
      ]
     },
     "metadata": {
      "needs_background": "light"
     },
     "output_type": "display_data"
    }
   ],
   "source": [
    "AM_ploto = plt.plot(riders_45amo['Mean'], label='AM')\n",
    "MID_ploto = plt.plot(riders_45mido['Mean'], label='MID')\n",
    "PM_ploto = plt.plot(riders_45pmo['Mean'], label='PM')\n",
    "XEV_ploto = plt.plot(riders_45xevo['Mean'], label='XEV')\n",
    "XNT_ploto = plt.plot(riders_45xnto['Mean'], label='XNT')\n",
    "plt.legend()"
   ]
  },
  {
   "cell_type": "code",
   "execution_count": null,
   "metadata": {},
   "outputs": [],
   "source": []
  }
 ],
 "metadata": {
  "kernelspec": {
   "display_name": "Python 3",
   "language": "python",
   "name": "python3"
  },
  "language_info": {
   "codemirror_mode": {
    "name": "ipython",
    "version": 3
   },
   "file_extension": ".py",
   "mimetype": "text/x-python",
   "name": "python",
   "nbconvert_exporter": "python",
   "pygments_lexer": "ipython3",
   "version": "3.6.7"
  }
 },
 "nbformat": 4,
 "nbformat_minor": 2
}
