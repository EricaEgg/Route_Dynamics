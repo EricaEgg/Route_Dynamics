{
 "cells": [
  {
   "cell_type": "code",
   "execution_count": 2,
   "id": "af6cf600",
   "metadata": {},
   "outputs": [],
   "source": [
    "#General imports needed for path\n",
    "import os \n",
    "import sys\n",
    "module_path = os.path.abspath(os.path.join('..'))\n",
    "sys.path.append(module_path)"
   ]
  },
  {
   "cell_type": "code",
   "execution_count": 3,
   "id": "35ce0fa1",
   "metadata": {},
   "outputs": [],
   "source": [
    "import numpy as np\n",
    "import pandas as pd\n",
    "import geopandas as gpd\n",
    "from shapely.geometry import mapping"
   ]
  },
  {
   "cell_type": "code",
   "execution_count": 4,
   "id": "a8ea998d",
   "metadata": {},
   "outputs": [],
   "source": [
    "import route_dynamics.route_elevation.base_df as base\n",
    "from route_dynamics.route_riders import route_riders as ride"
   ]
  },
  {
   "cell_type": "code",
   "execution_count": 5,
   "id": "93e05aab",
   "metadata": {},
   "outputs": [],
   "source": [
    "#User defines what routes they want to evaluate\n",
    "rt_list = [22,101,102,143,150,153,154,156,157,158,159,168,169,177,178,179,180,181,182,183,186,187,190,192]\n",
    "\n",
    "#Import route shapefile\n",
    "shapefile_name = '../data/rt' + str(rt_list[0]) + '_pts2.shp'\n",
    "\n",
    "#Import bus stops shapefile\n",
    "routes_shp = '../data/Transit_Routes_for_King_County_Metro__transitroute_line.shp'\n",
    "\n",
    "stops_shp = '../data/Transit_Stops_for_King_County_Metro__transitstop_point.shp'\n",
    "\n",
    "signals_shp = '../data/traffic_signals2.shp'\n",
    "\n",
    "streets = '../data/Metro_Transportation_Network_(TNET)_in_King_County_for_Car_Mode___trans_network_car_line.shp'"
   ]
  },
  {
   "cell_type": "code",
   "execution_count": 6,
   "id": "f1e41425",
   "metadata": {},
   "outputs": [
    {
     "data": {
      "text/html": [
       "<div>\n",
       "<style scoped>\n",
       "    .dataframe tbody tr th:only-of-type {\n",
       "        vertical-align: middle;\n",
       "    }\n",
       "\n",
       "    .dataframe tbody tr th {\n",
       "        vertical-align: top;\n",
       "    }\n",
       "\n",
       "    .dataframe thead th {\n",
       "        text-align: right;\n",
       "    }\n",
       "</style>\n",
       "<table border=\"1\" class=\"dataframe\">\n",
       "  <thead>\n",
       "    <tr style=\"text-align: right;\">\n",
       "      <th></th>\n",
       "      <th>geometry</th>\n",
       "      <th>distance</th>\n",
       "      <th>elevation</th>\n",
       "      <th>speed_limit</th>\n",
       "      <th>grade</th>\n",
       "    </tr>\n",
       "  </thead>\n",
       "  <tbody>\n",
       "    <tr>\n",
       "      <th>0</th>\n",
       "      <td>POINT (-122.38813 47.56295)</td>\n",
       "      <td>0.0000</td>\n",
       "      <td>99.398090</td>\n",
       "      <td>11.175682</td>\n",
       "      <td>0.000000</td>\n",
       "    </tr>\n",
       "    <tr>\n",
       "      <th>1</th>\n",
       "      <td>POINT (-122.38798 47.56295)</td>\n",
       "      <td>10.9728</td>\n",
       "      <td>99.874774</td>\n",
       "      <td>11.175682</td>\n",
       "      <td>0.043442</td>\n",
       "    </tr>\n",
       "    <tr>\n",
       "      <th>2</th>\n",
       "      <td>POINT (-122.38784 47.56295)</td>\n",
       "      <td>21.9456</td>\n",
       "      <td>100.272354</td>\n",
       "      <td>11.175682</td>\n",
       "      <td>0.036233</td>\n",
       "    </tr>\n",
       "    <tr>\n",
       "      <th>3</th>\n",
       "      <td>POINT (-122.38769 47.56295)</td>\n",
       "      <td>32.9184</td>\n",
       "      <td>100.594760</td>\n",
       "      <td>11.175682</td>\n",
       "      <td>0.029382</td>\n",
       "    </tr>\n",
       "    <tr>\n",
       "      <th>4</th>\n",
       "      <td>POINT (-122.38754 47.56295)</td>\n",
       "      <td>43.8912</td>\n",
       "      <td>100.845922</td>\n",
       "      <td>11.175682</td>\n",
       "      <td>0.022889</td>\n",
       "    </tr>\n",
       "  </tbody>\n",
       "</table>\n",
       "</div>"
      ],
      "text/plain": [
       "                      geometry  distance   elevation  speed_limit     grade\n",
       "0  POINT (-122.38813 47.56295)    0.0000   99.398090    11.175682  0.000000\n",
       "1  POINT (-122.38798 47.56295)   10.9728   99.874774    11.175682  0.043442\n",
       "2  POINT (-122.38784 47.56295)   21.9456  100.272354    11.175682  0.036233\n",
       "3  POINT (-122.38769 47.56295)   32.9184  100.594760    11.175682  0.029382\n",
       "4  POINT (-122.38754 47.56295)   43.8912  100.845922    11.175682  0.022889"
      ]
     },
     "execution_count": 6,
     "metadata": {},
     "output_type": "execute_result"
    }
   ],
   "source": [
    "route_df = base.wrapper(shapefile_name, 6, 6)\n",
    "route_df.head()"
   ]
  },
  {
   "cell_type": "code",
   "execution_count": 7,
   "id": "58417c9a",
   "metadata": {},
   "outputs": [
    {
     "name": "stderr",
     "output_type": "stream",
     "text": [
      "/Users/ericaeggleton/Route_Dynamics/route_dynamics/route_riders/route_riders.py:65: SettingWithCopyWarning: \n",
      "A value is trying to be set on a copy of a slice from a DataFrame\n",
      "\n",
      "See the caveats in the documentation: https://pandas.pydata.org/pandas-docs/stable/user_guide/indexing.html#returning-a-view-versus-a-copy\n",
      "  final_df['geometry'].iloc[i] = copy\n"
     ]
    }
   ],
   "source": [
    "trip_df = ride.route_ridership('PM', rt_list[0], 14000)\n",
    "geometry = trip_df.geometry.values"
   ]
  },
  {
   "cell_type": "code",
   "execution_count": 8,
   "id": "237c6f1f",
   "metadata": {},
   "outputs": [],
   "source": [
    "xy = []\n",
    "for i in range(len(geometry)):\n",
    "    dic = mapping(geometry[i][0])\n",
    "    coords = dic['coordinates']\n",
    "    xy.append(coords)\n",
    "    xy_df = pd.DataFrame(columns = ['STOP_ID','coordinates'])\n",
    "    xy_df['coordinates'] = xy\n",
    "    \n",
    "xy_df\n",
    "\n",
    "stop_coords = xy_df.coordinates.values"
   ]
  },
  {
   "cell_type": "code",
   "execution_count": 9,
   "id": "8b21a1f0",
   "metadata": {},
   "outputs": [
    {
     "data": {
      "text/plain": [
       "88"
      ]
     },
     "execution_count": 9,
     "metadata": {},
     "output_type": "execute_result"
    }
   ],
   "source": [
    "len(stop_coords)"
   ]
  },
  {
   "cell_type": "code",
   "execution_count": null,
   "id": "d27b0db0",
   "metadata": {},
   "outputs": [],
   "source": []
  },
  {
   "cell_type": "code",
   "execution_count": 10,
   "id": "d801b492",
   "metadata": {},
   "outputs": [
    {
     "data": {
      "text/plain": [
       "array([((-122.38721468411738, 47.54487174863671),),\n",
       "       ((-122.36591223848691, 47.51736351230742),),\n",
       "       ((-122.36046009360943, 47.528283928977466),),\n",
       "       ((-122.37139731666116, 47.5174259120546),),\n",
       "       ((-122.38677779317288, 47.5611069126548),),\n",
       "       ((-122.37663707152576, 47.52828465064901),),\n",
       "       ((-122.38677604222957, 47.56291209080216),),\n",
       "       ((-122.37688399553113, 47.5174880253816),),\n",
       "       ((-122.36009964550894, 47.52286151985785),),\n",
       "       ((-122.36589440460489, 47.52102134912755),),\n",
       "       ((-122.38719564896368, 47.54668253964439),),\n",
       "       ((-122.38726107814564, 47.54073076076407),),\n",
       "       ((-122.38682946854995, 47.55932470413577),),\n",
       "       ((-122.36047870995853, 47.52469382133861),),\n",
       "       ((-122.36728387958645, 47.51737832557316),),\n",
       "       ((-122.36581573707791, 47.50822880157785),)], dtype=object)"
      ]
     },
     "execution_count": 10,
     "metadata": {},
     "output_type": "execute_result"
    }
   ],
   "source": [
    "signals = gpd.read_file(signals_shp)\n",
    "signals = signals[signals['Route_Num']==str(rt_list[0])]\n",
    "geometry = signals.geometry.values\n",
    "xy = []\n",
    "for i in range(len(geometry)):\n",
    "    dic = mapping(geometry[i])\n",
    "    coords = dic['coordinates']\n",
    "    xy.append(coords)\n",
    "    xy_df = pd.DataFrame(columns = ['STOP_ID','coordinates'])\n",
    "    xy_df['coordinates'] = xy\n",
    "    \n",
    "xy_df\n",
    "\n",
    "signal_coords = xy_df.coordinates.values\n",
    "signal_coords"
   ]
  },
  {
   "cell_type": "code",
   "execution_count": 11,
   "id": "9db9f2b3",
   "metadata": {},
   "outputs": [],
   "source": [
    "def find_knn(\n",
    "    k,\n",
    "    candidate_pts,\n",
    "    test_pts,\n",
    "    weight=None\n",
    "    ):\n",
    "    \"\"\" Takes list of points as candidate neighbors (route points) and\n",
    "        returns one for reach test point (stops) which is the nearest\n",
    "        route point to the stop.\n",
    "        \"\"\"\n",
    "\n",
    "    num_train_pts = len(candidate_pts)\n",
    "    num_test_pts = len(test_pts)\n",
    "    # Find the k nearest neighbors.\n",
    "\n",
    "    # Initialize array to store distances between data points\n",
    "    distance_array = np.zeros((num_test_pts, num_train_pts))\n",
    "\n",
    "    # Loop through rows in test data\n",
    "    for test_idx in range(num_test_pts):\n",
    "        test_coord = test_pts[test_idx]\n",
    "\n",
    "        # Loop through rows in training data\n",
    "        for train_idx in range(num_train_pts):\n",
    "            train_coord = candidate_pts[train_idx]\n",
    "\n",
    "            # Calc distance between training_data and data\n",
    "            dist = euclidean_distance(\n",
    "                train_coord,\n",
    "                test_coord\n",
    "                )\n",
    "\n",
    "            # Store distance in array\n",
    "            distance_array[test_idx, train_idx] = dist\n",
    "\n",
    "    # print('distance_array = ',distance_array)\n",
    "    # sort rows corresponding to each unclassified data point\n",
    "    sorting_idicies = np.argsort(distance_array)\n",
    "\n",
    "    # Keep only first k columns, corresponding to k nearest neighbors\n",
    "    # for each unclassified data point\n",
    "    k_nearest_indicies = sorting_idicies[:,:k]\n",
    "    # print(k_nearest_indicies.shape)\n",
    "    # print('k_nearest_indicies = ',k_nearest_indicies)\n",
    "    k_nearest_distances = distance_array[\n",
    "        np.arange(num_test_pts)[:,None], k_nearest_indicies\n",
    "        ]\n",
    "\n",
    "    # Build array to hold class of each training data point\n",
    "    points_array = np.asarray([candidate_pts]*num_test_pts)\n",
    "    k_nearest_neighbors = points_array[\n",
    "        np.arange(num_test_pts)[:,None], k_nearest_indicies\n",
    "        ]\n",
    "\n",
    "    return k_nearest_indicies, k_nearest_neighbors\n"
   ]
  },
  {
   "cell_type": "code",
   "execution_count": 12,
   "id": "01c817a4",
   "metadata": {},
   "outputs": [],
   "source": [
    "def euclidean_distance(pt_1, pt_2):\n",
    "    \"\"\" A function that returns the Euclidean distance between a row in the\n",
    "        intput data to be classified.\n",
    "        \"\"\"\n",
    "    # make sure input are np arrays\n",
    "    pt_1 = np.array(pt_1.coords)\n",
    "    pt_2 = np.array(pt_2)\n",
    "\n",
    "    eucl_dist = np.linalg.norm(pt_2 - pt_1)\n",
    "    return eucl_dist"
   ]
  },
  {
   "cell_type": "code",
   "execution_count": 13,
   "id": "ed287e3d",
   "metadata": {
    "code_folding": []
   },
   "outputs": [],
   "source": [
    "stop_nn_indicies, stop_coord_nn = find_knn(\n",
    "1,\n",
    "route_df.geometry.values,\n",
    "stop_coords\n",
    ")\n",
    "\n",
    "\n",
    "signal_nn_indicies, singal_coord_nn = find_knn(1,route_df.geometry.values, signal_coords)\n",
    "\n",
    "route_df = route_df.assign(\n",
    "is_bus_stop = ([False] * len(route_df.index))\n",
    ")\n",
    "\n",
    "route_df = route_df.assign(\n",
    "is_signal = ([False] * len(route_df.index))\n",
    ")\n",
    "\n",
    "route_df = route_df.assign(\n",
    "is_stop = ([False] * len(route_df.index))\n",
    ")\n",
    "\n",
    "for i in stop_nn_indicies.ravel():\n",
    "    route_df.at[i, 'is_bus_stop'] = True\n",
    "    route_df.at[i, 'is_stop'] = True\n",
    "    \n",
    "for i in signal_nn_indicies.ravel()[::2]:\n",
    "    route_df.at[i, 'is_stop'] = True\n",
    "    route_df.at[i, 'is_signal'] = True"
   ]
  },
  {
   "cell_type": "code",
   "execution_count": 14,
   "id": "ba23343c",
   "metadata": {},
   "outputs": [
    {
     "data": {
      "text/plain": [
       "88"
      ]
     },
     "execution_count": 14,
     "metadata": {},
     "output_type": "execute_result"
    }
   ],
   "source": [
    "len(stop_nn_indicies)"
   ]
  },
  {
   "cell_type": "code",
   "execution_count": 15,
   "id": "887eb526",
   "metadata": {},
   "outputs": [
    {
     "data": {
      "text/html": [
       "<div>\n",
       "<style scoped>\n",
       "    .dataframe tbody tr th:only-of-type {\n",
       "        vertical-align: middle;\n",
       "    }\n",
       "\n",
       "    .dataframe tbody tr th {\n",
       "        vertical-align: top;\n",
       "    }\n",
       "\n",
       "    .dataframe thead th {\n",
       "        text-align: right;\n",
       "    }\n",
       "</style>\n",
       "<table border=\"1\" class=\"dataframe\">\n",
       "  <thead>\n",
       "    <tr style=\"text-align: right;\">\n",
       "      <th></th>\n",
       "      <th>geometry</th>\n",
       "      <th>distance</th>\n",
       "      <th>elevation</th>\n",
       "      <th>speed_limit</th>\n",
       "      <th>grade</th>\n",
       "      <th>is_bus_stop</th>\n",
       "      <th>is_signal</th>\n",
       "      <th>is_stop</th>\n",
       "    </tr>\n",
       "  </thead>\n",
       "  <tbody>\n",
       "    <tr>\n",
       "      <th>0</th>\n",
       "      <td>POINT (-122.38813 47.56295)</td>\n",
       "      <td>0.0000</td>\n",
       "      <td>99.398090</td>\n",
       "      <td>11.175682</td>\n",
       "      <td>0.000000</td>\n",
       "      <td>False</td>\n",
       "      <td>False</td>\n",
       "      <td>False</td>\n",
       "    </tr>\n",
       "    <tr>\n",
       "      <th>1</th>\n",
       "      <td>POINT (-122.38798 47.56295)</td>\n",
       "      <td>10.9728</td>\n",
       "      <td>99.874774</td>\n",
       "      <td>11.175682</td>\n",
       "      <td>0.043442</td>\n",
       "      <td>False</td>\n",
       "      <td>False</td>\n",
       "      <td>False</td>\n",
       "    </tr>\n",
       "    <tr>\n",
       "      <th>2</th>\n",
       "      <td>POINT (-122.38784 47.56295)</td>\n",
       "      <td>21.9456</td>\n",
       "      <td>100.272354</td>\n",
       "      <td>11.175682</td>\n",
       "      <td>0.036233</td>\n",
       "      <td>False</td>\n",
       "      <td>False</td>\n",
       "      <td>False</td>\n",
       "    </tr>\n",
       "    <tr>\n",
       "      <th>3</th>\n",
       "      <td>POINT (-122.38769 47.56295)</td>\n",
       "      <td>32.9184</td>\n",
       "      <td>100.594760</td>\n",
       "      <td>11.175682</td>\n",
       "      <td>0.029382</td>\n",
       "      <td>False</td>\n",
       "      <td>False</td>\n",
       "      <td>False</td>\n",
       "    </tr>\n",
       "    <tr>\n",
       "      <th>4</th>\n",
       "      <td>POINT (-122.38754 47.56295)</td>\n",
       "      <td>43.8912</td>\n",
       "      <td>100.845922</td>\n",
       "      <td>11.175682</td>\n",
       "      <td>0.022889</td>\n",
       "      <td>False</td>\n",
       "      <td>False</td>\n",
       "      <td>False</td>\n",
       "    </tr>\n",
       "  </tbody>\n",
       "</table>\n",
       "</div>"
      ],
      "text/plain": [
       "                      geometry  distance   elevation  speed_limit     grade  \\\n",
       "0  POINT (-122.38813 47.56295)    0.0000   99.398090    11.175682  0.000000   \n",
       "1  POINT (-122.38798 47.56295)   10.9728   99.874774    11.175682  0.043442   \n",
       "2  POINT (-122.38784 47.56295)   21.9456  100.272354    11.175682  0.036233   \n",
       "3  POINT (-122.38769 47.56295)   32.9184  100.594760    11.175682  0.029382   \n",
       "4  POINT (-122.38754 47.56295)   43.8912  100.845922    11.175682  0.022889   \n",
       "\n",
       "   is_bus_stop  is_signal  is_stop  \n",
       "0        False      False    False  \n",
       "1        False      False    False  \n",
       "2        False      False    False  \n",
       "3        False      False    False  \n",
       "4        False      False    False  "
      ]
     },
     "execution_count": 15,
     "metadata": {},
     "output_type": "execute_result"
    }
   ],
   "source": [
    "route_df.head()"
   ]
  },
  {
   "cell_type": "code",
   "execution_count": 16,
   "id": "79a49d0b",
   "metadata": {},
   "outputs": [
    {
     "data": {
      "text/plain": [
       "False    1526\n",
       "True       94\n",
       "Name: is_stop, dtype: int64"
      ]
     },
     "execution_count": 16,
     "metadata": {},
     "output_type": "execute_result"
    }
   ],
   "source": [
    "route_df['is_stop'].value_counts()"
   ]
  },
  {
   "cell_type": "code",
   "execution_count": 17,
   "id": "1ded72a3",
   "metadata": {},
   "outputs": [
    {
     "data": {
      "text/plain": [
       "False    1534\n",
       "True       86\n",
       "Name: is_bus_stop, dtype: int64"
      ]
     },
     "execution_count": 17,
     "metadata": {},
     "output_type": "execute_result"
    }
   ],
   "source": [
    "route_df['is_bus_stop'].value_counts()"
   ]
  },
  {
   "cell_type": "code",
   "execution_count": 18,
   "id": "4d2894cf",
   "metadata": {},
   "outputs": [
    {
     "data": {
      "text/plain": [
       "False    1612\n",
       "True        8\n",
       "Name: is_signal, dtype: int64"
      ]
     },
     "execution_count": 18,
     "metadata": {},
     "output_type": "execute_result"
    }
   ],
   "source": [
    "route_df['is_signal'].value_counts()"
   ]
  },
  {
   "cell_type": "code",
   "execution_count": 19,
   "id": "432aa5e9",
   "metadata": {},
   "outputs": [
    {
     "data": {
      "text/plain": [
       "(88, 1)"
      ]
     },
     "execution_count": 19,
     "metadata": {},
     "output_type": "execute_result"
    }
   ],
   "source": [
    "np.shape(stop_nn_indicies)"
   ]
  },
  {
   "cell_type": "code",
   "execution_count": 21,
   "id": "b689bab8",
   "metadata": {},
   "outputs": [
    {
     "data": {
      "text/plain": [
       "(1,)"
      ]
     },
     "execution_count": 21,
     "metadata": {},
     "output_type": "execute_result"
    }
   ],
   "source": [
    "np.shape(stop_nn_indicies[0])"
   ]
  },
  {
   "cell_type": "code",
   "execution_count": null,
   "id": "d1ed2026",
   "metadata": {},
   "outputs": [],
   "source": []
  },
  {
   "cell_type": "code",
   "execution_count": null,
   "id": "5d473dfb",
   "metadata": {},
   "outputs": [],
   "source": []
  }
 ],
 "metadata": {
  "kernelspec": {
   "display_name": "Python 3 (ipykernel)",
   "language": "python",
   "name": "python3"
  },
  "language_info": {
   "codemirror_mode": {
    "name": "ipython",
    "version": 3
   },
   "file_extension": ".py",
   "mimetype": "text/x-python",
   "name": "python",
   "nbconvert_exporter": "python",
   "pygments_lexer": "ipython3",
   "version": "3.10.2"
  }
 },
 "nbformat": 4,
 "nbformat_minor": 5
}
