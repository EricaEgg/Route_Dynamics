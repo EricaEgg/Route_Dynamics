{
 "cells": [
  {
   "cell_type": "code",
   "execution_count": 1,
   "metadata": {},
   "outputs": [],
   "source": [
    "import math as math\n",
    "import matplotlib.pyplot as plt\n",
    "import numpy as np\n",
    "import pandas as pd"
   ]
  },
  {
   "cell_type": "code",
   "execution_count": 2,
   "metadata": {},
   "outputs": [],
   "source": [
    "import os\n",
    "import sys\n",
    "module_path = os.path.abspath(os.path.join('..'))\n",
    "sys.path.append(module_path)"
   ]
  },
  {
   "cell_type": "code",
   "execution_count": 3,
   "metadata": {},
   "outputs": [
    {
     "name": "stderr",
     "output_type": "stream",
     "text": [
      "/Users/ericaeggleton/opt/miniconda3/envs/route_dynamics/lib/python3.6/site-packages/IPython/core/interactiveshell.py:3254: DtypeWarning: Columns (46) have mixed types.Specify dtype option on import or set low_memory=False.\n",
      "  if (await self.run_code(code, result,  async_=asy)):\n"
     ]
    }
   ],
   "source": [
    "import route_dynamics.route_elevation.base_df as base\n",
    "import route_dynamics.route_energy.longi_dynam_model as ldm\n",
    "from route_dynamics.route_riders import route_riders as ride\n",
    "from route_dynamics.route_visualizer import visualizer as vis"
   ]
  },
  {
   "cell_type": "code",
   "execution_count": 4,
   "metadata": {},
   "outputs": [],
   "source": [
    "shapefile_name = '../data/rt22_pts.shp'"
   ]
  },
  {
   "cell_type": "code",
   "execution_count": 5,
   "metadata": {},
   "outputs": [],
   "source": [
    "data = pd.read_csv(\"../data/acceleration.csv\", names=['time (s)', 'accel. (g)'])"
   ]
  },
  {
   "cell_type": "code",
   "execution_count": 6,
   "metadata": {},
   "outputs": [],
   "source": [
    "data['time (s)'] = data['time (s)'].round(0)\n",
    "data['accel. (g)'] = data['accel. (g)'].round(4)"
   ]
  },
  {
   "cell_type": "code",
   "execution_count": 7,
   "metadata": {},
   "outputs": [],
   "source": [
    "#Convert to SI units\n",
    "data['accel. (m/s^2)'] = data['accel. (g)']*9.81"
   ]
  },
  {
   "cell_type": "code",
   "execution_count": 8,
   "metadata": {},
   "outputs": [],
   "source": [
    "#Calculate Velocity\n",
    "\n",
    "data['vel. (m/s)'] = np.zeros(len(data.index))\n",
    "\n",
    "for i in range(1, len(data)):\n",
    "    data['vel. (m/s)'][i] = ((data['accel. (m/s^2)'][i] + data['accel. (m/s^2)'][i-1])/2*1) + data['vel. (m/s)'][i-1]\n",
    "    \n",
    "data['vel. (mph)'] = data['vel. (m/s)']*2.2"
   ]
  },
  {
   "cell_type": "code",
   "execution_count": 9,
   "metadata": {},
   "outputs": [],
   "source": [
    "#Calculate Distance\n",
    "\n",
    "data['dist. (m)'] = np.zeros(len(data.index))\n",
    "\n",
    "for i in range(1, len(data)):\n",
    "    data['dist. (m)'][i] = ((data['vel. (m/s)'][i] + data['vel. (m/s)'][i-1])/2*1) + data['dist. (m)'][i-1]"
   ]
  },
  {
   "cell_type": "code",
   "execution_count": 10,
   "metadata": {},
   "outputs": [
    {
     "data": {
      "text/html": [
       "<div>\n",
       "<style scoped>\n",
       "    .dataframe tbody tr th:only-of-type {\n",
       "        vertical-align: middle;\n",
       "    }\n",
       "\n",
       "    .dataframe tbody tr th {\n",
       "        vertical-align: top;\n",
       "    }\n",
       "\n",
       "    .dataframe thead th {\n",
       "        text-align: right;\n",
       "    }\n",
       "</style>\n",
       "<table border=\"1\" class=\"dataframe\">\n",
       "  <thead>\n",
       "    <tr style=\"text-align: right;\">\n",
       "      <th></th>\n",
       "      <th>time (s)</th>\n",
       "      <th>accel. (g)</th>\n",
       "      <th>accel. (m/s^2)</th>\n",
       "      <th>vel. (m/s)</th>\n",
       "      <th>vel. (mph)</th>\n",
       "      <th>dist. (m)</th>\n",
       "      <th>dist (ft)</th>\n",
       "    </tr>\n",
       "  </thead>\n",
       "  <tbody>\n",
       "    <tr>\n",
       "      <th>0</th>\n",
       "      <td>0.0</td>\n",
       "      <td>0.0006</td>\n",
       "      <td>0.005886</td>\n",
       "      <td>0.000000</td>\n",
       "      <td>0.000000</td>\n",
       "      <td>0.000000</td>\n",
       "      <td>0.000000</td>\n",
       "    </tr>\n",
       "    <tr>\n",
       "      <th>1</th>\n",
       "      <td>1.0</td>\n",
       "      <td>0.1156</td>\n",
       "      <td>1.134036</td>\n",
       "      <td>0.569961</td>\n",
       "      <td>1.253914</td>\n",
       "      <td>0.284981</td>\n",
       "      <td>0.934736</td>\n",
       "    </tr>\n",
       "    <tr>\n",
       "      <th>2</th>\n",
       "      <td>2.0</td>\n",
       "      <td>0.1239</td>\n",
       "      <td>1.215459</td>\n",
       "      <td>1.744709</td>\n",
       "      <td>3.838359</td>\n",
       "      <td>1.442315</td>\n",
       "      <td>4.730794</td>\n",
       "    </tr>\n",
       "    <tr>\n",
       "      <th>3</th>\n",
       "      <td>3.0</td>\n",
       "      <td>0.1261</td>\n",
       "      <td>1.237041</td>\n",
       "      <td>2.970959</td>\n",
       "      <td>6.536109</td>\n",
       "      <td>3.800149</td>\n",
       "      <td>12.464488</td>\n",
       "    </tr>\n",
       "    <tr>\n",
       "      <th>4</th>\n",
       "      <td>4.0</td>\n",
       "      <td>0.1256</td>\n",
       "      <td>1.232136</td>\n",
       "      <td>4.205547</td>\n",
       "      <td>9.252203</td>\n",
       "      <td>7.388402</td>\n",
       "      <td>24.233957</td>\n",
       "    </tr>\n",
       "  </tbody>\n",
       "</table>\n",
       "</div>"
      ],
      "text/plain": [
       "   time (s)  accel. (g)  accel. (m/s^2)  vel. (m/s)  vel. (mph)  dist. (m)  \\\n",
       "0       0.0      0.0006        0.005886    0.000000    0.000000   0.000000   \n",
       "1       1.0      0.1156        1.134036    0.569961    1.253914   0.284981   \n",
       "2       2.0      0.1239        1.215459    1.744709    3.838359   1.442315   \n",
       "3       3.0      0.1261        1.237041    2.970959    6.536109   3.800149   \n",
       "4       4.0      0.1256        1.232136    4.205547    9.252203   7.388402   \n",
       "\n",
       "   dist (ft)  \n",
       "0   0.000000  \n",
       "1   0.934736  \n",
       "2   4.730794  \n",
       "3  12.464488  \n",
       "4  24.233957  "
      ]
     },
     "execution_count": 10,
     "metadata": {},
     "output_type": "execute_result"
    }
   ],
   "source": [
    "data['dist (ft)'] = data['dist. (m)']*3.28\n",
    "data.head()"
   ]
  },
  {
   "cell_type": "code",
   "execution_count": 11,
   "metadata": {},
   "outputs": [],
   "source": [
    "#Create new dataframe where dist. is the indep var\n",
    "\n",
    "data2 = pd.DataFrame({'dist. (ft)': np.arange(0, 1230, 6)})\n",
    "data2['dist. (m)'] = data2['dist. (ft)']/3.28\n",
    "\n",
    "data2['vel. (m/s)'] = np.zeros(len(data2.index))\n",
    "\n",
    "data2['vel. (mph)'] = np.zeros(len(data2.index))\n",
    "\n",
    "data2['accel. (m/s^2)'] = np.zeros(len(data2.index))\n",
    "\n",
    "data2['time (s)'] = np.zeros(len(data2.index))"
   ]
  },
  {
   "cell_type": "code",
   "execution_count": 12,
   "metadata": {},
   "outputs": [],
   "source": [
    "z = data2['dist. (ft)'].iloc[2]\n",
    "params = data.iloc[(data['dist (ft)']-z).abs().argsort()[:1]]\n",
    "row = params.index.values\n",
    "\n",
    "#linear interpolation\n",
    "vel = ((data['vel. (m/s)'][row].values - data['vel. (m/s)'][row-1].values)/(data['dist. (m)'][row].values - data['dist. (m)'][row-1].values) * (z/3.28 - data['dist. (m)'][row-1].values)) + data['vel. (m/s)'][row-1].values\n",
    "\n",
    "\n",
    "accel = ((data['accel. (m/s^2)'][row].values - data['accel. (m/s^2)'][row-1].values)/(data['dist. (m)'][row].values - data['dist. (m)'][row-1].values) * (z/3.28 - data['dist. (m)'][row-1].values)) + data['accel. (m/s^2)'][row-1].values\n"
   ]
  },
  {
   "cell_type": "code",
   "execution_count": 13,
   "metadata": {},
   "outputs": [
    {
     "name": "stderr",
     "output_type": "stream",
     "text": [
      "/Users/ericaeggleton/opt/miniconda3/envs/route_dynamics/lib/python3.6/site-packages/pandas/core/indexing.py:671: SettingWithCopyWarning: \n",
      "A value is trying to be set on a copy of a slice from a DataFrame\n",
      "\n",
      "See the caveats in the documentation: https://pandas.pydata.org/pandas-docs/stable/user_guide/indexing.html#returning-a-view-versus-a-copy\n",
      "  self._setitem_with_indexer(indexer, value)\n"
     ]
    }
   ],
   "source": [
    "for i in range(1, len(data2)):\n",
    "\n",
    "    z = data2['dist. (ft)'].iloc[i]\n",
    "    params = data.iloc[(data['dist (ft)']-z).abs().argsort()[:1]]\n",
    "    row = params.index.values\n",
    "\n",
    "\n",
    "    #Interpolate\n",
    "    if params['dist (ft)'].values < z:\n",
    "        vel = ((data['vel. (m/s)'][row+1].values - data['vel. (m/s)'][row].values)/(data['dist. (m)'][row +1].values - data['dist. (m)'][row].values) * (z/3.28 - data['dist. (m)'][row].values)) + data['vel. (m/s)'][row].values\n",
    "        accel = ((data['accel. (m/s^2)'][row+1].values - data['accel. (m/s^2)'][row].values)/(data['dist. (m)'][row +1].values - data['dist. (m)'][row].values) * (z/3.28 - data['dist. (m)'][row].values)) + data['accel. (m/s^2)'][row].values\n",
    "        time = ((data['time (s)'][row+1].values - data['time (s)'][row].values)/(data['dist. (m)'][row +1].values - data['dist. (m)'][row].values) * (z/3.28 - data['dist. (m)'][row].values)) + data['time (s)'][row].values\n",
    "    else:\n",
    "        vel = ((data['vel. (m/s)'][row].values - data['vel. (m/s)'][row-1].values)/(data['dist. (m)'][row].values - data['dist. (m)'][row-1].values) * (z/3.28 - data['dist. (m)'][row-1].values)) + data['vel. (m/s)'][row-1].values\n",
    "        accel = ((data['accel. (m/s^2)'][row].values - data['accel. (m/s^2)'][row-1].values)/(data['dist. (m)'][row].values - data['dist. (m)'][row-1].values) * (z/3.28 - data['dist. (m)'][row-1].values)) + data['accel. (m/s^2)'][row-1].values\n",
    "        time = ((data['time (s)'][row].values - data['time (s)'][row-1].values)/(data['dist. (m)'][row].values - data['dist. (m)'][row-1].values) * (z/3.28 - data['dist. (m)'][row-1].values)) + data['time (s)'][row-1].values\n",
    "        \n",
    "    \n",
    "    data2['vel. (m/s)'].iloc[i] = vel\n",
    "    data2['vel. (mph)'].iloc[i] = vel*2.2\n",
    "    data2['accel. (m/s^2)'].iloc[i] = accel\n",
    "    data2['time (s)'].iloc[i] = time"
   ]
  },
  {
   "cell_type": "code",
   "execution_count": 14,
   "metadata": {
    "scrolled": true
   },
   "outputs": [
    {
     "data": {
      "text/html": [
       "<div>\n",
       "<style scoped>\n",
       "    .dataframe tbody tr th:only-of-type {\n",
       "        vertical-align: middle;\n",
       "    }\n",
       "\n",
       "    .dataframe tbody tr th {\n",
       "        vertical-align: top;\n",
       "    }\n",
       "\n",
       "    .dataframe thead th {\n",
       "        text-align: right;\n",
       "    }\n",
       "</style>\n",
       "<table border=\"1\" class=\"dataframe\">\n",
       "  <thead>\n",
       "    <tr style=\"text-align: right;\">\n",
       "      <th></th>\n",
       "      <th>dist. (ft)</th>\n",
       "      <th>dist. (m)</th>\n",
       "      <th>vel. (m/s)</th>\n",
       "      <th>vel. (mph)</th>\n",
       "      <th>accel. (m/s^2)</th>\n",
       "      <th>time (s)</th>\n",
       "    </tr>\n",
       "  </thead>\n",
       "  <tbody>\n",
       "    <tr>\n",
       "      <th>0</th>\n",
       "      <td>0</td>\n",
       "      <td>0.000000</td>\n",
       "      <td>0.000000</td>\n",
       "      <td>0.000000</td>\n",
       "      <td>0.000000</td>\n",
       "      <td>0.000000</td>\n",
       "    </tr>\n",
       "    <tr>\n",
       "      <th>1</th>\n",
       "      <td>6</td>\n",
       "      <td>1.829268</td>\n",
       "      <td>1.945953</td>\n",
       "      <td>4.281097</td>\n",
       "      <td>1.219001</td>\n",
       "      <td>2.164114</td>\n",
       "    </tr>\n",
       "    <tr>\n",
       "      <th>2</th>\n",
       "      <td>12</td>\n",
       "      <td>3.658537</td>\n",
       "      <td>2.897310</td>\n",
       "      <td>6.374081</td>\n",
       "      <td>1.235745</td>\n",
       "      <td>2.939940</td>\n",
       "    </tr>\n",
       "    <tr>\n",
       "      <th>3</th>\n",
       "      <td>18</td>\n",
       "      <td>5.487805</td>\n",
       "      <td>3.551620</td>\n",
       "      <td>7.813564</td>\n",
       "      <td>1.234734</td>\n",
       "      <td>3.470328</td>\n",
       "    </tr>\n",
       "    <tr>\n",
       "      <th>4</th>\n",
       "      <td>24</td>\n",
       "      <td>7.317073</td>\n",
       "      <td>4.181005</td>\n",
       "      <td>9.198212</td>\n",
       "      <td>1.232234</td>\n",
       "      <td>3.980122</td>\n",
       "    </tr>\n",
       "  </tbody>\n",
       "</table>\n",
       "</div>"
      ],
      "text/plain": [
       "   dist. (ft)  dist. (m)  vel. (m/s)  vel. (mph)  accel. (m/s^2)  time (s)\n",
       "0           0   0.000000    0.000000    0.000000        0.000000  0.000000\n",
       "1           6   1.829268    1.945953    4.281097        1.219001  2.164114\n",
       "2          12   3.658537    2.897310    6.374081        1.235745  2.939940\n",
       "3          18   5.487805    3.551620    7.813564        1.234734  3.470328\n",
       "4          24   7.317073    4.181005    9.198212        1.232234  3.980122"
      ]
     },
     "execution_count": 14,
     "metadata": {},
     "output_type": "execute_result"
    }
   ],
   "source": [
    "data2.head()"
   ]
  },
  {
   "cell_type": "code",
   "execution_count": 15,
   "metadata": {},
   "outputs": [],
   "source": [
    "rt_df = base.wrapper(shapefile_name)"
   ]
  },
  {
   "cell_type": "code",
   "execution_count": 16,
   "metadata": {},
   "outputs": [],
   "source": [
    "df_22, riders_22, mass_22 = ride.route_ridership('PM', 'I', 22) \n",
    "stop_coord, rider_coord = ride.stop_coord(22, riders_22)\n",
    "coords22 = rider_coord['coordinates'].values\n",
    "mass22 = rider_coord['Mean'].values"
   ]
  },
  {
   "cell_type": "code",
   "execution_count": 17,
   "metadata": {},
   "outputs": [
    {
     "name": "stderr",
     "output_type": "stream",
     "text": [
      "/Users/ericaeggleton/opt/miniconda3/envs/route_dynamics/lib/python3.6/site-packages/pandas/core/indexing.py:671: SettingWithCopyWarning: \n",
      "A value is trying to be set on a copy of a slice from a DataFrame\n",
      "\n",
      "See the caveats in the documentation: https://pandas.pydata.org/pandas-docs/stable/user_guide/indexing.html#returning-a-view-versus-a-copy\n",
      "  self._setitem_with_indexer(indexer, value)\n"
     ]
    }
   ],
   "source": [
    "ex22 = ldm.RouteTrajectory(\n",
    "    22, \n",
    "    shapefile_name, \n",
    "    bus_speed_model='const_accel_between_stops_and_speed_lim',\n",
    "    stop_coords=coords22,\n",
    "    mass_array=mass22 + mass_22,\n",
    "    a_prof = \"../data/acceleration.csv\"\n",
    ")"
   ]
  },
  {
   "cell_type": "code",
   "execution_count": 18,
   "metadata": {},
   "outputs": [],
   "source": [
    "rdf = ex22.route_df"
   ]
  },
  {
   "cell_type": "code",
   "execution_count": 19,
   "metadata": {},
   "outputs": [
    {
     "data": {
      "text/html": [
       "<div>\n",
       "<style scoped>\n",
       "    .dataframe tbody tr th:only-of-type {\n",
       "        vertical-align: middle;\n",
       "    }\n",
       "\n",
       "    .dataframe tbody tr th {\n",
       "        vertical-align: top;\n",
       "    }\n",
       "\n",
       "    .dataframe thead th {\n",
       "        text-align: right;\n",
       "    }\n",
       "</style>\n",
       "<table border=\"1\" class=\"dataframe\">\n",
       "  <thead>\n",
       "    <tr style=\"text-align: right;\">\n",
       "      <th></th>\n",
       "      <th>Z</th>\n",
       "      <th>geometry</th>\n",
       "      <th>length</th>\n",
       "      <th>grade</th>\n",
       "      <th>distance_from_last_point</th>\n",
       "      <th>elevation</th>\n",
       "      <th>cum_distance</th>\n",
       "      <th>is_bus_stop</th>\n",
       "      <th>acceleration</th>\n",
       "      <th>velocity</th>\n",
       "      <th>delta_time</th>\n",
       "      <th>mass</th>\n",
       "      <th>grav_force</th>\n",
       "      <th>roll_fric</th>\n",
       "      <th>aero_drag</th>\n",
       "      <th>inertia</th>\n",
       "      <th>power_output</th>\n",
       "    </tr>\n",
       "  </thead>\n",
       "  <tbody>\n",
       "    <tr>\n",
       "      <th>9714</th>\n",
       "      <td>324.334638</td>\n",
       "      <td>POINT (-122.38813 47.56285)</td>\n",
       "      <td>58284</td>\n",
       "      <td>0.038188</td>\n",
       "      <td>1.8288</td>\n",
       "      <td>324.334638</td>\n",
       "      <td>17764.9632</td>\n",
       "      <td>False</td>\n",
       "      <td>0.638199</td>\n",
       "      <td>13.414576</td>\n",
       "      <td>0.139686</td>\n",
       "      <td>12947.0</td>\n",
       "      <td>-4846.736988</td>\n",
       "      <td>-1269.175599</td>\n",
       "      <td>-23.968962</td>\n",
       "      <td>8262.765386</td>\n",
       "      <td>193205.396321</td>\n",
       "    </tr>\n",
       "    <tr>\n",
       "      <th>9715</th>\n",
       "      <td>324.566006</td>\n",
       "      <td>POINT (-122.38813 47.56288)</td>\n",
       "      <td>58290</td>\n",
       "      <td>0.038561</td>\n",
       "      <td>1.8288</td>\n",
       "      <td>324.566006</td>\n",
       "      <td>17766.7920</td>\n",
       "      <td>False</td>\n",
       "      <td>0.632491</td>\n",
       "      <td>13.497637</td>\n",
       "      <td>0.133877</td>\n",
       "      <td>12947.0</td>\n",
       "      <td>-4894.040649</td>\n",
       "      <td>-1269.157447</td>\n",
       "      <td>-24.117376</td>\n",
       "      <td>8188.860615</td>\n",
       "      <td>194044.412001</td>\n",
       "    </tr>\n",
       "    <tr>\n",
       "      <th>9716</th>\n",
       "      <td>324.799624</td>\n",
       "      <td>POINT (-122.38813 47.56290)</td>\n",
       "      <td>58296</td>\n",
       "      <td>0.038936</td>\n",
       "      <td>1.8288</td>\n",
       "      <td>324.799624</td>\n",
       "      <td>17768.6208</td>\n",
       "      <td>False</td>\n",
       "      <td>0.626741</td>\n",
       "      <td>13.579705</td>\n",
       "      <td>0.133212</td>\n",
       "      <td>12947.0</td>\n",
       "      <td>-4941.549253</td>\n",
       "      <td>-1269.139038</td>\n",
       "      <td>-24.264013</td>\n",
       "      <td>8114.416008</td>\n",
       "      <td>194860.186773</td>\n",
       "    </tr>\n",
       "    <tr>\n",
       "      <th>9717</th>\n",
       "      <td>325.035500</td>\n",
       "      <td>POINT (-122.38813 47.56292)</td>\n",
       "      <td>58302</td>\n",
       "      <td>0.039313</td>\n",
       "      <td>1.8288</td>\n",
       "      <td>325.035500</td>\n",
       "      <td>17770.4496</td>\n",
       "      <td>False</td>\n",
       "      <td>0.620991</td>\n",
       "      <td>13.661772</td>\n",
       "      <td>0.133212</td>\n",
       "      <td>12947.0</td>\n",
       "      <td>-4989.262754</td>\n",
       "      <td>-1269.120370</td>\n",
       "      <td>-24.410650</td>\n",
       "      <td>8039.971401</td>\n",
       "      <td>195674.357167</td>\n",
       "    </tr>\n",
       "    <tr>\n",
       "      <th>9718</th>\n",
       "      <td>325.273646</td>\n",
       "      <td>POINT (-122.38813 47.56295)</td>\n",
       "      <td>58308</td>\n",
       "      <td>0.039691</td>\n",
       "      <td>1.8288</td>\n",
       "      <td>325.273646</td>\n",
       "      <td>17772.2784</td>\n",
       "      <td>False</td>\n",
       "      <td>0.615241</td>\n",
       "      <td>13.743840</td>\n",
       "      <td>0.133212</td>\n",
       "      <td>12927.0</td>\n",
       "      <td>-5029.399870</td>\n",
       "      <td>-1267.140985</td>\n",
       "      <td>-24.557287</td>\n",
       "      <td>7953.221972</td>\n",
       "      <td>196183.969156</td>\n",
       "    </tr>\n",
       "  </tbody>\n",
       "</table>\n",
       "</div>"
      ],
      "text/plain": [
       "               Z                     geometry  length     grade  \\\n",
       "9714  324.334638  POINT (-122.38813 47.56285)   58284  0.038188   \n",
       "9715  324.566006  POINT (-122.38813 47.56288)   58290  0.038561   \n",
       "9716  324.799624  POINT (-122.38813 47.56290)   58296  0.038936   \n",
       "9717  325.035500  POINT (-122.38813 47.56292)   58302  0.039313   \n",
       "9718  325.273646  POINT (-122.38813 47.56295)   58308  0.039691   \n",
       "\n",
       "      distance_from_last_point   elevation  cum_distance  is_bus_stop  \\\n",
       "9714                    1.8288  324.334638    17764.9632        False   \n",
       "9715                    1.8288  324.566006    17766.7920        False   \n",
       "9716                    1.8288  324.799624    17768.6208        False   \n",
       "9717                    1.8288  325.035500    17770.4496        False   \n",
       "9718                    1.8288  325.273646    17772.2784        False   \n",
       "\n",
       "      acceleration   velocity  delta_time     mass   grav_force    roll_fric  \\\n",
       "9714      0.638199  13.414576    0.139686  12947.0 -4846.736988 -1269.175599   \n",
       "9715      0.632491  13.497637    0.133877  12947.0 -4894.040649 -1269.157447   \n",
       "9716      0.626741  13.579705    0.133212  12947.0 -4941.549253 -1269.139038   \n",
       "9717      0.620991  13.661772    0.133212  12947.0 -4989.262754 -1269.120370   \n",
       "9718      0.615241  13.743840    0.133212  12927.0 -5029.399870 -1267.140985   \n",
       "\n",
       "      aero_drag      inertia   power_output  \n",
       "9714 -23.968962  8262.765386  193205.396321  \n",
       "9715 -24.117376  8188.860615  194044.412001  \n",
       "9716 -24.264013  8114.416008  194860.186773  \n",
       "9717 -24.410650  8039.971401  195674.357167  \n",
       "9718 -24.557287  7953.221972  196183.969156  "
      ]
     },
     "execution_count": 19,
     "metadata": {},
     "output_type": "execute_result"
    }
   ],
   "source": [
    "rdf.tail()"
   ]
  },
  {
   "cell_type": "code",
   "execution_count": 20,
   "metadata": {},
   "outputs": [
    {
     "data": {
      "text/plain": [
       "array([2.16411381, 0.7758259 , 0.5303884 , ..., 0.13321171, 0.13321171,\n",
       "       0.13321171])"
      ]
     },
     "execution_count": 20,
     "metadata": {},
     "output_type": "execute_result"
    }
   ],
   "source": [
    "delta_t = rdf.delta_time.values[1:]\n",
    "delta_t"
   ]
  },
  {
   "cell_type": "code",
   "execution_count": 21,
   "metadata": {},
   "outputs": [
    {
     "data": {
      "text/plain": [
       "array([ 27357.10175277,  41396.81367747,  50743.8062015 , ...,\n",
       "       194860.18677293, 195674.35716691, 196183.96915603])"
      ]
     },
     "execution_count": 21,
     "metadata": {},
     "output_type": "execute_result"
    }
   ],
   "source": [
    "power = rdf.power_output.values[1:]\n",
    "power"
   ]
  },
  {
   "cell_type": "code",
   "execution_count": null,
   "metadata": {},
   "outputs": [],
   "source": [
    "test = power*delta_t"
   ]
  },
  {
   "cell_type": "code",
   "execution_count": null,
   "metadata": {},
   "outputs": [],
   "source": []
  },
  {
   "cell_type": "code",
   "execution_count": null,
   "metadata": {},
   "outputs": [],
   "source": [
    "np.sum(power*delta_t)"
   ]
  },
  {
   "cell_type": "code",
   "execution_count": 22,
   "metadata": {},
   "outputs": [],
   "source": [
    "energy = np.sum(power * delta_t)"
   ]
  },
  {
   "cell_type": "code",
   "execution_count": 23,
   "metadata": {},
   "outputs": [
    {
     "data": {
      "text/plain": [
       "122645248.69623792"
      ]
     },
     "execution_count": 23,
     "metadata": {},
     "output_type": "execute_result"
    }
   ],
   "source": [
    "energy"
   ]
  },
  {
   "cell_type": "code",
   "execution_count": 24,
   "metadata": {},
   "outputs": [
    {
     "data": {
      "text/plain": [
       "122645248.69623792"
      ]
     },
     "execution_count": 24,
     "metadata": {},
     "output_type": "execute_result"
    }
   ],
   "source": [
    "ex22.energy_from_route() "
   ]
  },
  {
   "cell_type": "code",
   "execution_count": null,
   "metadata": {},
   "outputs": [],
   "source": [
    "v_lim = 15 #m/s or ~30 mph\n",
    "a_neg = -0.4\n",
    "\n",
    "# Define cutoff distance for acceleration and deceleration\n",
    "a_avg = data2['accel. (m/s^2)'].mean()\n",
    "a_plt = data2['accel. (m/s^2)'].iloc[len(data2)-1]\n",
    "x_a = v_lim**2. / (2*a_avg)\n",
    "\n",
    "# Define cutoff distance for acceleration and deceleration\n",
    "x_d = v_lim**2. / (2*a_neg)\n",
    "\n",
    "# Distance of accel profile\n",
    "\n",
    "x_p = len(data2)*0.3048\n"
   ]
  },
  {
   "cell_type": "code",
   "execution_count": 1,
   "metadata": {},
   "outputs": [
    {
     "ename": "NameError",
     "evalue": "name 'np' is not defined",
     "output_type": "error",
     "traceback": [
      "\u001b[1;31m---------------------------------------------------------------------------\u001b[0m",
      "\u001b[1;31mNameError\u001b[0m                                 Traceback (most recent call last)",
      "\u001b[1;32m<ipython-input-1-13fe29a8b62a>\u001b[0m in \u001b[0;36m<module>\u001b[1;34m\u001b[0m\n\u001b[1;32m----> 1\u001b[1;33m \u001b[0mx_ns\u001b[0m \u001b[1;33m=\u001b[0m \u001b[0mnp\u001b[0m\u001b[1;33m.\u001b[0m\u001b[0mzeros\u001b[0m\u001b[1;33m(\u001b[0m\u001b[0mlen\u001b[0m\u001b[1;33m(\u001b[0m\u001b[0mroute_df\u001b[0m\u001b[1;33m.\u001b[0m\u001b[0mindex\u001b[0m\u001b[1;33m)\u001b[0m\u001b[1;33m)\u001b[0m \u001b[1;31m#next stops\u001b[0m\u001b[1;33m\u001b[0m\u001b[1;33m\u001b[0m\u001b[0m\n\u001b[0m\u001b[0;32m      2\u001b[0m \u001b[0mx_ls\u001b[0m \u001b[1;33m=\u001b[0m \u001b[0mnp\u001b[0m\u001b[1;33m.\u001b[0m\u001b[0mzeros\u001b[0m\u001b[1;33m(\u001b[0m\u001b[0mlen\u001b[0m\u001b[1;33m(\u001b[0m\u001b[0mroute_df\u001b[0m\u001b[1;33m.\u001b[0m\u001b[0mindex\u001b[0m\u001b[1;33m)\u001b[0m\u001b[1;33m)\u001b[0m \u001b[1;31m# prev. stops\u001b[0m\u001b[1;33m\u001b[0m\u001b[1;33m\u001b[0m\u001b[0m\n\u001b[0;32m      3\u001b[0m \u001b[1;33m\u001b[0m\u001b[0m\n\u001b[0;32m      4\u001b[0m \u001b[1;32mfor\u001b[0m \u001b[0mi\u001b[0m \u001b[1;32min\u001b[0m \u001b[0mrange\u001b[0m\u001b[1;33m(\u001b[0m\u001b[0mlen\u001b[0m\u001b[1;33m(\u001b[0m\u001b[0mx_ns\u001b[0m\u001b[1;33m)\u001b[0m\u001b[1;33m)\u001b[0m\u001b[1;33m:\u001b[0m\u001b[1;33m\u001b[0m\u001b[1;33m\u001b[0m\u001b[0m\n\u001b[0;32m      5\u001b[0m     \u001b[1;31m# set values to Nan if bus stop\u001b[0m\u001b[1;33m\u001b[0m\u001b[1;33m\u001b[0m\u001b[1;33m\u001b[0m\u001b[0m\n",
      "\u001b[1;31mNameError\u001b[0m: name 'np' is not defined"
     ]
    }
   ],
   "source": [
    "x_ns = np.zeros(len(route_df.index)) #next stops\n",
    "x_ls = np.zeros(len(route_df.index)) # prev. stops\n",
    "\n",
    "for i in range(len(x_ns)):\n",
    "    # set values to Nan if bus stop\n",
    "    if route_df.at[i, 'is_bus_stop']:\n",
    "        x_ns[i] = 0.\n",
    "        x_ls[i] = 0.\n",
    "        # move to next point\n",
    "        continue\n",
    "    else:\n",
    "        # Calculate 'x_ns';\n",
    "        # Iterate through remaining indicies to count distance to\n",
    "        # next stop.\n",
    "        for j in range(i+1, len(x_ns)):\n",
    "            # add distance to next point to 'x_ns'\n",
    "            x_ns[i] += 10.973\n",
    "            if route_df.at[j, 'is_bus_stop']:\n",
    "                break # done calulating 'x_ns' at this point\n",
    "            # elif not bus stop: move to next point, add distance\n",
    "\n",
    "        # Calculate 'x_ls';\n",
    "        # Iterate through previous indicies to cout distance to\n",
    "        # last stop.\n",
    "        for j in range(i, 0, -1):\n",
    "            # Inclusive start to range because distances are\n",
    "            # backward difference. Dont need to include 'j=0'\n",
    "            # because the first point has no backward difference.\n",
    "            if route_df.at[j, 'is_bus_stop']:\n",
    "                break # done calulating x_ls at this point\n",
    "            x_ls[i] += 10.973\n"
   ]
  },
  {
   "cell_type": "code",
   "execution_count": null,
   "metadata": {},
   "outputs": [],
   "source": []
  },
  {
   "cell_type": "code",
   "execution_count": null,
   "metadata": {},
   "outputs": [],
   "source": [
    "v = np.zeros(len(route_df.index)) #array for vel.\n",
    "a = np.zeros(len(route_df.index)) #array for accel.\n",
    "\n",
    "count = 0\n",
    "\n",
    "for i in range(len(x_ns)):\n",
    "\n",
    "    if count > i:\n",
    "        continue\n",
    "\n",
    "    else:\n",
    "\n",
    "        #Case 1\n",
    "\n",
    "        if (\n",
    "            x_ns[i]<=abs(x_d)\n",
    "            and\n",
    "            not route_df.at[i, 'is_bus_stop']\n",
    "            ):\n",
    "            \n",
    "            if x_ns[i] < x_ls[i]:\n",
    "\n",
    "                a[i] = a_neg\n",
    "                v[i] = np.sqrt(-2*x_ns[i]*a_neg)\n",
    "                count += 1\n",
    "                \n",
    "            else:\n",
    "                for j in range(len(data2)):\n",
    "\n",
    "                    if count < len(x_ns):\n",
    "\n",
    "                        if v[count-1] < v_lim:\n",
    "                            a[count] = data2['accel. (m/s^2)'].iloc[j]\n",
    "                            v[count] = data2['vel. (m/s)'].iloc[j]\n",
    "                            count+=1\n",
    "\n",
    "                        elif v[count-1]>v_lim:\n",
    "\n",
    "                            while x_ns[count]>abs(x_d):\n",
    "\n",
    "                                a[count] = 0\n",
    "                                v[count] = v_lim\n",
    "\n",
    "                                count+=1\n",
    "\n",
    "                            else:\n",
    "                                continue\n",
    "\n",
    "                        else:\n",
    "                            continue\n",
    "\n",
    "                    else:\n",
    "                        break\n",
    "\n",
    "\n",
    "        #Case 2\n",
    "\n",
    "        elif (\n",
    "            x_ns[i] > abs(x_d)\n",
    "            and\n",
    "            x_ls[i] >= x_p\n",
    "            and\n",
    "            not route_df.at[i, 'is_bus_stop']\n",
    "            ):\n",
    "\n",
    "            if v[i-1] < v_lim:\n",
    "\n",
    "                a[i] = a_plt\n",
    "                v[i] = np.sqrt(2*x_ns[i]*a[i])\n",
    "                count += 1\n",
    "\n",
    "            elif v[i-1]>v_lim:\n",
    "                        \n",
    "                while x_ns[count]>abs(x_d):\n",
    "\n",
    "                    a[count] = 0\n",
    "                    v[count] = v_lim\n",
    "\n",
    "                    count+=1\n",
    "\n",
    "                else:\n",
    "                    continue \n",
    "\n",
    "            else:\n",
    "                continue\n",
    "\n",
    "                    \n",
    "\n",
    "        #Case 3\n",
    "\n",
    "        elif (\n",
    "            x_ls[i] < x_p\n",
    "            and\n",
    "            x_ns[i] > abs(x_d)\n",
    "            and\n",
    "            not route_df.at[i, 'is_bus_stop']\n",
    "            ):\n",
    "\n",
    "            for j in range(len(data2)):\n",
    "\n",
    "                if count < len(x_ns):\n",
    "\n",
    "                    if v[count-1] < v_lim:\n",
    "                        a[count] = data2['accel. (m/s^2)'].iloc[j]\n",
    "                        v[count] = data2['vel. (m/s)'].iloc[j]\n",
    "                        count+=1\n",
    "\n",
    "                    elif v[count-1]>v_lim:\n",
    "                        \n",
    "                        while x_ns[count]>abs(x_d):\n",
    "                \n",
    "                            a[count] = 0\n",
    "                            v[count] = v_lim\n",
    "\n",
    "                            count+=1\n",
    "                            \n",
    "                        else:\n",
    "                            continue\n",
    "                            \n",
    "                    else:\n",
    "                        continue\n",
    "\n",
    "                else:\n",
    "                    break\n",
    "\n",
    "\n",
    "        elif route_df.at[i, 'is_bus_stop']:\n",
    "\n",
    "            count += 1"
   ]
  },
  {
   "cell_type": "code",
   "execution_count": null,
   "metadata": {},
   "outputs": [],
   "source": [
    "ex22.route_df"
   ]
  },
  {
   "cell_type": "code",
   "execution_count": null,
   "metadata": {},
   "outputs": [],
   "source": [
    "d = {'dist': ex22.route_df.cum_distance, 'last': x_ls, 'next': x_ns, 'stop': ex22.route_df.is_bus_stop, 'accel': a, 'vel':v}"
   ]
  },
  {
   "cell_type": "code",
   "execution_count": null,
   "metadata": {},
   "outputs": [],
   "source": [
    "test = pd.DataFrame(d)"
   ]
  },
  {
   "cell_type": "code",
   "execution_count": null,
   "metadata": {},
   "outputs": [],
   "source": [
    "print (x_d, x_p)"
   ]
  },
  {
   "cell_type": "code",
   "execution_count": null,
   "metadata": {},
   "outputs": [],
   "source": [
    "test.iloc[330:370]"
   ]
  },
  {
   "cell_type": "code",
   "execution_count": null,
   "metadata": {},
   "outputs": [],
   "source": [
    "fig, (ax1, ax2) = plt.subplots(2, 1, figsize = (8,6), dpi=100)\n",
    "\n",
    "ax1.plot(ex22.route_df.cum_distance, v, label = 'vel')\n",
    "ax2.plot(ex22.route_df.cum_distance, a, label = 'accel')\n",
    "#ax.set_xlabel('time (s)') \n",
    "#ax.set_ylabel('Power (kW)')\n",
    "#ax.legend()"
   ]
  },
  {
   "cell_type": "code",
   "execution_count": null,
   "metadata": {},
   "outputs": [],
   "source": []
  },
  {
   "cell_type": "code",
   "execution_count": null,
   "metadata": {},
   "outputs": [],
   "source": []
  }
 ],
 "metadata": {
  "kernelspec": {
   "display_name": "Python 3",
   "language": "python",
   "name": "python3"
  },
  "language_info": {
   "codemirror_mode": {
    "name": "ipython",
    "version": 3
   },
   "file_extension": ".py",
   "mimetype": "text/x-python",
   "name": "python",
   "nbconvert_exporter": "python",
   "pygments_lexer": "ipython3",
   "version": "3.7.1"
  }
 },
 "nbformat": 4,
 "nbformat_minor": 4
}
