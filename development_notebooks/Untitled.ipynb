{
 "cells": [
  {
   "cell_type": "code",
   "execution_count": 3,
   "metadata": {},
   "outputs": [],
   "source": [
    "import matplotlib.pyplot as plt\n",
    "import numpy as np"
   ]
  },
  {
   "cell_type": "code",
   "execution_count": null,
   "metadata": {},
   "outputs": [],
   "source": []
  },
  {
   "cell_type": "code",
   "execution_count": 10,
   "metadata": {},
   "outputs": [
    {
     "data": {
      "text/plain": [
       "array([-180, -160, -140, -120, -100,  -80,  -60,  -40,  -20,    0,   20,\n",
       "         40,   60,   80,  100,  120,  140,  160,  180])"
      ]
     },
     "execution_count": 10,
     "metadata": {},
     "output_type": "execute_result"
    }
   ],
   "source": [
    "bins = np.arange(-180, 200, 20)\n",
    "bins"
   ]
  },
  {
   "cell_type": "code",
   "execution_count": 6,
   "metadata": {},
   "outputs": [],
   "source": [
    "xlabels = bins.astype(str)\n",
    "xlabels[0] = '<-160'\n",
    "xlabels[-1] = '>160'"
   ]
  },
  {
   "cell_type": "code",
   "execution_count": 11,
   "metadata": {},
   "outputs": [
    {
     "data": {
      "text/plain": [
       "array(['<-160', '-160', '-140', '-120', '-100', '-80', '-60', '-40',\n",
       "       '-20', '0', '20', '40', '60', '80', '100', '120', '140', '160',\n",
       "       '>160'], dtype='<U21')"
      ]
     },
     "execution_count": 11,
     "metadata": {},
     "output_type": "execute_result"
    }
   ],
   "source": [
    "xlabels"
   ]
  },
  {
   "cell_type": "code",
   "execution_count": 14,
   "metadata": {},
   "outputs": [
    {
     "data": {
      "text/plain": [
       "array([-170, -150, -130, -110,  -90,  -70,  -50,  -30,  -10,   10,   30,\n",
       "         50,   70,   90,  110,  130,  150,  170,  190])"
      ]
     },
     "execution_count": 14,
     "metadata": {},
     "output_type": "execute_result"
    }
   ],
   "source": [
    "bins+10"
   ]
  },
  {
   "cell_type": "code",
   "execution_count": null,
   "metadata": {},
   "outputs": [],
   "source": [
    "fig, ax = plt.subplots(figsize=(12, 5), dpi=300)\n",
    "\n",
    "ax.hist(y/1000, bins = bins, label = 'Load (kW)')\n",
    "\n",
    "fig.suptitle(\n",
    "    'Load Distribution for Route {}'.format(route_num),\n",
    "    fontsize=24,\n",
    "    y=1,\n",
    "    )\n",
    "\n",
    "xlabels = bins.astype(str)\n",
    "xlabels[0] = '<-160'\n",
    "xlabels[-1] = '>160'\n",
    "ax.set_xticklabels(xlabels)\n",
    "ax.set_xlabel('Load (kW)', fontsize=20)\n",
    "ax.set_ylabel('Frequency', fontsize=20)\n",
    "ax.tick_params(labelsize=14)\n",
    "\n",
    "plt.savefig('hist_{}.png'.format(route_num), dpi=300)"
   ]
  }
 ],
 "metadata": {
  "kernelspec": {
   "display_name": "Python 3",
   "language": "python",
   "name": "python3"
  },
  "language_info": {
   "codemirror_mode": {
    "name": "ipython",
    "version": 3
   },
   "file_extension": ".py",
   "mimetype": "text/x-python",
   "name": "python",
   "nbconvert_exporter": "python",
   "pygments_lexer": "ipython3",
   "version": "3.6.10"
  }
 },
 "nbformat": 4,
 "nbformat_minor": 4
}
