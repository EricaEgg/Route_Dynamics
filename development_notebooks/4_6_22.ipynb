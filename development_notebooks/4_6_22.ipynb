{
 "cells": [
  {
   "cell_type": "code",
   "execution_count": 1,
   "id": "abe8dc9d",
   "metadata": {},
   "outputs": [],
   "source": [
    "#General imports needed for path\n",
    "import os \n",
    "import sys\n",
    "module_path = os.path.abspath(os.path.join('..'))\n",
    "sys.path.append(module_path)"
   ]
  },
  {
   "cell_type": "code",
   "execution_count": 2,
   "id": "280f91a7",
   "metadata": {},
   "outputs": [],
   "source": [
    "import numpy as np\n",
    "import pandas as pd\n",
    "import geopandas as gpd\n",
    "import matplotlib.pyplot as plt\n",
    "from shapely.geometry import mapping\n",
    "import folium\n",
    "import itertools\n",
    "\n",
    "import warnings\n",
    "warnings.filterwarnings('ignore')"
   ]
  },
  {
   "cell_type": "code",
   "execution_count": 3,
   "id": "1a6f8ee3",
   "metadata": {},
   "outputs": [],
   "source": [
    "#Packages created by our group:\n",
    "import route_dynamics.route_elevation.base_df as base\n",
    "import route_dynamics.route_energy.knn as knn\n",
    "from route_dynamics.route_riders import route_riders as ride\n",
    "import route_dynamics.route_energy.longi_dynam_model as ldm"
   ]
  },
  {
   "cell_type": "code",
   "execution_count": 19,
   "id": "5a3027fc",
   "metadata": {},
   "outputs": [],
   "source": [
    "#User defines what routes they want to evaluate\n",
    "rt_list = [22,101,102,143,150,153,154,156,157,158,159,168,169,177,178,179,180,181,182,183,186,187,190,192]\n",
    "\n",
    "#Import route shapefile\n",
    "shapefile_name1 = '../data/rt' + str(rt_list[0]) + '_pts.shp'\n",
    "\n",
    "shapefile_name = '../data/rt' + str(rt_list[0]) + '_pts2.shp'\n",
    "\n",
    "#Import bus stops shapefile\n",
    "routes_shp = '../data/Transit_Routes_for_King_County_Metro__transitroute_line.shp'\n",
    "\n",
    "stops_shp = '../data/Transit_Stops_for_King_County_Metro__transitstop_point.shp'\n",
    "\n",
    "signals_shp = '../data/traffic_signals2.shp'\n",
    "\n",
    "streets = '../data/Metro_Transportation_Network_(TNET)_in_King_County_for_Car_Mode___trans_network_car_line.shp'\n",
    "\n",
    "trip183 = pd.read_csv(\"../data/Trip183.csv\", usecols = ['SignRt', 'InOut', 'KeyTrip', 'BusType', 'Seats', \n",
    "                     'Period', 'AnnRides']) # KCM Data\n",
    "trip183unsum = pd.read_csv(\"../data/Zon183Unsum.csv\", usecols = ['Route', 'Dir', 'Trip_ID', 'InOut', 'STOP_SEQ', 'STOP_ID',\n",
    "                     'Period', 'AveOn', 'AveOff', 'AveLd', 'Obs'])\n",
    "\n",
    "#Acceleration profile\n",
    "a_prof = pd.read_csv(\"../data/acceleration.csv\", names=['time (s)', 'accel. (g)'])"
   ]
  },
  {
   "cell_type": "code",
   "execution_count": 20,
   "id": "92fcda02",
   "metadata": {},
   "outputs": [],
   "source": [
    "option1 = gpd.read_file(shapefile_name1)\n",
    "option2 = gpd.read_file(shapefile_name)"
   ]
  },
  {
   "cell_type": "code",
   "execution_count": 21,
   "id": "e1dc0aa1",
   "metadata": {},
   "outputs": [
    {
     "data": {
      "text/plain": [
       "9719"
      ]
     },
     "execution_count": 21,
     "metadata": {},
     "output_type": "execute_result"
    }
   ],
   "source": [
    "len(option1)"
   ]
  },
  {
   "cell_type": "code",
   "execution_count": 22,
   "id": "af50f07b",
   "metadata": {},
   "outputs": [
    {
     "data": {
      "text/plain": [
       "9719"
      ]
     },
     "execution_count": 22,
     "metadata": {},
     "output_type": "execute_result"
    }
   ],
   "source": [
    "len(option2)"
   ]
  },
  {
   "cell_type": "code",
   "execution_count": 5,
   "id": "63f810c4",
   "metadata": {},
   "outputs": [],
   "source": [
    "trip_df, riders, mass_bus = ride.route_ridership('PM', rt_list[0])\n",
    "stop_coord, rider_coord = ride.stop_coord(rt_list[0], riders)\n",
    "stop_coords = stop_coord.coordinates.values\n",
    "mass_passengers = rider_coord['Mean'].values"
   ]
  },
  {
   "cell_type": "code",
   "execution_count": 11,
   "id": "4240bb7d",
   "metadata": {},
   "outputs": [
    {
     "data": {
      "text/plain": [
       "56"
      ]
     },
     "execution_count": 11,
     "metadata": {},
     "output_type": "execute_result"
    }
   ],
   "source": [
    "len(mass_passengers + mass_bus)\n"
   ]
  },
  {
   "cell_type": "code",
   "execution_count": 6,
   "id": "05b41a3a",
   "metadata": {},
   "outputs": [],
   "source": [
    "signals = gpd.read_file(signals_shp)\n",
    "signals = signals[signals['Route_Num']==str(rt_list[0])]\n",
    "geometry = signals.geometry.values\n",
    "xy = []\n",
    "for i in range(len(geometry)):\n",
    "    dic = mapping(geometry[i])\n",
    "    coords = dic['coordinates']\n",
    "    xy.append(coords)\n",
    "    xy_df = pd.DataFrame(columns = ['STOP_ID','coordinates'])\n",
    "    xy_df['coordinates'] = xy\n",
    "    \n",
    "xy_df\n",
    "\n",
    "signal_coords = xy_df.coordinates.values"
   ]
  },
  {
   "cell_type": "code",
   "execution_count": 7,
   "id": "f8f1b750",
   "metadata": {},
   "outputs": [
    {
     "ename": "IllegalArgumentError",
     "evalue": "Algorithm for mass calculation must be 'list_per_stop'",
     "output_type": "error",
     "traceback": [
      "\u001b[0;31m---------------------------------------------------------------------------\u001b[0m",
      "\u001b[0;31mIllegalArgumentError\u001b[0m                      Traceback (most recent call last)",
      "Input \u001b[0;32mIn [7]\u001b[0m, in \u001b[0;36m<cell line: 1>\u001b[0;34m()\u001b[0m\n\u001b[0;32m----> 1\u001b[0m ex \u001b[38;5;241m=\u001b[39m \u001b[43mldm\u001b[49m\u001b[38;5;241;43m.\u001b[39;49m\u001b[43mRouteTrajectory\u001b[49m\u001b[43m(\u001b[49m\n\u001b[1;32m      2\u001b[0m \u001b[43mrt_list\u001b[49m\u001b[43m[\u001b[49m\u001b[38;5;241;43m0\u001b[39;49m\u001b[43m]\u001b[49m\u001b[43m,\u001b[49m\n\u001b[1;32m      3\u001b[0m \u001b[43mshapefile_name\u001b[49m\u001b[43m,\u001b[49m\n\u001b[1;32m      4\u001b[0m \u001b[43mstop_coords\u001b[49m\u001b[43m,\u001b[49m\n\u001b[1;32m      5\u001b[0m \u001b[43msignal_coords\u001b[49m\u001b[43m,\u001b[49m\n\u001b[1;32m      6\u001b[0m \u001b[43mmass_array\u001b[49m\u001b[38;5;241;43m=\u001b[39;49m\u001b[43mmass_bus\u001b[49m\u001b[43m \u001b[49m\u001b[38;5;241;43m+\u001b[39;49m\u001b[43m \u001b[49m\u001b[43mmass_passengers\u001b[49m\u001b[43m,\u001b[49m\n\u001b[1;32m      7\u001b[0m \u001b[43ma_prof\u001b[49m\u001b[38;5;241;43m=\u001b[39;49m\u001b[43ma_prof\u001b[49m\n\u001b[1;32m      8\u001b[0m \u001b[43m)\u001b[49m\n",
      "File \u001b[0;32m~/Route_Dynamics/route_dynamics/route_energy/longi_dynam_model.py:54\u001b[0m, in \u001b[0;36mRouteTrajectory.__init__\u001b[0;34m(self, route_num, shp_filename, stop_coords, signal_coords, mass_array, unloaded_bus_mass, charging_power_max, a_pos, a_neg, a_prof)\u001b[0m\n\u001b[1;32m     44\u001b[0m \u001b[38;5;66;03m# Build Route DataFrame, starting with columns:\u001b[39;00m\n\u001b[1;32m     45\u001b[0m \u001b[38;5;66;03m#     - 'Z' (elevation)\u001b[39;00m\n\u001b[1;32m     46\u001b[0m \u001b[38;5;66;03m#     - 'geometry' (coordinates)\u001b[39;00m\n\u001b[1;32m     47\u001b[0m \u001b[38;5;66;03m#     - 'length' (cumulative distance)\u001b[39;00m\n\u001b[1;32m     48\u001b[0m \u001b[38;5;66;03m#     - 'grade' \u001b[39;00m\n\u001b[1;32m     49\u001b[0m \u001b[38;5;66;03m#     - 'is_bus_stop'\u001b[39;00m\n\u001b[1;32m     50\u001b[0m \u001b[38;5;28mself\u001b[39m\u001b[38;5;241m.\u001b[39mroute_df \u001b[38;5;241m=\u001b[39m \u001b[38;5;28mself\u001b[39m\u001b[38;5;241m.\u001b[39mbuild_route_coordinate_df(\n\u001b[1;32m     51\u001b[0m     shp_filename \u001b[38;5;241m=\u001b[39m shp_filename\n\u001b[1;32m     52\u001b[0m     )\n\u001b[0;32m---> 54\u001b[0m \u001b[38;5;28mself\u001b[39m\u001b[38;5;241m.\u001b[39mroute_df \u001b[38;5;241m=\u001b[39m \u001b[38;5;28;43mself\u001b[39;49m\u001b[38;5;241;43m.\u001b[39;49m\u001b[43m_add_dynamics_to_df\u001b[49m\u001b[43m(\u001b[49m\n\u001b[1;32m     55\u001b[0m \u001b[43m    \u001b[49m\u001b[43mroute_df\u001b[49m\u001b[38;5;241;43m=\u001b[39;49m\u001b[38;5;28;43mself\u001b[39;49m\u001b[38;5;241;43m.\u001b[39;49m\u001b[43mroute_df\u001b[49m\u001b[43m,\u001b[49m\n\u001b[1;32m     56\u001b[0m \u001b[43m    \u001b[49m\u001b[43mstop_coords\u001b[49m\u001b[38;5;241;43m=\u001b[39;49m\u001b[43mstop_coords\u001b[49m\u001b[43m,\u001b[49m\n\u001b[1;32m     57\u001b[0m \u001b[43m    \u001b[49m\u001b[43msignal_coords\u001b[49m\u001b[38;5;241;43m=\u001b[39;49m\u001b[43msignal_coords\u001b[49m\n\u001b[1;32m     58\u001b[0m \u001b[43m    \u001b[49m\u001b[43m)\u001b[49m\n",
      "File \u001b[0;32m~/Route_Dynamics/route_dynamics/route_energy/longi_dynam_model.py:121\u001b[0m, in \u001b[0;36mRouteTrajectory._add_dynamics_to_df\u001b[0;34m(self, route_df, stop_coords, signal_coords)\u001b[0m\n\u001b[1;32m    118\u001b[0m route_df \u001b[38;5;241m=\u001b[39m \u001b[38;5;28mself\u001b[39m\u001b[38;5;241m.\u001b[39m_add_delta_times_to_df(route_df, \u001b[38;5;124m'\u001b[39m\u001b[38;5;124mmodel\u001b[39m\u001b[38;5;124m'\u001b[39m)\n\u001b[1;32m    120\u001b[0m \u001b[38;5;66;03m# Add passenger mass column to route_df\u001b[39;00m\n\u001b[0;32m--> 121\u001b[0m route_df \u001b[38;5;241m=\u001b[39m \u001b[38;5;28;43mself\u001b[39;49m\u001b[38;5;241;43m.\u001b[39;49m\u001b[43m_add_mass_to_df\u001b[49m\u001b[43m(\u001b[49m\u001b[43mroute_df\u001b[49m\u001b[43m)\u001b[49m\n\u001b[1;32m    123\u001b[0m \u001b[38;5;66;03m# Add force columns to route_df:\u001b[39;00m\n\u001b[1;32m    124\u001b[0m \u001b[38;5;66;03m#     - 'grav_force' : gravitation force determined by road grade\u001b[39;00m\n\u001b[1;32m    125\u001b[0m \u001b[38;5;66;03m#     - 'roll_fric' : rolling friction\u001b[39;00m\n\u001b[1;32m    126\u001b[0m \u001b[38;5;66;03m#     - 'aero_drag' : areodynamic drag\u001b[39;00m\n\u001b[1;32m    127\u001b[0m \u001b[38;5;66;03m#     - 'inertia' : inertial force, F = ma. Changes with passenger load\u001b[39;00m\n\u001b[1;32m    128\u001b[0m \u001b[38;5;66;03m#                   on bus.\u001b[39;00m\n\u001b[1;32m    129\u001b[0m route_df \u001b[38;5;241m=\u001b[39m \u001b[38;5;28mself\u001b[39m\u001b[38;5;241m.\u001b[39m_add_forces_to_df(route_df)\n",
      "File \u001b[0;32m~/Route_Dynamics/route_dynamics/route_energy/longi_dynam_model.py:329\u001b[0m, in \u001b[0;36mRouteTrajectory._add_mass_to_df\u001b[0;34m(self, route_df)\u001b[0m\n\u001b[1;32m    324\u001b[0m     \u001b[38;5;66;03m# Does mass array check out for calculation?\u001b[39;00m\n\u001b[1;32m    325\u001b[0m     mass_array_correct_length \u001b[38;5;241m=\u001b[39m (\n\u001b[1;32m    326\u001b[0m         lengths_equiv \u001b[38;5;129;01mand\u001b[39;00m \u001b[38;5;28mself\u001b[39m\u001b[38;5;241m.\u001b[39mmass_arg_is_list\n\u001b[1;32m    327\u001b[0m         )\n\u001b[0;32m--> 329\u001b[0m     full_mass_column \u001b[38;5;241m=\u001b[39m \u001b[38;5;28;43mself\u001b[39;49m\u001b[38;5;241;43m.\u001b[39;49m\u001b[43mcalculate_mass\u001b[49m\u001b[43m(\u001b[49m\n\u001b[1;32m    330\u001b[0m \u001b[43m        \u001b[49m\u001b[43malg\u001b[49m\u001b[38;5;241;43m=\u001b[39;49m\u001b[38;5;124;43m'\u001b[39;49m\u001b[38;5;124;43mlist_per_stop\u001b[39;49m\u001b[38;5;124;43m'\u001b[39;49m\u001b[43m,\u001b[49m\n\u001b[1;32m    331\u001b[0m \u001b[43m        \u001b[49m\u001b[43mlen_check\u001b[49m\u001b[38;5;241;43m=\u001b[39;49m\u001b[43mmass_array_correct_length\u001b[49m\n\u001b[1;32m    332\u001b[0m \u001b[43m        \u001b[49m\u001b[43m)\u001b[49m\n\u001b[1;32m    334\u001b[0m \u001b[38;5;28;01melse\u001b[39;00m: \u001b[38;5;66;03m# Add default mass to every row\u001b[39;00m\n\u001b[1;32m    335\u001b[0m     full_mass_column \u001b[38;5;241m=\u001b[39m \u001b[38;5;28mself\u001b[39m\u001b[38;5;241m.\u001b[39munloaded_bus_mass\u001b[38;5;241m*\u001b[39mnp\u001b[38;5;241m.\u001b[39mones(\n\u001b[1;32m    336\u001b[0m         \u001b[38;5;28mlen\u001b[39m(route_df\u001b[38;5;241m.\u001b[39mindex))\n",
      "File \u001b[0;32m~/Route_Dynamics/route_dynamics/route_energy/longi_dynam_model.py:402\u001b[0m, in \u001b[0;36mRouteTrajectory.calculate_mass\u001b[0;34m(self, alg, len_check)\u001b[0m\n\u001b[1;32m    391\u001b[0m         \u001b[38;5;28;01mraise\u001b[39;00m IllegalArgumentError(\u001b[38;5;124m\"\u001b[39m\u001b[38;5;124mClass arg \u001b[39m\u001b[38;5;124m'\u001b[39m\u001b[38;5;124munloaded_bus_mass\u001b[39m\u001b[38;5;124m'\u001b[39m\u001b[38;5;124m \u001b[39m\u001b[38;5;124m\"\u001b[39m\n\u001b[1;32m    392\u001b[0m             \u001b[38;5;124m\"\u001b[39m\u001b[38;5;124mis heavier than values in arg \u001b[39m\u001b[38;5;124m'\u001b[39m\u001b[38;5;124mmass_array\u001b[39m\u001b[38;5;124m'\u001b[39m\u001b[38;5;124m\"\u001b[39m)\n\u001b[1;32m    394\u001b[0m \u001b[38;5;66;03m# elif alg=='list_per_stop' and (\u001b[39;00m\n\u001b[1;32m    395\u001b[0m \u001b[38;5;66;03m#     self.mass_arg_is_list and not len_check\u001b[39;00m\n\u001b[1;32m    396\u001b[0m \u001b[38;5;66;03m#     ):\u001b[39;00m\n\u001b[0;32m   (...)\u001b[0m\n\u001b[1;32m    400\u001b[0m \n\u001b[1;32m    401\u001b[0m \u001b[38;5;28;01melse\u001b[39;00m:\n\u001b[0;32m--> 402\u001b[0m     \u001b[38;5;28;01mraise\u001b[39;00m IllegalArgumentError(\n\u001b[1;32m    403\u001b[0m         \u001b[38;5;124m\"\u001b[39m\u001b[38;5;124mAlgorithm for mass calculation must be \u001b[39m\u001b[38;5;124m'\u001b[39m\u001b[38;5;124mlist_per_stop\u001b[39m\u001b[38;5;124m'\u001b[39m\u001b[38;5;124m\"\u001b[39m\n\u001b[1;32m    404\u001b[0m         )\n\u001b[1;32m    407\u001b[0m \u001b[38;5;28;01mreturn\u001b[39;00m full_mass_column\n",
      "\u001b[0;31mIllegalArgumentError\u001b[0m: Algorithm for mass calculation must be 'list_per_stop'"
     ]
    }
   ],
   "source": [
    "ex = ldm.RouteTrajectory(\n",
    "rt_list[0],\n",
    "shapefile_name,\n",
    "stop_coords,\n",
    "signal_coords,\n",
    "mass_array=mass_bus + mass_passengers,\n",
    "a_prof=a_prof\n",
    ")"
   ]
  },
  {
   "cell_type": "code",
   "execution_count": null,
   "id": "5bf2f8ea",
   "metadata": {},
   "outputs": [],
   "source": []
  }
 ],
 "metadata": {
  "kernelspec": {
   "display_name": "Python 3 (ipykernel)",
   "language": "python",
   "name": "python3"
  },
  "language_info": {
   "codemirror_mode": {
    "name": "ipython",
    "version": 3
   },
   "file_extension": ".py",
   "mimetype": "text/x-python",
   "name": "python",
   "nbconvert_exporter": "python",
   "pygments_lexer": "ipython3",
   "version": "3.10.2"
  }
 },
 "nbformat": 4,
 "nbformat_minor": 5
}
