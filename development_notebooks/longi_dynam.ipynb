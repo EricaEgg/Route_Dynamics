{
 "cells": [
  {
   "cell_type": "code",
   "execution_count": 1,
   "metadata": {},
   "outputs": [],
   "source": [
    "#General imports needed for path\n",
    "import os \n",
    "import sys\n",
    "module_path = os.path.abspath(os.path.join('..'))\n",
    "sys.path.append(module_path)\n",
    "\n",
    "#import for plots\n",
    "import matplotlib.pyplot as plt"
   ]
  },
  {
   "cell_type": "code",
   "execution_count": 9,
   "metadata": {},
   "outputs": [],
   "source": [
    "import route_dynamics.route_elevation.base_df as base\n",
    "import route_dynamics.route_energy.knn as knn\n",
    "from route_dynamics.route_riders import route_riders as ride\n",
    "import route_dynamics.route_energy.longi_dynam_model as ldm\n",
    "import route_dynamics.route_energy.accel as ca\n",
    "\n",
    "import numpy as np\n",
    "import geopandas as gpd\n",
    "import pandas as pd\n",
    "from shapely.geometry import mapping\n",
    "\n",
    "import warnings\n",
    "warnings.filterwarnings('ignore')"
   ]
  },
  {
   "cell_type": "code",
   "execution_count": 12,
   "metadata": {},
   "outputs": [],
   "source": [
    "#User defines what routes they want to evaluate\n",
    "rt_list = [22]\n",
    "\n",
    "#Import data files\n",
    "shapefile_name = '../data/rt' + str(rt_list[0]) + '_pts2.shp'\n",
    "stops_shp = '../data/Transit_Stops_for_King_County_Metro__transitstop_point.shp'\n",
    "\n",
    "#Initialize route dataframe\n",
    "rt_df = base.wrapper(shapefile_name, 6, 6)"
   ]
  },
  {
   "cell_type": "code",
   "execution_count": 5,
   "metadata": {},
   "outputs": [
    {
     "data": {
      "text/html": [
       "<div>\n",
       "<style scoped>\n",
       "    .dataframe tbody tr th:only-of-type {\n",
       "        vertical-align: middle;\n",
       "    }\n",
       "\n",
       "    .dataframe tbody tr th {\n",
       "        vertical-align: top;\n",
       "    }\n",
       "\n",
       "    .dataframe thead th {\n",
       "        text-align: right;\n",
       "    }\n",
       "</style>\n",
       "<table border=\"1\" class=\"dataframe\">\n",
       "  <thead>\n",
       "    <tr style=\"text-align: right;\">\n",
       "      <th></th>\n",
       "      <th>geometry</th>\n",
       "      <th>distance</th>\n",
       "      <th>elevation</th>\n",
       "      <th>speed_limit</th>\n",
       "      <th>grade</th>\n",
       "    </tr>\n",
       "  </thead>\n",
       "  <tbody>\n",
       "    <tr>\n",
       "      <th>0</th>\n",
       "      <td>POINT (-122.38813 47.56295)</td>\n",
       "      <td>0.0000</td>\n",
       "      <td>99.398090</td>\n",
       "      <td>11.175682</td>\n",
       "      <td>0.000000</td>\n",
       "    </tr>\n",
       "    <tr>\n",
       "      <th>1</th>\n",
       "      <td>POINT (-122.38798 47.56295)</td>\n",
       "      <td>10.9728</td>\n",
       "      <td>99.874774</td>\n",
       "      <td>11.175682</td>\n",
       "      <td>0.043442</td>\n",
       "    </tr>\n",
       "    <tr>\n",
       "      <th>2</th>\n",
       "      <td>POINT (-122.38784 47.56295)</td>\n",
       "      <td>21.9456</td>\n",
       "      <td>100.272354</td>\n",
       "      <td>11.175682</td>\n",
       "      <td>0.036233</td>\n",
       "    </tr>\n",
       "    <tr>\n",
       "      <th>3</th>\n",
       "      <td>POINT (-122.38769 47.56295)</td>\n",
       "      <td>32.9184</td>\n",
       "      <td>100.594760</td>\n",
       "      <td>11.175682</td>\n",
       "      <td>0.029382</td>\n",
       "    </tr>\n",
       "    <tr>\n",
       "      <th>4</th>\n",
       "      <td>POINT (-122.38754 47.56295)</td>\n",
       "      <td>43.8912</td>\n",
       "      <td>100.845922</td>\n",
       "      <td>11.175682</td>\n",
       "      <td>0.022889</td>\n",
       "    </tr>\n",
       "  </tbody>\n",
       "</table>\n",
       "</div>"
      ],
      "text/plain": [
       "                      geometry  distance   elevation  speed_limit     grade\n",
       "0  POINT (-122.38813 47.56295)    0.0000   99.398090    11.175682  0.000000\n",
       "1  POINT (-122.38798 47.56295)   10.9728   99.874774    11.175682  0.043442\n",
       "2  POINT (-122.38784 47.56295)   21.9456  100.272354    11.175682  0.036233\n",
       "3  POINT (-122.38769 47.56295)   32.9184  100.594760    11.175682  0.029382\n",
       "4  POINT (-122.38754 47.56295)   43.8912  100.845922    11.175682  0.022889"
      ]
     },
     "execution_count": 5,
     "metadata": {},
     "output_type": "execute_result"
    }
   ],
   "source": [
    "rt_df.head()"
   ]
  },
  {
   "cell_type": "code",
   "execution_count": 6,
   "metadata": {},
   "outputs": [],
   "source": [
    "# df, riders, mass = ride.route_ridership('AM', rt_list[0]) \n",
    "\n",
    "# stop_coord, rider_coord = ride.stop_coord(rt_list[0], riders)\n",
    "# coords = rider_coord['coordinates'].values\n",
    "# mass2 = rider_coord['Mean'].values\n",
    "\n",
    "# stop_coords = stop_coord.coordinates.values\n",
    "\n",
    "period = 'PM'\n",
    "route = 22"
   ]
  },
  {
   "cell_type": "code",
   "execution_count": 7,
   "metadata": {},
   "outputs": [],
   "source": [
    "trip183 = pd.read_csv(\"../data/Trip183.csv\", usecols = ['SignRt', 'InOut', 'KeyTrip', 'BusType', 'Seats', \n",
    "                     'Period', 'AnnRides']) # KCM Data\n",
    "trip183unsum = pd.read_csv(\"../data/Zon183Unsum.csv\", usecols = ['Route', 'Dir', 'Trip_ID', 'InOut', 'STOP_SEQ', 'STOP_ID',\n",
    "                     'Period', 'AveOn', 'AveOff', 'AveLd', 'Obs']) # KCM Data"
   ]
  },
  {
   "cell_type": "code",
   "execution_count": 10,
   "metadata": {},
   "outputs": [],
   "source": [
    "trip_df = ride.route_ridership('PM', rt_list[0], 14000)\n",
    "geometry = trip_df.geometry.values"
   ]
  },
  {
   "cell_type": "code",
   "execution_count": 11,
   "metadata": {},
   "outputs": [],
   "source": [
    "xy = []\n",
    "for i in range(len(geometry)):\n",
    "    dic = mapping(geometry[i][0])\n",
    "    coords = dic['coordinates']\n",
    "    xy.append(coords)\n",
    "    xy_df = pd.DataFrame(columns = ['STOP_ID','coordinates'])\n",
    "    xy_df['coordinates'] = xy\n",
    "    \n",
    "xy_df\n",
    "\n",
    "stop_coords = xy_df.coordinates.values"
   ]
  },
  {
   "cell_type": "code",
   "execution_count": 13,
   "metadata": {},
   "outputs": [],
   "source": [
    "# stops = gpd.read_file(stops_shp)\n",
    "# stops['ROUTE_LIST'].fillna(value=str(0), inplace=True)"
   ]
  },
  {
   "cell_type": "code",
   "execution_count": null,
   "metadata": {},
   "outputs": [],
   "source": []
  },
  {
   "cell_type": "code",
   "execution_count": 24,
   "metadata": {},
   "outputs": [],
   "source": []
  },
  {
   "cell_type": "code",
   "execution_count": 25,
   "metadata": {},
   "outputs": [],
   "source": []
  },
  {
   "cell_type": "code",
   "execution_count": 14,
   "metadata": {},
   "outputs": [],
   "source": [
    "# stops_list = pd.DataFrame()\n",
    "# for i in range(0, len(stops)):\n",
    "\n",
    "#     if str(rt_list[0]) in (stops['ROUTE_LIST'][i]):\n",
    "#         for x in stops['ROUTE_LIST'][i].split(' '):\n",
    "#             if str(rt_list[0]) == x:\n",
    "#                 stops_list = stops_list.append(stops.iloc[i])\n",
    "#             else:\n",
    "#                 pass\n",
    "#     else:\n",
    "#         pass\n",
    "\n",
    "# stop_ids = stops_list['STOP_ID'].values\n",
    "\n",
    "# geometry = stops_list.geometry.values\n",
    "\n",
    "# xy = []\n",
    "# for i in range(len(geometry)):\n",
    "#     dic = mapping(geometry[i])\n",
    "#     coords = dic['coordinates']\n",
    "#     xy.append(coords)\n",
    "#     xy_df = pd.DataFrame(columns = ['STOP_ID','coordinates'])\n",
    "#     xy_df['coordinates'] = xy\n",
    "\n",
    "# xy_df['STOP_ID'] = stops_list['STOP_ID'].values\n",
    "\n",
    "# df = riders_kept\n",
    "# df_ind = df.reset_index()\n",
    "# df_ind.columns = ['STOP_SEQ', 'STOP_ID', 'Mean']\n",
    "\n",
    "# df_comb = xy_df.merge(df_ind, how='right', on=\"STOP_ID\")\n",
    "# df_comb = df_comb.drop_duplicates(subset=['STOP_ID'], keep='first')\n",
    "# df_comb = df_comb[['STOP_SEQ', 'STOP_ID', 'coordinates', 'Mean']]\n",
    "# df_combine = df_comb.sort_values(by='STOP_SEQ')\n",
    "\n",
    "# df_combine.head()"
   ]
  },
  {
   "cell_type": "code",
   "execution_count": 29,
   "metadata": {},
   "outputs": [],
   "source": [
    "# stop_coords = df_combine.coordinates.values"
   ]
  },
  {
   "cell_type": "code",
   "execution_count": 15,
   "metadata": {},
   "outputs": [],
   "source": [
    "# add stops to bus dataframe\n",
    "\n",
    "stop_nn_indicies, stop_coord_nn = knn.find_knn(\n",
    "                1,\n",
    "                rt_df.geometry.values,\n",
    "                stop_coords\n",
    "                )"
   ]
  },
  {
   "cell_type": "code",
   "execution_count": 16,
   "metadata": {},
   "outputs": [
    {
     "data": {
      "text/plain": [
       "(88, 1)"
      ]
     },
     "execution_count": 16,
     "metadata": {},
     "output_type": "execute_result"
    }
   ],
   "source": [
    "np.shape(stop_nn_indicies)"
   ]
  },
  {
   "cell_type": "code",
   "execution_count": 25,
   "metadata": {},
   "outputs": [
    {
     "data": {
      "text/plain": [
       "array([ 615,  640,  656,  676,  694,  703,  722,  741,  748,  767,  784,\n",
       "        802,  815,  831,  844,  864,  879,  895,  904,  914,  927,  939,\n",
       "        955,  988, 1022, 1036, 1061, 1109, 1118, 1127, 1135, 1207, 1217,\n",
       "       1247,  351, 1290,  320,  302, 1339,  268, 1362, 1372,  240, 1392,\n",
       "       1413,  202,  190,  181,  169,  159, 1475,  134,  110, 1538,   61,\n",
       "       1594, 1610, 1610,    7,   37,   64,   89, 1509,  139,  156, 1452,\n",
       "       1440,  200,  211,  226, 1384,  248, 1364,  270,  285,  303,  319,\n",
       "        334, 1270, 1246, 1220,  414, 1131, 1117,  502,  550,  571,  615])"
      ]
     },
     "execution_count": 25,
     "metadata": {},
     "output_type": "execute_result"
    }
   ],
   "source": [
    "stop_nn_indicies.ravel()"
   ]
  },
  {
   "cell_type": "code",
   "execution_count": 26,
   "metadata": {},
   "outputs": [],
   "source": [
    "rt_df = rt_df.assign(\n",
    "                is_bus_stop = ([False] * len(rt_df.index))\n",
    "                )\n",
    "\n",
    "for i in stop_nn_indicies.ravel():\n",
    "    rt_df.at[i, 'is_bus_stop'] = True"
   ]
  },
  {
   "cell_type": "code",
   "execution_count": 27,
   "metadata": {},
   "outputs": [
    {
     "data": {
      "text/plain": [
       "86"
      ]
     },
     "execution_count": 27,
     "metadata": {},
     "output_type": "execute_result"
    }
   ],
   "source": [
    "true_count = rt_df.is_bus_stop.sum()\n",
    "true_count"
   ]
  },
  {
   "cell_type": "code",
   "execution_count": 28,
   "metadata": {},
   "outputs": [
    {
     "data": {
      "text/html": [
       "<div>\n",
       "<style scoped>\n",
       "    .dataframe tbody tr th:only-of-type {\n",
       "        vertical-align: middle;\n",
       "    }\n",
       "\n",
       "    .dataframe tbody tr th {\n",
       "        vertical-align: top;\n",
       "    }\n",
       "\n",
       "    .dataframe thead th {\n",
       "        text-align: right;\n",
       "    }\n",
       "</style>\n",
       "<table border=\"1\" class=\"dataframe\">\n",
       "  <thead>\n",
       "    <tr style=\"text-align: right;\">\n",
       "      <th></th>\n",
       "      <th>geometry</th>\n",
       "      <th>distance</th>\n",
       "      <th>elevation</th>\n",
       "      <th>speed_limit</th>\n",
       "      <th>grade</th>\n",
       "      <th>is_bus_stop</th>\n",
       "    </tr>\n",
       "  </thead>\n",
       "  <tbody>\n",
       "    <tr>\n",
       "      <th>0</th>\n",
       "      <td>POINT (-122.38813 47.56295)</td>\n",
       "      <td>0.0000</td>\n",
       "      <td>99.398090</td>\n",
       "      <td>11.175682</td>\n",
       "      <td>0.000000</td>\n",
       "      <td>False</td>\n",
       "    </tr>\n",
       "    <tr>\n",
       "      <th>1</th>\n",
       "      <td>POINT (-122.38798 47.56295)</td>\n",
       "      <td>10.9728</td>\n",
       "      <td>99.874774</td>\n",
       "      <td>11.175682</td>\n",
       "      <td>0.043442</td>\n",
       "      <td>False</td>\n",
       "    </tr>\n",
       "    <tr>\n",
       "      <th>2</th>\n",
       "      <td>POINT (-122.38784 47.56295)</td>\n",
       "      <td>21.9456</td>\n",
       "      <td>100.272354</td>\n",
       "      <td>11.175682</td>\n",
       "      <td>0.036233</td>\n",
       "      <td>False</td>\n",
       "    </tr>\n",
       "    <tr>\n",
       "      <th>3</th>\n",
       "      <td>POINT (-122.38769 47.56295)</td>\n",
       "      <td>32.9184</td>\n",
       "      <td>100.594760</td>\n",
       "      <td>11.175682</td>\n",
       "      <td>0.029382</td>\n",
       "      <td>False</td>\n",
       "    </tr>\n",
       "    <tr>\n",
       "      <th>4</th>\n",
       "      <td>POINT (-122.38754 47.56295)</td>\n",
       "      <td>43.8912</td>\n",
       "      <td>100.845922</td>\n",
       "      <td>11.175682</td>\n",
       "      <td>0.022889</td>\n",
       "      <td>False</td>\n",
       "    </tr>\n",
       "  </tbody>\n",
       "</table>\n",
       "</div>"
      ],
      "text/plain": [
       "                      geometry  distance   elevation  speed_limit     grade  \\\n",
       "0  POINT (-122.38813 47.56295)    0.0000   99.398090    11.175682  0.000000   \n",
       "1  POINT (-122.38798 47.56295)   10.9728   99.874774    11.175682  0.043442   \n",
       "2  POINT (-122.38784 47.56295)   21.9456  100.272354    11.175682  0.036233   \n",
       "3  POINT (-122.38769 47.56295)   32.9184  100.594760    11.175682  0.029382   \n",
       "4  POINT (-122.38754 47.56295)   43.8912  100.845922    11.175682  0.022889   \n",
       "\n",
       "   is_bus_stop  \n",
       "0        False  \n",
       "1        False  \n",
       "2        False  \n",
       "3        False  \n",
       "4        False  "
      ]
     },
     "execution_count": 28,
     "metadata": {},
     "output_type": "execute_result"
    }
   ],
   "source": [
    "rt_df.head()"
   ]
  },
  {
   "cell_type": "code",
   "execution_count": 30,
   "metadata": {},
   "outputs": [],
   "source": [
    "mass_array = trip_df.Total_Mass.values"
   ]
  },
  {
   "cell_type": "code",
   "execution_count": 32,
   "metadata": {},
   "outputs": [],
   "source": [
    "unloaded_bus_mass = 14000"
   ]
  },
  {
   "cell_type": "code",
   "execution_count": 33,
   "metadata": {},
   "outputs": [],
   "source": [
    "# Initialize array of Nan's for mass column of rdf\n",
    "full_mass_column = np.zeros(len(rt_df.index))\n",
    "full_mass_column[:] = np.nan\n",
    "\n",
    "# Iterate through the length of the given mass_array\n",
    "# (already determined equal length to 'stop_coords').\n",
    "for i in range(len(mass_array)):\n",
    "    # Set values of mass at bus_stops\n",
    "    full_mass_column[\n",
    "        stop_nn_indicies[i]\n",
    "        ] = mass_array[i]\n",
    "\n",
    "# Set initial and value to unloaded bus mass.\n",
    "full_mass_column[0] = unloaded_bus_mass\n",
    "full_mass_column[-1] = unloaded_bus_mass\n",
    "\n",
    "# Iterate through the half constructed rdf mass column\n",
    "# ('full_mass_column') and fill in sapce between stops with previous value\n",
    "for i in range(len(full_mass_column)-1):\n",
    "    j = 1\n",
    "    try:\n",
    "        while np.isnan(full_mass_column[i+j]):\n",
    "            full_mass_column[i+j] = full_mass_column[i]\n",
    "            # print(full_mass_column[i+j] )\n",
    "            j+=1\n",
    "    except: IndexError"
   ]
  },
  {
   "cell_type": "code",
   "execution_count": 34,
   "metadata": {},
   "outputs": [],
   "source": [
    "rt_df = rt_df.assign(\n",
    "            mass = full_mass_column\n",
    "            )"
   ]
  },
  {
   "cell_type": "code",
   "execution_count": 35,
   "metadata": {},
   "outputs": [
    {
     "data": {
      "text/html": [
       "<div>\n",
       "<style scoped>\n",
       "    .dataframe tbody tr th:only-of-type {\n",
       "        vertical-align: middle;\n",
       "    }\n",
       "\n",
       "    .dataframe tbody tr th {\n",
       "        vertical-align: top;\n",
       "    }\n",
       "\n",
       "    .dataframe thead th {\n",
       "        text-align: right;\n",
       "    }\n",
       "</style>\n",
       "<table border=\"1\" class=\"dataframe\">\n",
       "  <thead>\n",
       "    <tr style=\"text-align: right;\">\n",
       "      <th></th>\n",
       "      <th>geometry</th>\n",
       "      <th>distance</th>\n",
       "      <th>elevation</th>\n",
       "      <th>speed_limit</th>\n",
       "      <th>grade</th>\n",
       "      <th>is_bus_stop</th>\n",
       "      <th>mass</th>\n",
       "    </tr>\n",
       "  </thead>\n",
       "  <tbody>\n",
       "    <tr>\n",
       "      <th>0</th>\n",
       "      <td>POINT (-122.38813 47.56295)</td>\n",
       "      <td>0.0000</td>\n",
       "      <td>99.398090</td>\n",
       "      <td>11.175682</td>\n",
       "      <td>0.000000</td>\n",
       "      <td>False</td>\n",
       "      <td>14000.0</td>\n",
       "    </tr>\n",
       "    <tr>\n",
       "      <th>1</th>\n",
       "      <td>POINT (-122.38798 47.56295)</td>\n",
       "      <td>10.9728</td>\n",
       "      <td>99.874774</td>\n",
       "      <td>11.175682</td>\n",
       "      <td>0.043442</td>\n",
       "      <td>False</td>\n",
       "      <td>14000.0</td>\n",
       "    </tr>\n",
       "    <tr>\n",
       "      <th>2</th>\n",
       "      <td>POINT (-122.38784 47.56295)</td>\n",
       "      <td>21.9456</td>\n",
       "      <td>100.272354</td>\n",
       "      <td>11.175682</td>\n",
       "      <td>0.036233</td>\n",
       "      <td>False</td>\n",
       "      <td>14000.0</td>\n",
       "    </tr>\n",
       "    <tr>\n",
       "      <th>3</th>\n",
       "      <td>POINT (-122.38769 47.56295)</td>\n",
       "      <td>32.9184</td>\n",
       "      <td>100.594760</td>\n",
       "      <td>11.175682</td>\n",
       "      <td>0.029382</td>\n",
       "      <td>False</td>\n",
       "      <td>14000.0</td>\n",
       "    </tr>\n",
       "    <tr>\n",
       "      <th>4</th>\n",
       "      <td>POINT (-122.38754 47.56295)</td>\n",
       "      <td>43.8912</td>\n",
       "      <td>100.845922</td>\n",
       "      <td>11.175682</td>\n",
       "      <td>0.022889</td>\n",
       "      <td>False</td>\n",
       "      <td>14000.0</td>\n",
       "    </tr>\n",
       "  </tbody>\n",
       "</table>\n",
       "</div>"
      ],
      "text/plain": [
       "                      geometry  distance   elevation  speed_limit     grade  \\\n",
       "0  POINT (-122.38813 47.56295)    0.0000   99.398090    11.175682  0.000000   \n",
       "1  POINT (-122.38798 47.56295)   10.9728   99.874774    11.175682  0.043442   \n",
       "2  POINT (-122.38784 47.56295)   21.9456  100.272354    11.175682  0.036233   \n",
       "3  POINT (-122.38769 47.56295)   32.9184  100.594760    11.175682  0.029382   \n",
       "4  POINT (-122.38754 47.56295)   43.8912  100.845922    11.175682  0.022889   \n",
       "\n",
       "   is_bus_stop     mass  \n",
       "0        False  14000.0  \n",
       "1        False  14000.0  \n",
       "2        False  14000.0  \n",
       "3        False  14000.0  \n",
       "4        False  14000.0  "
      ]
     },
     "execution_count": 35,
     "metadata": {},
     "output_type": "execute_result"
    }
   ],
   "source": [
    "rt_df.head()"
   ]
  },
  {
   "cell_type": "code",
   "execution_count": 36,
   "metadata": {},
   "outputs": [
    {
     "data": {
      "text/plain": [
       "14768.0    108\n",
       "15536.0     86\n",
       "14544.0     75\n",
       "14352.0     75\n",
       "14640.0     73\n",
       "14712.0     72\n",
       "14696.0     66\n",
       "14512.0     64\n",
       "14776.0     50\n",
       "15160.0     49\n",
       "14872.0     48\n",
       "14424.0     45\n",
       "14432.0     45\n",
       "14800.0     44\n",
       "14560.0     43\n",
       "14664.0     41\n",
       "14912.0     38\n",
       "14496.0     38\n",
       "14648.0     34\n",
       "14608.0     34\n",
       "14856.0     34\n",
       "14456.0     29\n",
       "14344.0     28\n",
       "14920.0     27\n",
       "14520.0     26\n",
       "14360.0     26\n",
       "14784.0     25\n",
       "14624.0     23\n",
       "15000.0     23\n",
       "14744.0     21\n",
       "14808.0     21\n",
       "14928.0     21\n",
       "14592.0     21\n",
       "14448.0     17\n",
       "14208.0     16\n",
       "14576.0     15\n",
       "15032.0     14\n",
       "14632.0     14\n",
       "14440.0     13\n",
       "14952.0     12\n",
       "14904.0     12\n",
       "14656.0     12\n",
       "14944.0     12\n",
       "14296.0      9\n",
       "14000.0      8\n",
       "14816.0      5\n",
       "14704.0      4\n",
       "15344.0      3\n",
       "15024.0      1\n",
       "Name: mass, dtype: int64"
      ]
     },
     "execution_count": 36,
     "metadata": {},
     "output_type": "execute_result"
    }
   ],
   "source": [
    "rt_df['mass'].value_counts()"
   ]
  },
  {
   "cell_type": "code",
   "execution_count": null,
   "metadata": {},
   "outputs": [],
   "source": []
  }
 ],
 "metadata": {
  "kernelspec": {
   "display_name": "Python 3 (ipykernel)",
   "language": "python",
   "name": "python3"
  },
  "language_info": {
   "codemirror_mode": {
    "name": "ipython",
    "version": 3
   },
   "file_extension": ".py",
   "mimetype": "text/x-python",
   "name": "python",
   "nbconvert_exporter": "python",
   "pygments_lexer": "ipython3",
   "version": "3.10.2"
  }
 },
 "nbformat": 4,
 "nbformat_minor": 2
}
