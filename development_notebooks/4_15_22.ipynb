{
 "cells": [
  {
   "cell_type": "code",
   "execution_count": 1,
   "id": "13934d8c",
   "metadata": {},
   "outputs": [],
   "source": [
    "#General imports needed for path\n",
    "import os \n",
    "import sys\n",
    "module_path = os.path.abspath(os.path.join('..'))\n",
    "sys.path.append(module_path)"
   ]
  },
  {
   "cell_type": "code",
   "execution_count": 2,
   "id": "c1425d85",
   "metadata": {},
   "outputs": [],
   "source": [
    "import numpy as np\n",
    "import pandas as pd\n",
    "import geopandas as gpd\n",
    "import matplotlib.pyplot as plt\n",
    "from shapely.geometry import mapping\n",
    "import folium\n",
    "import itertools\n",
    "\n",
    "import warnings\n",
    "warnings.filterwarnings('ignore')"
   ]
  },
  {
   "cell_type": "code",
   "execution_count": 3,
   "id": "30c97544",
   "metadata": {},
   "outputs": [],
   "source": [
    "#Packages created by our group:\n",
    "import route_dynamics.route_elevation.base_df as base\n",
    "import route_dynamics.route_energy.knn as knn\n",
    "from route_dynamics.route_riders import route_riders as ride\n",
    "import route_dynamics.route_energy.longi_dynam_model as ldm\n",
    "import route_dynamics.route_energy.accel as ca"
   ]
  },
  {
   "cell_type": "code",
   "execution_count": 4,
   "id": "5fcbc9ed",
   "metadata": {},
   "outputs": [],
   "source": [
    "#User defines what routes they want to evaluate\n",
    "rt_list = [22,101,102,143,150,153,154,156,157,158,159,168,169,177,178,179,180,181,182,183,186,187,190,192]\n",
    "\n",
    "#Import route shapefile\n",
    "\n",
    "shapefile_name = '../data/rt' + str(rt_list[0]) + '_pts2.shp'\n",
    "\n",
    "#Import bus stops shapefile\n",
    "\n",
    "stops_shp = '../data/Transit_Stops_for_King_County_Metro__transitstop_point.shp'\n",
    "\n",
    "signals_shp = '../data/traffic_signals2.shp'\n",
    "\n",
    "trip183 = pd.read_csv(\"../data/Trip183.csv\", usecols = ['SignRt', 'InOut', 'KeyTrip', 'BusType', 'Seats', \n",
    "                     'Period', 'AnnRides']) # KCM Data\n",
    "trip183unsum = pd.read_csv(\"../data/Zon183Unsum.csv\", usecols = ['Route', 'Dir', 'Trip_ID', 'InOut', 'STOP_SEQ', 'STOP_ID',\n",
    "                     'Period', 'AveOn', 'AveOff', 'AveLd', 'Obs'])\n",
    "\n",
    "#Acceleration profile\n",
    "a_prof = pd.read_csv(\"../data/acceleration.csv\", names=['time (s)', 'accel. (g)'])"
   ]
  },
  {
   "cell_type": "code",
   "execution_count": 5,
   "id": "1f61be5f",
   "metadata": {},
   "outputs": [],
   "source": [
    "trip_df = ride.route_ridership('PM', rt_list[0], 14000)\n",
    "geometry = trip_df.geometry.values"
   ]
  },
  {
   "cell_type": "code",
   "execution_count": 6,
   "id": "2783d6af",
   "metadata": {},
   "outputs": [],
   "source": [
    "xy = []\n",
    "for i in range(len(geometry)):\n",
    "    dic = mapping(geometry[i][0])\n",
    "    coords = dic['coordinates']\n",
    "    xy.append(coords)\n",
    "    xy_df = pd.DataFrame(columns = ['STOP_ID','coordinates'])\n",
    "    xy_df['coordinates'] = xy\n",
    "    \n",
    "xy_df\n",
    "\n",
    "stop_coords = xy_df.coordinates.values"
   ]
  },
  {
   "cell_type": "code",
   "execution_count": 7,
   "id": "2e6ffc3a",
   "metadata": {},
   "outputs": [
    {
     "data": {
      "text/plain": [
       "88"
      ]
     },
     "execution_count": 7,
     "metadata": {},
     "output_type": "execute_result"
    }
   ],
   "source": [
    "len(stop_coords)"
   ]
  },
  {
   "cell_type": "code",
   "execution_count": 8,
   "id": "a4582c60",
   "metadata": {},
   "outputs": [
    {
     "data": {
      "text/plain": [
       "(88,)"
      ]
     },
     "execution_count": 8,
     "metadata": {},
     "output_type": "execute_result"
    }
   ],
   "source": [
    "np.shape(stop_coords)"
   ]
  },
  {
   "cell_type": "code",
   "execution_count": null,
   "id": "08535a7a",
   "metadata": {},
   "outputs": [],
   "source": []
  },
  {
   "cell_type": "code",
   "execution_count": 9,
   "id": "0cd43bd2",
   "metadata": {},
   "outputs": [],
   "source": [
    "signals = gpd.read_file(signals_shp)\n",
    "signals = signals[signals['Route_Num']==str(rt_list[0])]\n",
    "geometry = signals.geometry.values\n",
    "xy = []\n",
    "for i in range(len(geometry)):\n",
    "    dic = mapping(geometry[i])\n",
    "    coords = dic['coordinates']\n",
    "    xy.append(coords)\n",
    "    xy_df = pd.DataFrame(columns = ['STOP_ID','coordinates'])\n",
    "    xy_df['coordinates'] = xy\n",
    "    \n",
    "xy_df\n",
    "\n",
    "signal_coords = xy_df.coordinates.values"
   ]
  },
  {
   "cell_type": "code",
   "execution_count": 10,
   "id": "9a3ca53c",
   "metadata": {},
   "outputs": [
    {
     "data": {
      "text/plain": [
       "16"
      ]
     },
     "execution_count": 10,
     "metadata": {},
     "output_type": "execute_result"
    }
   ],
   "source": [
    "len(signal_coords)"
   ]
  },
  {
   "cell_type": "code",
   "execution_count": 18,
   "id": "f66d3dea",
   "metadata": {},
   "outputs": [],
   "source": [
    "mass_array = trip_df.Total_Mass.values"
   ]
  },
  {
   "cell_type": "code",
   "execution_count": 19,
   "id": "737d8385",
   "metadata": {},
   "outputs": [],
   "source": [
    "# mass_array = np.array([mass_array])\n",
    "# mass_array"
   ]
  },
  {
   "cell_type": "code",
   "execution_count": 20,
   "id": "b828cd86",
   "metadata": {},
   "outputs": [],
   "source": [
    "# mass_array = np.swapaxes(mass_array, 0, 1)"
   ]
  },
  {
   "cell_type": "code",
   "execution_count": 21,
   "id": "5b8036a9",
   "metadata": {},
   "outputs": [
    {
     "data": {
      "text/plain": [
       "(88,)"
      ]
     },
     "execution_count": 21,
     "metadata": {},
     "output_type": "execute_result"
    }
   ],
   "source": [
    "np.shape(mass_array)"
   ]
  },
  {
   "cell_type": "code",
   "execution_count": 22,
   "id": "92762a67",
   "metadata": {},
   "outputs": [
    {
     "data": {
      "text/plain": [
       "()"
      ]
     },
     "execution_count": 22,
     "metadata": {},
     "output_type": "execute_result"
    }
   ],
   "source": [
    "np.shape(mass_array[0])"
   ]
  },
  {
   "cell_type": "code",
   "execution_count": 23,
   "id": "07d9aab7",
   "metadata": {},
   "outputs": [
    {
     "data": {
      "text/html": [
       "<div>\n",
       "<style scoped>\n",
       "    .dataframe tbody tr th:only-of-type {\n",
       "        vertical-align: middle;\n",
       "    }\n",
       "\n",
       "    .dataframe tbody tr th {\n",
       "        vertical-align: top;\n",
       "    }\n",
       "\n",
       "    .dataframe thead th {\n",
       "        text-align: right;\n",
       "    }\n",
       "</style>\n",
       "<table border=\"1\" class=\"dataframe\">\n",
       "  <thead>\n",
       "    <tr style=\"text-align: right;\">\n",
       "      <th></th>\n",
       "      <th>time (s)</th>\n",
       "      <th>accel. (g)</th>\n",
       "      <th>accel. (m/s^2)</th>\n",
       "      <th>vel. (m/s)</th>\n",
       "      <th>vel. (mph)</th>\n",
       "      <th>dist. (m)</th>\n",
       "    </tr>\n",
       "  </thead>\n",
       "  <tbody>\n",
       "    <tr>\n",
       "      <th>0</th>\n",
       "      <td>0.0</td>\n",
       "      <td>0.0006</td>\n",
       "      <td>0.005886</td>\n",
       "      <td>0.000000</td>\n",
       "      <td>0.000000</td>\n",
       "      <td>0.000000</td>\n",
       "    </tr>\n",
       "    <tr>\n",
       "      <th>1</th>\n",
       "      <td>1.0</td>\n",
       "      <td>0.1156</td>\n",
       "      <td>1.134036</td>\n",
       "      <td>0.569961</td>\n",
       "      <td>1.253914</td>\n",
       "      <td>0.284981</td>\n",
       "    </tr>\n",
       "    <tr>\n",
       "      <th>2</th>\n",
       "      <td>2.0</td>\n",
       "      <td>0.1239</td>\n",
       "      <td>1.215459</td>\n",
       "      <td>1.744709</td>\n",
       "      <td>3.838359</td>\n",
       "      <td>1.442315</td>\n",
       "    </tr>\n",
       "    <tr>\n",
       "      <th>3</th>\n",
       "      <td>3.0</td>\n",
       "      <td>0.1261</td>\n",
       "      <td>1.237041</td>\n",
       "      <td>2.970959</td>\n",
       "      <td>6.536109</td>\n",
       "      <td>3.800149</td>\n",
       "    </tr>\n",
       "    <tr>\n",
       "      <th>4</th>\n",
       "      <td>4.0</td>\n",
       "      <td>0.1256</td>\n",
       "      <td>1.232136</td>\n",
       "      <td>4.205547</td>\n",
       "      <td>9.252203</td>\n",
       "      <td>7.388402</td>\n",
       "    </tr>\n",
       "  </tbody>\n",
       "</table>\n",
       "</div>"
      ],
      "text/plain": [
       "   time (s)  accel. (g)  accel. (m/s^2)  vel. (m/s)  vel. (mph)  dist. (m)\n",
       "0       0.0      0.0006        0.005886    0.000000    0.000000   0.000000\n",
       "1       1.0      0.1156        1.134036    0.569961    1.253914   0.284981\n",
       "2       2.0      0.1239        1.215459    1.744709    3.838359   1.442315\n",
       "3       3.0      0.1261        1.237041    2.970959    6.536109   3.800149\n",
       "4       4.0      0.1256        1.232136    4.205547    9.252203   7.388402"
      ]
     },
     "execution_count": 23,
     "metadata": {},
     "output_type": "execute_result"
    }
   ],
   "source": [
    "a_prof.head()"
   ]
  },
  {
   "cell_type": "code",
   "execution_count": null,
   "id": "e9d6fb1d",
   "metadata": {},
   "outputs": [],
   "source": []
  },
  {
   "cell_type": "code",
   "execution_count": 24,
   "id": "9dfb73a6",
   "metadata": {},
   "outputs": [
    {
     "ename": "ValueError",
     "evalue": "shape mismatch: value array of shape (1,2) could not be broadcast to indexing result of shape (1,)",
     "output_type": "error",
     "traceback": [
      "\u001b[0;31m---------------------------------------------------------------------------\u001b[0m",
      "\u001b[0;31mValueError\u001b[0m                                Traceback (most recent call last)",
      "Input \u001b[0;32mIn [24]\u001b[0m, in \u001b[0;36m<cell line: 1>\u001b[0;34m()\u001b[0m\n\u001b[0;32m----> 1\u001b[0m ex \u001b[38;5;241m=\u001b[39m \u001b[43mldm\u001b[49m\u001b[38;5;241;43m.\u001b[39;49m\u001b[43mRouteTrajectory\u001b[49m\u001b[43m(\u001b[49m\n\u001b[1;32m      2\u001b[0m \u001b[43mrt_list\u001b[49m\u001b[43m[\u001b[49m\u001b[38;5;241;43m0\u001b[39;49m\u001b[43m]\u001b[49m\u001b[43m,\u001b[49m\n\u001b[1;32m      3\u001b[0m \u001b[43mshapefile_name\u001b[49m\u001b[43m,\u001b[49m\n\u001b[1;32m      4\u001b[0m \u001b[43ma_prof\u001b[49m\u001b[43m,\u001b[49m\n\u001b[1;32m      5\u001b[0m \u001b[43mstop_coords\u001b[49m\u001b[43m,\u001b[49m\n\u001b[1;32m      6\u001b[0m \u001b[43msignal_coords\u001b[49m\u001b[43m,\u001b[49m\n\u001b[1;32m      7\u001b[0m \u001b[43mmass_array\u001b[49m\n\u001b[1;32m      8\u001b[0m \u001b[43m)\u001b[49m\n",
      "File \u001b[0;32m~/Route_Dynamics/route_dynamics/route_energy/longi_dynam_model.py:54\u001b[0m, in \u001b[0;36mRouteTrajectory.__init__\u001b[0;34m(self, route_num, shp_filename, a_prof, stop_coords, signal_coords, mass_array, unloaded_bus_mass, charging_power_max, a_pos, a_neg)\u001b[0m\n\u001b[1;32m     44\u001b[0m \u001b[38;5;66;03m# Build Route DataFrame, starting with columns:\u001b[39;00m\n\u001b[1;32m     45\u001b[0m \u001b[38;5;66;03m#     - 'Z' (elevation)\u001b[39;00m\n\u001b[1;32m     46\u001b[0m \u001b[38;5;66;03m#     - 'geometry' (coordinates)\u001b[39;00m\n\u001b[1;32m     47\u001b[0m \u001b[38;5;66;03m#     - 'length' (cumulative distance)\u001b[39;00m\n\u001b[1;32m     48\u001b[0m \u001b[38;5;66;03m#     - 'grade' \u001b[39;00m\n\u001b[1;32m     49\u001b[0m \u001b[38;5;66;03m#     - 'is_bus_stop'\u001b[39;00m\n\u001b[1;32m     50\u001b[0m \u001b[38;5;28mself\u001b[39m\u001b[38;5;241m.\u001b[39mroute_df \u001b[38;5;241m=\u001b[39m \u001b[38;5;28mself\u001b[39m\u001b[38;5;241m.\u001b[39mbuild_route_coordinate_df(\n\u001b[1;32m     51\u001b[0m     shp_filename \u001b[38;5;241m=\u001b[39m shp_filename\n\u001b[1;32m     52\u001b[0m     )\n\u001b[0;32m---> 54\u001b[0m \u001b[38;5;28mself\u001b[39m\u001b[38;5;241m.\u001b[39mroute_df \u001b[38;5;241m=\u001b[39m \u001b[38;5;28;43mself\u001b[39;49m\u001b[38;5;241;43m.\u001b[39;49m\u001b[43m_add_dynamics_to_df\u001b[49m\u001b[43m(\u001b[49m\n\u001b[1;32m     55\u001b[0m \u001b[43m    \u001b[49m\u001b[43mroute_df\u001b[49m\u001b[38;5;241;43m=\u001b[39;49m\u001b[38;5;28;43mself\u001b[39;49m\u001b[38;5;241;43m.\u001b[39;49m\u001b[43mroute_df\u001b[49m\u001b[43m,\u001b[49m\n\u001b[1;32m     56\u001b[0m \u001b[43m    \u001b[49m\u001b[43ma_prof\u001b[49m\u001b[38;5;241;43m=\u001b[39;49m\u001b[43ma_prof\u001b[49m\u001b[43m,\u001b[49m\n\u001b[1;32m     57\u001b[0m \u001b[43m    \u001b[49m\u001b[43mstop_coords\u001b[49m\u001b[38;5;241;43m=\u001b[39;49m\u001b[43mstop_coords\u001b[49m\u001b[43m,\u001b[49m\n\u001b[1;32m     58\u001b[0m \u001b[43m    \u001b[49m\u001b[43msignal_coords\u001b[49m\u001b[38;5;241;43m=\u001b[39;49m\u001b[43msignal_coords\u001b[49m\n\u001b[1;32m     59\u001b[0m \u001b[43m    \u001b[49m\u001b[43m)\u001b[49m\n",
      "File \u001b[0;32m~/Route_Dynamics/route_dynamics/route_energy/longi_dynam_model.py:124\u001b[0m, in \u001b[0;36mRouteTrajectory._add_dynamics_to_df\u001b[0;34m(self, route_df, a_prof, stop_coords, signal_coords)\u001b[0m\n\u001b[1;32m    121\u001b[0m route_df \u001b[38;5;241m=\u001b[39m \u001b[38;5;28mself\u001b[39m\u001b[38;5;241m.\u001b[39m_add_delta_times_to_df(route_df, \u001b[38;5;124m'\u001b[39m\u001b[38;5;124mmodel\u001b[39m\u001b[38;5;124m'\u001b[39m)\n\u001b[1;32m    123\u001b[0m \u001b[38;5;66;03m# Add passenger mass column to route_df\u001b[39;00m\n\u001b[0;32m--> 124\u001b[0m route_df \u001b[38;5;241m=\u001b[39m \u001b[38;5;28;43mself\u001b[39;49m\u001b[38;5;241;43m.\u001b[39;49m\u001b[43m_add_mass_to_df\u001b[49m\u001b[43m(\u001b[49m\u001b[43mroute_df\u001b[49m\u001b[43m)\u001b[49m\n\u001b[1;32m    126\u001b[0m \u001b[38;5;66;03m# Add force columns to route_df:\u001b[39;00m\n\u001b[1;32m    127\u001b[0m \u001b[38;5;66;03m#     - 'grav_force' : gravitation force determined by road grade\u001b[39;00m\n\u001b[1;32m    128\u001b[0m \u001b[38;5;66;03m#     - 'roll_fric' : rolling friction\u001b[39;00m\n\u001b[1;32m    129\u001b[0m \u001b[38;5;66;03m#     - 'aero_drag' : areodynamic drag\u001b[39;00m\n\u001b[1;32m    130\u001b[0m \u001b[38;5;66;03m#     - 'inertia' : inertial force, F = ma. Changes with passenger load\u001b[39;00m\n\u001b[1;32m    131\u001b[0m \u001b[38;5;66;03m#                   on bus.\u001b[39;00m\n\u001b[1;32m    132\u001b[0m route_df \u001b[38;5;241m=\u001b[39m \u001b[38;5;28mself\u001b[39m\u001b[38;5;241m.\u001b[39m_add_forces_to_df(route_df)\n",
      "File \u001b[0;32m~/Route_Dynamics/route_dynamics/route_energy/longi_dynam_model.py:332\u001b[0m, in \u001b[0;36mRouteTrajectory._add_mass_to_df\u001b[0;34m(self, route_df)\u001b[0m\n\u001b[1;32m    327\u001b[0m     \u001b[38;5;66;03m# Does mass array check out for calculation?\u001b[39;00m\n\u001b[1;32m    328\u001b[0m     mass_array_correct_length \u001b[38;5;241m=\u001b[39m (\n\u001b[1;32m    329\u001b[0m         lengths_equiv \u001b[38;5;129;01mand\u001b[39;00m \u001b[38;5;28mself\u001b[39m\u001b[38;5;241m.\u001b[39mmass_arg_is_list\n\u001b[1;32m    330\u001b[0m         )\n\u001b[0;32m--> 332\u001b[0m     full_mass_column \u001b[38;5;241m=\u001b[39m \u001b[38;5;28;43mself\u001b[39;49m\u001b[38;5;241;43m.\u001b[39;49m\u001b[43mcalculate_mass\u001b[49m\u001b[43m(\u001b[49m\n\u001b[1;32m    333\u001b[0m \u001b[43m        \u001b[49m\u001b[43malg\u001b[49m\u001b[38;5;241;43m=\u001b[39;49m\u001b[38;5;124;43m'\u001b[39;49m\u001b[38;5;124;43mlist_per_stop\u001b[39;49m\u001b[38;5;124;43m'\u001b[39;49m\u001b[43m,\u001b[49m\n\u001b[1;32m    334\u001b[0m \u001b[43m        \u001b[49m\u001b[43mlen_check\u001b[49m\u001b[38;5;241;43m=\u001b[39;49m\u001b[43mmass_array_correct_length\u001b[49m\n\u001b[1;32m    335\u001b[0m \u001b[43m        \u001b[49m\u001b[43m)\u001b[49m\n\u001b[1;32m    337\u001b[0m \u001b[38;5;28;01melse\u001b[39;00m: \u001b[38;5;66;03m# Add default mass to every row\u001b[39;00m\n\u001b[1;32m    338\u001b[0m     full_mass_column \u001b[38;5;241m=\u001b[39m \u001b[38;5;28mself\u001b[39m\u001b[38;5;241m.\u001b[39munloaded_bus_mass\u001b[38;5;241m*\u001b[39mnp\u001b[38;5;241m.\u001b[39mones(\n\u001b[1;32m    339\u001b[0m         \u001b[38;5;28mlen\u001b[39m(route_df\u001b[38;5;241m.\u001b[39mindex))\n",
      "File \u001b[0;32m~/Route_Dynamics/route_dynamics/route_energy/longi_dynam_model.py:374\u001b[0m, in \u001b[0;36mRouteTrajectory.calculate_mass\u001b[0;34m(self, alg, len_check)\u001b[0m\n\u001b[1;32m    370\u001b[0m \u001b[38;5;66;03m# Iterate through the length of the given mass_array\u001b[39;00m\n\u001b[1;32m    371\u001b[0m \u001b[38;5;66;03m# (already determined equal length to 'stop_coords').\u001b[39;00m\n\u001b[1;32m    372\u001b[0m \u001b[38;5;28;01mfor\u001b[39;00m i \u001b[38;5;129;01min\u001b[39;00m \u001b[38;5;28mrange\u001b[39m(\u001b[38;5;28mlen\u001b[39m(\u001b[38;5;28mself\u001b[39m\u001b[38;5;241m.\u001b[39mmass_array)):\n\u001b[1;32m    373\u001b[0m     \u001b[38;5;66;03m# Set values of mass at bus_stops\u001b[39;00m\n\u001b[0;32m--> 374\u001b[0m     full_mass_column[\n\u001b[1;32m    375\u001b[0m         \u001b[38;5;28mself\u001b[39m\u001b[38;5;241m.\u001b[39mstop_nn_indicies[i]\n\u001b[1;32m    376\u001b[0m         ] \u001b[38;5;241m=\u001b[39m \u001b[38;5;28mself\u001b[39m\u001b[38;5;241m.\u001b[39mmass_array[i]\n\u001b[1;32m    378\u001b[0m \u001b[38;5;66;03m# Set initial and value to unloaded bus mass.\u001b[39;00m\n\u001b[1;32m    379\u001b[0m full_mass_column[\u001b[38;5;241m0\u001b[39m] \u001b[38;5;241m=\u001b[39m \u001b[38;5;28mself\u001b[39m\u001b[38;5;241m.\u001b[39munloaded_bus_mass\n",
      "\u001b[0;31mValueError\u001b[0m: shape mismatch: value array of shape (1,2) could not be broadcast to indexing result of shape (1,)"
     ]
    }
   ],
   "source": [
    "ex = ldm.RouteTrajectory(\n",
    "rt_list[0],\n",
    "shapefile_name,\n",
    "a_prof,\n",
    "stop_coords,\n",
    "signal_coords,\n",
    "mass_array\n",
    ")"
   ]
  },
  {
   "cell_type": "code",
   "execution_count": null,
   "id": "946d32bb",
   "metadata": {},
   "outputs": [],
   "source": []
  },
  {
   "cell_type": "code",
   "execution_count": null,
   "id": "d90e5453",
   "metadata": {},
   "outputs": [],
   "source": []
  }
 ],
 "metadata": {
  "kernelspec": {
   "display_name": "Python 3 (ipykernel)",
   "language": "python",
   "name": "python3"
  },
  "language_info": {
   "codemirror_mode": {
    "name": "ipython",
    "version": 3
   },
   "file_extension": ".py",
   "mimetype": "text/x-python",
   "name": "python",
   "nbconvert_exporter": "python",
   "pygments_lexer": "ipython3",
   "version": "3.10.2"
  }
 },
 "nbformat": 4,
 "nbformat_minor": 5
}
