{
 "cells": [
  {
   "cell_type": "code",
   "execution_count": 1,
   "metadata": {},
   "outputs": [],
   "source": [
    "from os import path\n",
    "import sys\n",
    "sys.path.append(path.abspath('..'))\n",
    "from route_dynamics.route_elevation import base as rbs\n",
    "from route_dynamics.route_energy import longi_dynam_model as ldm\n",
    "from route_dynamics.tests import test_longi_dynam_model as tldm\n",
    "from route_dynamics.tests import simple_route as sro\n",
    "\n",
    "import numpy as np\n",
    "import pandas as pd"
   ]
  },
  {
   "cell_type": "code",
   "execution_count": 2,
   "metadata": {},
   "outputs": [],
   "source": [
    "test_instance__0_grade = sro.SimpleRouteTrajectory(\n",
    "        [(1,0),(2,0),(3,0),(4,0),(5,0),(6,0),(7,0),(8,0),(9,0),],\n",
    "        bus_speed_model='stopped_at_stops__15mph_between',\n",
    "        stop_coords=None,\n",
    "        elevation_gradient_const=0,\n",
    "        )"
   ]
  },
  {
   "cell_type": "code",
   "execution_count": 3,
   "metadata": {},
   "outputs": [
    {
     "data": {
      "text/html": [
       "<div>\n",
       "<style scoped>\n",
       "    .dataframe tbody tr th:only-of-type {\n",
       "        vertical-align: middle;\n",
       "    }\n",
       "\n",
       "    .dataframe tbody tr th {\n",
       "        vertical-align: top;\n",
       "    }\n",
       "\n",
       "    .dataframe thead th {\n",
       "        text-align: right;\n",
       "    }\n",
       "</style>\n",
       "<table border=\"1\" class=\"dataframe\">\n",
       "  <thead>\n",
       "    <tr style=\"text-align: right;\">\n",
       "      <th></th>\n",
       "      <th>coordinates</th>\n",
       "      <th>gradient</th>\n",
       "      <th>geometry</th>\n",
       "      <th>distance_from_last_point</th>\n",
       "      <th>cum_distance</th>\n",
       "      <th>is_bus_stop</th>\n",
       "      <th>velocity</th>\n",
       "      <th>delta_time</th>\n",
       "      <th>acceleration</th>\n",
       "      <th>passenger_mass</th>\n",
       "      <th>grav_force</th>\n",
       "      <th>roll_fric</th>\n",
       "      <th>aero_drag</th>\n",
       "      <th>inertia</th>\n",
       "      <th>power_output</th>\n",
       "    </tr>\n",
       "  </thead>\n",
       "  <tbody>\n",
       "    <tr>\n",
       "      <th>0</th>\n",
       "      <td>(1, 0)</td>\n",
       "      <td>0.0</td>\n",
       "      <td>None</td>\n",
       "      <td>NaN</td>\n",
       "      <td>0.0</td>\n",
       "      <td>False</td>\n",
       "      <td>0.0000</td>\n",
       "      <td>NaN</td>\n",
       "      <td>NaN</td>\n",
       "      <td>0.0</td>\n",
       "      <td>-0.0</td>\n",
       "      <td>-1268.1387</td>\n",
       "      <td>-0.000000</td>\n",
       "      <td>NaN</td>\n",
       "      <td>NaN</td>\n",
       "    </tr>\n",
       "    <tr>\n",
       "      <th>1</th>\n",
       "      <td>(2, 0)</td>\n",
       "      <td>0.0</td>\n",
       "      <td>LINESTRING (1 0, 2 0)</td>\n",
       "      <td>1.0</td>\n",
       "      <td>1.0</td>\n",
       "      <td>False</td>\n",
       "      <td>6.7056</td>\n",
       "      <td>3.3528</td>\n",
       "      <td>2.0</td>\n",
       "      <td>0.0</td>\n",
       "      <td>-0.0</td>\n",
       "      <td>-1268.1387</td>\n",
       "      <td>-11.981465</td>\n",
       "      <td>25854.0</td>\n",
       "      <td>181950.556182</td>\n",
       "    </tr>\n",
       "    <tr>\n",
       "      <th>2</th>\n",
       "      <td>(3, 0)</td>\n",
       "      <td>0.0</td>\n",
       "      <td>LINESTRING (2 0, 3 0)</td>\n",
       "      <td>1.0</td>\n",
       "      <td>2.0</td>\n",
       "      <td>False</td>\n",
       "      <td>6.7056</td>\n",
       "      <td>6.7056</td>\n",
       "      <td>0.0</td>\n",
       "      <td>0.0</td>\n",
       "      <td>-0.0</td>\n",
       "      <td>-1268.1387</td>\n",
       "      <td>-11.981465</td>\n",
       "      <td>0.0</td>\n",
       "      <td>8583.973782</td>\n",
       "    </tr>\n",
       "    <tr>\n",
       "      <th>3</th>\n",
       "      <td>(4, 0)</td>\n",
       "      <td>0.0</td>\n",
       "      <td>LINESTRING (3 0, 4 0)</td>\n",
       "      <td>1.0</td>\n",
       "      <td>3.0</td>\n",
       "      <td>False</td>\n",
       "      <td>6.7056</td>\n",
       "      <td>6.7056</td>\n",
       "      <td>0.0</td>\n",
       "      <td>0.0</td>\n",
       "      <td>-0.0</td>\n",
       "      <td>-1268.1387</td>\n",
       "      <td>-11.981465</td>\n",
       "      <td>0.0</td>\n",
       "      <td>8583.973782</td>\n",
       "    </tr>\n",
       "    <tr>\n",
       "      <th>4</th>\n",
       "      <td>(5, 0)</td>\n",
       "      <td>0.0</td>\n",
       "      <td>LINESTRING (4 0, 5 0)</td>\n",
       "      <td>1.0</td>\n",
       "      <td>4.0</td>\n",
       "      <td>False</td>\n",
       "      <td>6.7056</td>\n",
       "      <td>6.7056</td>\n",
       "      <td>0.0</td>\n",
       "      <td>0.0</td>\n",
       "      <td>-0.0</td>\n",
       "      <td>-1268.1387</td>\n",
       "      <td>-11.981465</td>\n",
       "      <td>0.0</td>\n",
       "      <td>8583.973782</td>\n",
       "    </tr>\n",
       "    <tr>\n",
       "      <th>5</th>\n",
       "      <td>(6, 0)</td>\n",
       "      <td>0.0</td>\n",
       "      <td>LINESTRING (5 0, 6 0)</td>\n",
       "      <td>1.0</td>\n",
       "      <td>5.0</td>\n",
       "      <td>False</td>\n",
       "      <td>6.7056</td>\n",
       "      <td>6.7056</td>\n",
       "      <td>0.0</td>\n",
       "      <td>0.0</td>\n",
       "      <td>-0.0</td>\n",
       "      <td>-1268.1387</td>\n",
       "      <td>-11.981465</td>\n",
       "      <td>0.0</td>\n",
       "      <td>8583.973782</td>\n",
       "    </tr>\n",
       "    <tr>\n",
       "      <th>6</th>\n",
       "      <td>(7, 0)</td>\n",
       "      <td>0.0</td>\n",
       "      <td>LINESTRING (6 0, 7 0)</td>\n",
       "      <td>1.0</td>\n",
       "      <td>6.0</td>\n",
       "      <td>False</td>\n",
       "      <td>6.7056</td>\n",
       "      <td>6.7056</td>\n",
       "      <td>0.0</td>\n",
       "      <td>0.0</td>\n",
       "      <td>-0.0</td>\n",
       "      <td>-1268.1387</td>\n",
       "      <td>-11.981465</td>\n",
       "      <td>0.0</td>\n",
       "      <td>8583.973782</td>\n",
       "    </tr>\n",
       "    <tr>\n",
       "      <th>7</th>\n",
       "      <td>(8, 0)</td>\n",
       "      <td>0.0</td>\n",
       "      <td>LINESTRING (7 0, 8 0)</td>\n",
       "      <td>1.0</td>\n",
       "      <td>7.0</td>\n",
       "      <td>False</td>\n",
       "      <td>6.7056</td>\n",
       "      <td>6.7056</td>\n",
       "      <td>0.0</td>\n",
       "      <td>0.0</td>\n",
       "      <td>-0.0</td>\n",
       "      <td>-1268.1387</td>\n",
       "      <td>-11.981465</td>\n",
       "      <td>0.0</td>\n",
       "      <td>8583.973782</td>\n",
       "    </tr>\n",
       "    <tr>\n",
       "      <th>8</th>\n",
       "      <td>(9, 0)</td>\n",
       "      <td>0.0</td>\n",
       "      <td>LINESTRING (8 0, 9 0)</td>\n",
       "      <td>1.0</td>\n",
       "      <td>8.0</td>\n",
       "      <td>False</td>\n",
       "      <td>0.0000</td>\n",
       "      <td>3.3528</td>\n",
       "      <td>-2.0</td>\n",
       "      <td>0.0</td>\n",
       "      <td>-0.0</td>\n",
       "      <td>-1268.1387</td>\n",
       "      <td>-0.000000</td>\n",
       "      <td>-25854.0</td>\n",
       "      <td>-0.000000</td>\n",
       "    </tr>\n",
       "  </tbody>\n",
       "</table>\n",
       "</div>"
      ],
      "text/plain": [
       "  coordinates  gradient               geometry  distance_from_last_point  \\\n",
       "0      (1, 0)       0.0                   None                       NaN   \n",
       "1      (2, 0)       0.0  LINESTRING (1 0, 2 0)                       1.0   \n",
       "2      (3, 0)       0.0  LINESTRING (2 0, 3 0)                       1.0   \n",
       "3      (4, 0)       0.0  LINESTRING (3 0, 4 0)                       1.0   \n",
       "4      (5, 0)       0.0  LINESTRING (4 0, 5 0)                       1.0   \n",
       "5      (6, 0)       0.0  LINESTRING (5 0, 6 0)                       1.0   \n",
       "6      (7, 0)       0.0  LINESTRING (6 0, 7 0)                       1.0   \n",
       "7      (8, 0)       0.0  LINESTRING (7 0, 8 0)                       1.0   \n",
       "8      (9, 0)       0.0  LINESTRING (8 0, 9 0)                       1.0   \n",
       "\n",
       "   cum_distance  is_bus_stop  velocity  delta_time  acceleration  \\\n",
       "0           0.0        False    0.0000         NaN           NaN   \n",
       "1           1.0        False    6.7056      3.3528           2.0   \n",
       "2           2.0        False    6.7056      6.7056           0.0   \n",
       "3           3.0        False    6.7056      6.7056           0.0   \n",
       "4           4.0        False    6.7056      6.7056           0.0   \n",
       "5           5.0        False    6.7056      6.7056           0.0   \n",
       "6           6.0        False    6.7056      6.7056           0.0   \n",
       "7           7.0        False    6.7056      6.7056           0.0   \n",
       "8           8.0        False    0.0000      3.3528          -2.0   \n",
       "\n",
       "   passenger_mass  grav_force  roll_fric  aero_drag  inertia   power_output  \n",
       "0             0.0        -0.0 -1268.1387  -0.000000      NaN            NaN  \n",
       "1             0.0        -0.0 -1268.1387 -11.981465  25854.0  181950.556182  \n",
       "2             0.0        -0.0 -1268.1387 -11.981465      0.0    8583.973782  \n",
       "3             0.0        -0.0 -1268.1387 -11.981465      0.0    8583.973782  \n",
       "4             0.0        -0.0 -1268.1387 -11.981465      0.0    8583.973782  \n",
       "5             0.0        -0.0 -1268.1387 -11.981465      0.0    8583.973782  \n",
       "6             0.0        -0.0 -1268.1387 -11.981465      0.0    8583.973782  \n",
       "7             0.0        -0.0 -1268.1387 -11.981465      0.0    8583.973782  \n",
       "8             0.0        -0.0 -1268.1387  -0.000000 -25854.0      -0.000000  "
      ]
     },
     "execution_count": 3,
     "metadata": {},
     "output_type": "execute_result"
    }
   ],
   "source": [
    "test_instance__0_grade.route_df"
   ]
  },
  {
   "cell_type": "code",
   "execution_count": 4,
   "metadata": {},
   "outputs": [],
   "source": [
    "test_instance__1_grade = sro.SimpleRouteTrajectory(\n",
    "        [(1,0),(2,0),(3,0),(4,0),(5,0),(6,0),(7,0),(8,0),(9,0),],\n",
    "        bus_speed_model='stopped_at_stops__15mph_between',\n",
    "        stop_coords=None,\n",
    "        elevation_gradient_const=1,\n",
    "        )"
   ]
  },
  {
   "cell_type": "code",
   "execution_count": 5,
   "metadata": {},
   "outputs": [
    {
     "data": {
      "text/html": [
       "<div>\n",
       "<style scoped>\n",
       "    .dataframe tbody tr th:only-of-type {\n",
       "        vertical-align: middle;\n",
       "    }\n",
       "\n",
       "    .dataframe tbody tr th {\n",
       "        vertical-align: top;\n",
       "    }\n",
       "\n",
       "    .dataframe thead th {\n",
       "        text-align: right;\n",
       "    }\n",
       "</style>\n",
       "<table border=\"1\" class=\"dataframe\">\n",
       "  <thead>\n",
       "    <tr style=\"text-align: right;\">\n",
       "      <th></th>\n",
       "      <th>coordinates</th>\n",
       "      <th>gradient</th>\n",
       "      <th>geometry</th>\n",
       "      <th>distance_from_last_point</th>\n",
       "      <th>cum_distance</th>\n",
       "      <th>is_bus_stop</th>\n",
       "      <th>velocity</th>\n",
       "      <th>delta_time</th>\n",
       "      <th>acceleration</th>\n",
       "      <th>passenger_mass</th>\n",
       "      <th>grav_force</th>\n",
       "      <th>roll_fric</th>\n",
       "      <th>aero_drag</th>\n",
       "      <th>inertia</th>\n",
       "      <th>power_output</th>\n",
       "    </tr>\n",
       "  </thead>\n",
       "  <tbody>\n",
       "    <tr>\n",
       "      <th>0</th>\n",
       "      <td>(1, 0)</td>\n",
       "      <td>1.0</td>\n",
       "      <td>None</td>\n",
       "      <td>NaN</td>\n",
       "      <td>0.0</td>\n",
       "      <td>False</td>\n",
       "      <td>0.0000</td>\n",
       "      <td>NaN</td>\n",
       "      <td>NaN</td>\n",
       "      <td>0.0</td>\n",
       "      <td>-89670.947426</td>\n",
       "      <td>-896.709474</td>\n",
       "      <td>-0.000000</td>\n",
       "      <td>NaN</td>\n",
       "      <td>NaN</td>\n",
       "    </tr>\n",
       "    <tr>\n",
       "      <th>1</th>\n",
       "      <td>(2, 0)</td>\n",
       "      <td>1.0</td>\n",
       "      <td>LINESTRING (1 0, 2 0)</td>\n",
       "      <td>1.0</td>\n",
       "      <td>1.0</td>\n",
       "      <td>False</td>\n",
       "      <td>6.7056</td>\n",
       "      <td>3.3528</td>\n",
       "      <td>2.0</td>\n",
       "      <td>0.0</td>\n",
       "      <td>-89670.947426</td>\n",
       "      <td>-896.709474</td>\n",
       "      <td>-11.981465</td>\n",
       "      <td>25854.0</td>\n",
       "      <td>780757.405422</td>\n",
       "    </tr>\n",
       "    <tr>\n",
       "      <th>2</th>\n",
       "      <td>(3, 0)</td>\n",
       "      <td>1.0</td>\n",
       "      <td>LINESTRING (2 0, 3 0)</td>\n",
       "      <td>1.0</td>\n",
       "      <td>2.0</td>\n",
       "      <td>False</td>\n",
       "      <td>6.7056</td>\n",
       "      <td>6.7056</td>\n",
       "      <td>0.0</td>\n",
       "      <td>0.0</td>\n",
       "      <td>-89670.947426</td>\n",
       "      <td>-896.709474</td>\n",
       "      <td>-11.981465</td>\n",
       "      <td>0.0</td>\n",
       "      <td>607390.823022</td>\n",
       "    </tr>\n",
       "    <tr>\n",
       "      <th>3</th>\n",
       "      <td>(4, 0)</td>\n",
       "      <td>1.0</td>\n",
       "      <td>LINESTRING (3 0, 4 0)</td>\n",
       "      <td>1.0</td>\n",
       "      <td>3.0</td>\n",
       "      <td>False</td>\n",
       "      <td>6.7056</td>\n",
       "      <td>6.7056</td>\n",
       "      <td>0.0</td>\n",
       "      <td>0.0</td>\n",
       "      <td>-89670.947426</td>\n",
       "      <td>-896.709474</td>\n",
       "      <td>-11.981465</td>\n",
       "      <td>0.0</td>\n",
       "      <td>607390.823022</td>\n",
       "    </tr>\n",
       "    <tr>\n",
       "      <th>4</th>\n",
       "      <td>(5, 0)</td>\n",
       "      <td>1.0</td>\n",
       "      <td>LINESTRING (4 0, 5 0)</td>\n",
       "      <td>1.0</td>\n",
       "      <td>4.0</td>\n",
       "      <td>False</td>\n",
       "      <td>6.7056</td>\n",
       "      <td>6.7056</td>\n",
       "      <td>0.0</td>\n",
       "      <td>0.0</td>\n",
       "      <td>-89670.947426</td>\n",
       "      <td>-896.709474</td>\n",
       "      <td>-11.981465</td>\n",
       "      <td>0.0</td>\n",
       "      <td>607390.823022</td>\n",
       "    </tr>\n",
       "    <tr>\n",
       "      <th>5</th>\n",
       "      <td>(6, 0)</td>\n",
       "      <td>1.0</td>\n",
       "      <td>LINESTRING (5 0, 6 0)</td>\n",
       "      <td>1.0</td>\n",
       "      <td>5.0</td>\n",
       "      <td>False</td>\n",
       "      <td>6.7056</td>\n",
       "      <td>6.7056</td>\n",
       "      <td>0.0</td>\n",
       "      <td>0.0</td>\n",
       "      <td>-89670.947426</td>\n",
       "      <td>-896.709474</td>\n",
       "      <td>-11.981465</td>\n",
       "      <td>0.0</td>\n",
       "      <td>607390.823022</td>\n",
       "    </tr>\n",
       "    <tr>\n",
       "      <th>6</th>\n",
       "      <td>(7, 0)</td>\n",
       "      <td>1.0</td>\n",
       "      <td>LINESTRING (6 0, 7 0)</td>\n",
       "      <td>1.0</td>\n",
       "      <td>6.0</td>\n",
       "      <td>False</td>\n",
       "      <td>6.7056</td>\n",
       "      <td>6.7056</td>\n",
       "      <td>0.0</td>\n",
       "      <td>0.0</td>\n",
       "      <td>-89670.947426</td>\n",
       "      <td>-896.709474</td>\n",
       "      <td>-11.981465</td>\n",
       "      <td>0.0</td>\n",
       "      <td>607390.823022</td>\n",
       "    </tr>\n",
       "    <tr>\n",
       "      <th>7</th>\n",
       "      <td>(8, 0)</td>\n",
       "      <td>1.0</td>\n",
       "      <td>LINESTRING (7 0, 8 0)</td>\n",
       "      <td>1.0</td>\n",
       "      <td>7.0</td>\n",
       "      <td>False</td>\n",
       "      <td>6.7056</td>\n",
       "      <td>6.7056</td>\n",
       "      <td>0.0</td>\n",
       "      <td>0.0</td>\n",
       "      <td>-89670.947426</td>\n",
       "      <td>-896.709474</td>\n",
       "      <td>-11.981465</td>\n",
       "      <td>0.0</td>\n",
       "      <td>607390.823022</td>\n",
       "    </tr>\n",
       "    <tr>\n",
       "      <th>8</th>\n",
       "      <td>(9, 0)</td>\n",
       "      <td>1.0</td>\n",
       "      <td>LINESTRING (8 0, 9 0)</td>\n",
       "      <td>1.0</td>\n",
       "      <td>8.0</td>\n",
       "      <td>False</td>\n",
       "      <td>0.0000</td>\n",
       "      <td>3.3528</td>\n",
       "      <td>-2.0</td>\n",
       "      <td>0.0</td>\n",
       "      <td>-89670.947426</td>\n",
       "      <td>-896.709474</td>\n",
       "      <td>-0.000000</td>\n",
       "      <td>-25854.0</td>\n",
       "      <td>0.000000</td>\n",
       "    </tr>\n",
       "  </tbody>\n",
       "</table>\n",
       "</div>"
      ],
      "text/plain": [
       "  coordinates  gradient               geometry  distance_from_last_point  \\\n",
       "0      (1, 0)       1.0                   None                       NaN   \n",
       "1      (2, 0)       1.0  LINESTRING (1 0, 2 0)                       1.0   \n",
       "2      (3, 0)       1.0  LINESTRING (2 0, 3 0)                       1.0   \n",
       "3      (4, 0)       1.0  LINESTRING (3 0, 4 0)                       1.0   \n",
       "4      (5, 0)       1.0  LINESTRING (4 0, 5 0)                       1.0   \n",
       "5      (6, 0)       1.0  LINESTRING (5 0, 6 0)                       1.0   \n",
       "6      (7, 0)       1.0  LINESTRING (6 0, 7 0)                       1.0   \n",
       "7      (8, 0)       1.0  LINESTRING (7 0, 8 0)                       1.0   \n",
       "8      (9, 0)       1.0  LINESTRING (8 0, 9 0)                       1.0   \n",
       "\n",
       "   cum_distance  is_bus_stop  velocity  delta_time  acceleration  \\\n",
       "0           0.0        False    0.0000         NaN           NaN   \n",
       "1           1.0        False    6.7056      3.3528           2.0   \n",
       "2           2.0        False    6.7056      6.7056           0.0   \n",
       "3           3.0        False    6.7056      6.7056           0.0   \n",
       "4           4.0        False    6.7056      6.7056           0.0   \n",
       "5           5.0        False    6.7056      6.7056           0.0   \n",
       "6           6.0        False    6.7056      6.7056           0.0   \n",
       "7           7.0        False    6.7056      6.7056           0.0   \n",
       "8           8.0        False    0.0000      3.3528          -2.0   \n",
       "\n",
       "   passenger_mass    grav_force   roll_fric  aero_drag  inertia   power_output  \n",
       "0             0.0 -89670.947426 -896.709474  -0.000000      NaN            NaN  \n",
       "1             0.0 -89670.947426 -896.709474 -11.981465  25854.0  780757.405422  \n",
       "2             0.0 -89670.947426 -896.709474 -11.981465      0.0  607390.823022  \n",
       "3             0.0 -89670.947426 -896.709474 -11.981465      0.0  607390.823022  \n",
       "4             0.0 -89670.947426 -896.709474 -11.981465      0.0  607390.823022  \n",
       "5             0.0 -89670.947426 -896.709474 -11.981465      0.0  607390.823022  \n",
       "6             0.0 -89670.947426 -896.709474 -11.981465      0.0  607390.823022  \n",
       "7             0.0 -89670.947426 -896.709474 -11.981465      0.0  607390.823022  \n",
       "8             0.0 -89670.947426 -896.709474  -0.000000 -25854.0       0.000000  "
      ]
     },
     "execution_count": 5,
     "metadata": {},
     "output_type": "execute_result"
    }
   ],
   "source": [
    "test_instance__1_grade.route_df"
   ]
  },
  {
   "cell_type": "code",
   "execution_count": 6,
   "metadata": {},
   "outputs": [],
   "source": [
    "test_instance__stop = sro.SimpleRouteTrajectory(\n",
    "        [(1,0),(2,0),(3,0),(4,0),(5,0),(6,0),(7,0),(8,0),(9,0),],\n",
    "        bus_speed_model='stopped_at_stops__15mph_between',\n",
    "        stop_coords=[(6.43,0.54)],\n",
    "        elevation_gradient_const=0.,\n",
    "        )"
   ]
  },
  {
   "cell_type": "code",
   "execution_count": 7,
   "metadata": {},
   "outputs": [
    {
     "data": {
      "text/plain": [
       "True"
      ]
     },
     "execution_count": 7,
     "metadata": {},
     "output_type": "execute_result"
    }
   ],
   "source": [
    "test_instance__stop.route_df.iloc[5].is_bus_stop"
   ]
  },
  {
   "cell_type": "code",
   "execution_count": 8,
   "metadata": {},
   "outputs": [
    {
     "data": {
      "text/plain": [
       "10"
      ]
     },
     "execution_count": 8,
     "metadata": {},
     "output_type": "execute_result"
    }
   ],
   "source": [
    "import numpy as np\n",
    "len(np.append(np.nan, np.ones(9)))"
   ]
  },
  {
   "cell_type": "markdown",
   "metadata": {},
   "source": [
    "## Testing realistic velocity model"
   ]
  },
  {
   "cell_type": "code",
   "execution_count": 9,
   "metadata": {},
   "outputs": [],
   "source": [
    "real_instance_1 = sro.SimpleRouteTrajectory(\n",
    "        [(1,0),(2,0),(3,0),(4,0),(5,0),(6,0),(7,0),(8,0),(9,0),],\n",
    "        bus_speed_model='const_accel_between_stops_and_speed_lim',\n",
    "        stop_coords=None,\n",
    "        elevation_gradient_const=1,\n",
    "        )"
   ]
  },
  {
   "cell_type": "markdown",
   "metadata": {},
   "source": [
    "real_instance_1.route_df"
   ]
  },
  {
   "cell_type": "code",
   "execution_count": 36,
   "metadata": {},
   "outputs": [],
   "source": [
    "space = range(1,100)\n",
    "coords = list(zip(space,[0]*len(space)))\n",
    "# coords"
   ]
  },
  {
   "cell_type": "code",
   "execution_count": 37,
   "metadata": {},
   "outputs": [],
   "source": [
    "real_instance_2 = sro.SimpleRouteTrajectory(\n",
    "        coords,\n",
    "        bus_speed_model='const_accel_between_stops_and_speed_lim',\n",
    "        stop_coords=[(60,0), (65,0)],\n",
    "        elevation_gradient_const=1,\n",
    "        )"
   ]
  },
  {
   "cell_type": "code",
   "execution_count": 41,
   "metadata": {},
   "outputs": [
    {
     "data": {
      "image/png": "[encoded data removed]",
      "text/plain": [
       "<Figure size 800x600 with 6 Axes>"
      ]
     },
     "metadata": {
      "needs_background": "light"
     },
     "output_type": "display_data"
    }
   ],
   "source": [
    "import matplotlib.pyplot as plt\n",
    "fig, axes = plt.subplots(3,2,dpi=100, figsize=(8,6))\n",
    "x = real_instance_2.route_df.cum_distance.values\n",
    "v = real_instance_2.route_df.velocity.values\n",
    "a = real_instance_2.route_df.acceleration.values\n",
    "t = real_instance_2.route_time\n",
    "\n",
    "axes[0,0].scatter(t,a)\n",
    "axes[0,0].set_xlabel('time')\n",
    "axes[0,0].set_ylabel('acceleration')\n",
    "\n",
    "\n",
    "axes[1,0].scatter(t,v)\n",
    "axes[1,0].set_xlabel('time')\n",
    "axes[1,0].set_ylabel('speed')\n",
    "\n",
    "axes[2,0].scatter(t,x)\n",
    "axes[2,0].set_xlabel('time')\n",
    "axes[2,0].set_ylabel('distance')\n",
    "\n",
    "\n",
    "axes[0,1].scatter(x,a)\n",
    "axes[0,1].set_xlabel('distance')\n",
    "axes[0,1].set_ylabel('acceleration')\n",
    "\n",
    "axes[1,1].scatter(x,v)\n",
    "axes[1,1].set_xlabel('distance')\n",
    "axes[1,1].set_ylabel('speed')\n",
    "\n",
    "axes[2,1].scatter(x,t)\n",
    "axes[2,1].set_ylabel('time')\n",
    "axes[2,1].set_xlabel('distance')\n",
    "\n",
    "fig.tight_layout()"
   ]
  },
  {
   "cell_type": "code",
   "execution_count": 18,
   "metadata": {},
   "outputs": [
    {
     "data": {
      "text/plain": [
       "[<matplotlib.lines.Line2D at 0x11aa1c6a0>]"
      ]
     },
     "execution_count": 18,
     "metadata": {},
     "output_type": "execute_result"
    },
    {
     "data": {
      "image/png": "[encoded data removed]",
      "text/plain": [
       "<Figure size 432x288 with 1 Axes>"
      ]
     },
     "metadata": {
      "needs_background": "light"
     },
     "output_type": "display_data"
    }
   ],
   "source": [
    "plt.plot(t[1:],np.diff(x)/np.diff(t))"
   ]
  },
  {
   "cell_type": "markdown",
   "metadata": {},
   "source": [
    "## Writing testes for bus mass array integration"
   ]
  },
  {
   "cell_type": "code",
   "execution_count": 93,
   "metadata": {},
   "outputs": [
    {
     "data": {
      "text/plain": [
       "array([ 2., nan, nan,  6., nan, nan, nan, nan,  5., nan])"
      ]
     },
     "execution_count": 93,
     "metadata": {},
     "output_type": "execute_result"
    }
   ],
   "source": [
    "testar = np.ones(10)\n",
    "testar[:]=np.nan\n",
    "testar[-2]=5\n",
    "\n",
    "testar[0]=2\n",
    "testar[3]=6\n",
    "testar\n"
   ]
  },
  {
   "cell_type": "code",
   "execution_count": 94,
   "metadata": {},
   "outputs": [
    {
     "name": "stdout",
     "output_type": "stream",
     "text": [
      "2.0\n",
      "2.0\n",
      "6.0\n",
      "6.0\n",
      "6.0\n",
      "6.0\n",
      "5.0\n"
     ]
    }
   ],
   "source": [
    "for i in range(len(testar)-1):\n",
    "    j = 1\n",
    "#     print(np.isnan(testar[i+j]))\n",
    "    try:\n",
    "        while np.isnan(testar[i+j]):\n",
    "            testar[i+j]=testar[i]\n",
    "            print(testar[i+j] )\n",
    "            j+=1\n",
    "    except: IndexError"
   ]
  },
  {
   "cell_type": "code",
   "execution_count": 101,
   "metadata": {},
   "outputs": [
    {
     "name": "stdout",
     "output_type": "stream",
     "text": [
      "0\n"
     ]
    }
   ],
   "source": [
    "if not None: print(0)"
   ]
  }
 ],
 "metadata": {
  "kernelspec": {
   "display_name": "Python [conda env:simple_route_dynamics]",
   "language": "python",
   "name": "conda-env-simple_route_dynamics-py"
  },
  "language_info": {
   "codemirror_mode": {
    "name": "ipython",
    "version": 3
   },
   "file_extension": ".py",
   "mimetype": "text/x-python",
   "name": "python",
   "nbconvert_exporter": "python",
   "pygments_lexer": "ipython3",
   "version": "3.6.7"
  }
 },
 "nbformat": 4,
 "nbformat_minor": 2
}
