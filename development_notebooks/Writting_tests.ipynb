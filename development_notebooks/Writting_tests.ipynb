{
 "cells": [
  {
   "cell_type": "code",
   "execution_count": 1,
   "metadata": {},
   "outputs": [
    {
     "name": "stderr",
     "output_type": "stream",
     "text": [
      "/Users/chair/Documents/Academia/DIRECT/capstone/Route_Dynamics/route_dynamics/route_energy/longi_dynam_model.py:353: RuntimeWarning: divide by zero encountered in true_divide\n",
      "  accelerations = central_diff_velocity_array / delta_distance_array\n",
      "/Users/chair/Documents/Academia/DIRECT/capstone/Route_Dynamics/route_dynamics/route_energy/longi_dynam_model.py:489: RuntimeWarning: invalid value encountered in multiply\n",
      "  batt_power_exert = f_traction * velocity\n"
     ]
    }
   ],
   "source": [
    "from os import path\n",
    "import sys\n",
    "sys.path.append(path.abspath('..'))\n",
    "from route_dynamics.route_elevation import base as rbs\n",
    "from route_dynamics.route_energy import longi_dynam_model as ldm\n",
    "from route_dynamics.tests import test_longi_dynam_model as tldm\n",
    "\n",
    "import numpy as np\n",
    "import pandas as pd"
   ]
  },
  {
   "cell_type": "code",
   "execution_count": 2,
   "metadata": {},
   "outputs": [],
   "source": [
    "test_instance__0_grade = tldm.SimpleRouteTrajectory(\n",
    "        shp_coords='default',\n",
    "        bus_speed_model='stopped_at_stops__15mph_between',\n",
    "        stop_coords=None,\n",
    "        elevation_gradient_const=0,\n",
    "        )"
   ]
  },
  {
   "cell_type": "code",
   "execution_count": 3,
   "metadata": {},
   "outputs": [
    {
     "data": {
      "text/html": [
       "<div>\n",
       "<style scoped>\n",
       "    .dataframe tbody tr th:only-of-type {\n",
       "        vertical-align: middle;\n",
       "    }\n",
       "\n",
       "    .dataframe tbody tr th {\n",
       "        vertical-align: top;\n",
       "    }\n",
       "\n",
       "    .dataframe thead th {\n",
       "        text-align: right;\n",
       "    }\n",
       "</style>\n",
       "<table border=\"1\" class=\"dataframe\">\n",
       "  <thead>\n",
       "    <tr style=\"text-align: right;\">\n",
       "      <th></th>\n",
       "      <th>coordinates</th>\n",
       "      <th>gradient</th>\n",
       "      <th>geometry</th>\n",
       "      <th>is_bus_stop</th>\n",
       "      <th>velocity</th>\n",
       "      <th>delta_time</th>\n",
       "      <th>acceleration</th>\n",
       "      <th>passenger_mass</th>\n",
       "      <th>grav_force</th>\n",
       "      <th>roll_fric</th>\n",
       "      <th>aero_drag</th>\n",
       "      <th>inertia</th>\n",
       "      <th>battery_power_exerted</th>\n",
       "    </tr>\n",
       "  </thead>\n",
       "  <tbody>\n",
       "    <tr>\n",
       "      <th>0</th>\n",
       "      <td>(0, 0)</td>\n",
       "      <td>0.0</td>\n",
       "      <td>None</td>\n",
       "      <td>False</td>\n",
       "      <td>0.0000</td>\n",
       "      <td>0.0000</td>\n",
       "      <td>inf</td>\n",
       "      <td>0.0</td>\n",
       "      <td>0.0</td>\n",
       "      <td>1268.1387</td>\n",
       "      <td>0.000000</td>\n",
       "      <td>inf</td>\n",
       "      <td>NaN</td>\n",
       "    </tr>\n",
       "    <tr>\n",
       "      <th>1</th>\n",
       "      <td>(0, 1)</td>\n",
       "      <td>0.0</td>\n",
       "      <td>LINESTRING (0 0, 0 1)</td>\n",
       "      <td>False</td>\n",
       "      <td>6.7056</td>\n",
       "      <td>3.3528</td>\n",
       "      <td>3.3528</td>\n",
       "      <td>0.0</td>\n",
       "      <td>0.0</td>\n",
       "      <td>1268.1387</td>\n",
       "      <td>11.981465</td>\n",
       "      <td>43341.6456</td>\n",
       "      <td>282047.764954</td>\n",
       "    </tr>\n",
       "    <tr>\n",
       "      <th>2</th>\n",
       "      <td>(0, 2)</td>\n",
       "      <td>0.0</td>\n",
       "      <td>LINESTRING (0 1, 0 2)</td>\n",
       "      <td>False</td>\n",
       "      <td>6.7056</td>\n",
       "      <td>6.7056</td>\n",
       "      <td>-3.3528</td>\n",
       "      <td>0.0</td>\n",
       "      <td>0.0</td>\n",
       "      <td>1268.1387</td>\n",
       "      <td>11.981465</td>\n",
       "      <td>-43341.6456</td>\n",
       "      <td>-299215.712517</td>\n",
       "    </tr>\n",
       "    <tr>\n",
       "      <th>3</th>\n",
       "      <td>(0, 3)</td>\n",
       "      <td>0.0</td>\n",
       "      <td>LINESTRING (0 2, 0 3)</td>\n",
       "      <td>False</td>\n",
       "      <td>0.0000</td>\n",
       "      <td>3.3528</td>\n",
       "      <td>-3.3528</td>\n",
       "      <td>0.0</td>\n",
       "      <td>0.0</td>\n",
       "      <td>1268.1387</td>\n",
       "      <td>0.000000</td>\n",
       "      <td>-43341.6456</td>\n",
       "      <td>-0.000000</td>\n",
       "    </tr>\n",
       "  </tbody>\n",
       "</table>\n",
       "</div>"
      ],
      "text/plain": [
       "  coordinates  gradient               geometry  is_bus_stop  velocity  \\\n",
       "0      (0, 0)       0.0                   None        False    0.0000   \n",
       "1      (0, 1)       0.0  LINESTRING (0 0, 0 1)        False    6.7056   \n",
       "2      (0, 2)       0.0  LINESTRING (0 1, 0 2)        False    6.7056   \n",
       "3      (0, 3)       0.0  LINESTRING (0 2, 0 3)        False    0.0000   \n",
       "\n",
       "   delta_time  acceleration  passenger_mass  grav_force  roll_fric  aero_drag  \\\n",
       "0      0.0000           inf             0.0         0.0  1268.1387   0.000000   \n",
       "1      3.3528        3.3528             0.0         0.0  1268.1387  11.981465   \n",
       "2      6.7056       -3.3528             0.0         0.0  1268.1387  11.981465   \n",
       "3      3.3528       -3.3528             0.0         0.0  1268.1387   0.000000   \n",
       "\n",
       "      inertia  battery_power_exerted  \n",
       "0         inf                    NaN  \n",
       "1  43341.6456          282047.764954  \n",
       "2 -43341.6456         -299215.712517  \n",
       "3 -43341.6456              -0.000000  "
      ]
     },
     "execution_count": 3,
     "metadata": {},
     "output_type": "execute_result"
    }
   ],
   "source": [
    "test_instance__0_grade.route_df.head()"
   ]
  },
  {
   "cell_type": "code",
   "execution_count": null,
   "metadata": {},
   "outputs": [],
   "source": []
  }
 ],
 "metadata": {
  "kernelspec": {
   "display_name": "Python [conda env:simple_route_dynamics]",
   "language": "python",
   "name": "conda-env-simple_route_dynamics-py"
  },
  "language_info": {
   "codemirror_mode": {
    "name": "ipython",
    "version": 3
   },
   "file_extension": ".py",
   "mimetype": "text/x-python",
   "name": "python",
   "nbconvert_exporter": "python",
   "pygments_lexer": "ipython3",
   "version": "3.6.7"
  }
 },
 "nbformat": 4,
 "nbformat_minor": 2
}
