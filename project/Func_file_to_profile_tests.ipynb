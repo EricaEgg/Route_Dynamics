{
 "cells": [
  {
   "cell_type": "code",
   "execution_count": 1,
   "metadata": {},
   "outputs": [],
   "source": [
    "import numpy as np\n",
    "import pandas as pd\n",
    "%matplotlib inline\n",
    "import matplotlib.pyplot as plt\n",
    "import geopandas as gpd\n",
    "import folium\n",
    "import rasterio as rio\n",
    "import rasterstats \n",
    "from rasterio.plot import show\n",
    "import os\n",
    "from shapely.geometry import Polygon, mapping\n",
    "from rasterio.mask import mask\n",
    "import seaborn as sns\n",
    "from geopy.distance import geodesic"
   ]
  },
  {
   "cell_type": "code",
   "execution_count": 11,
   "metadata": {},
   "outputs": [],
   "source": [
    "# reading shape files and mapping the route \n",
    "def read_shape(shapefile, route):\n",
    "    \"\"\"\n",
    "    Reads shapefile and selects desired route.\n",
    "    \n",
    "    Parameters\n",
    "    ----------\n",
    "    shapefile: route geospatial data (.shp file)\n",
    "    route: route number (integer)\n",
    "        \n",
    "    Returns\n",
    "    -------\n",
    "    da: New shapefile of desired route only\n",
    "    map: Interactive map of desired route\n",
    "    \n",
    "    \"\"\"\n",
    "    dat = gpd.read_file(shapefile)\n",
    "    da = dat[dat['ROUTE_NUM'] == route]\n",
    "    da.to_file(\"da.shp\")\n",
    "    \n",
    "    points = folium.GeoJson(da.to_json())\n",
    "    map = folium.Map(location = [47.6, -122.3], zoom_start = 12).add_child(points)\n",
    "    \n",
    "    return(da, map)\n",
    "    \n",
    "# reading raster files and extract elevation \n",
    "def extract_elev(shapefile, route, rasterfile):\n",
    "    \"\"\"\n",
    "    Reads raster file and extracts elevation.\n",
    "    \n",
    "    Parameters\n",
    "    ----------\n",
    "    shapefile: route geospatial data (.shp file)\n",
    "    route: route number (integer)\n",
    "    rasterfile: elevation data raster file (.tif file)\n",
    "    \n",
    "    Returns\n",
    "    -------\n",
    "    elev_meter: elevations values along the route in meters\n",
    "    \n",
    "    \"\"\"\n",
    "    da, map = read_shape(shapefile, route)\n",
    "    raw_elev = pd.DataFrame(rasterstats.gen_point_query(da, rasterfile))\n",
    "    elev = [x for x in raw_elev.iloc[0,:] if x is not None] \n",
    "    print('The number of points: {}' .format(len(elev)))\n",
    "    elev_meter = np.array(elev) * 0.3048\n",
    "    return(elev_meter)\n",
    "\n",
    "\n",
    "# extracting points from linestring \n",
    "def extract_point(shapefile, route):\n",
    "    \"\"\"\n",
    "    Extracts points from linestring.\n",
    "    \n",
    "    Parameters\n",
    "    ----------\n",
    "    shapefile: route geospatial data (.shp file)\n",
    "    route: route number (integer)\n",
    "    \n",
    "    Returns\n",
    "    -------\n",
    "    coord: Coordinates of points along line\n",
    "    \"\"\"\n",
    "    da, map = read_shape(shapefile, route)\n",
    "    geoms = da.geometry.values # list of shapely geometries\n",
    "    geometry = geoms[0] # shapely geometry\n",
    "    geoms = [mapping(geoms[0])]\n",
    "    ge = np.array(geoms[0]['coordinates'])[:,[0,1]]\n",
    "\n",
    "    coord = []\n",
    "    for i in range(len(ge)):\n",
    "            coord.append([ge[i][1], ge[i][0]])\n",
    "\n",
    "    return(coord)\n",
    "\n",
    "\n",
    "# map points \n",
    "def map_point(shapefile):\n",
    "    \"\"\"\n",
    "    Plots points on interactive map\n",
    "    \n",
    "    Parameters\n",
    "    ----------\n",
    "    shapefile: route geospatial data (.shp file)\n",
    "    \n",
    "    Returns\n",
    "    -------\n",
    "    map: Interactive map with route points\n",
    "    \n",
    "    \"\"\"\n",
    "    coord = extract_point(shapefile, route)\n",
    "    loca = pd.DataFrame(np.array(coord)).values.tolist()\n",
    "\n",
    "    map = folium.Map(location=[47.6, -122.3], zoom_start=12)\n",
    "    for point in range(0, len(loca)):\n",
    "        folium.Marker(loca[point]).add_to(map)\n",
    "    \n",
    "    return(map)\n",
    "\n",
    "\n",
    "# distance measure \n",
    "def dist_measure(shapefile, route):\n",
    "    \"\"\"\n",
    "    Measures distance of points along the route\n",
    "    \n",
    "    Parameters\n",
    "    ----------\n",
    "    shapefile: route geospatial data (.shp file)\n",
    "    route: route number (integer)\n",
    "    \n",
    "    Returns\n",
    "    -------\n",
    "    dist: Total route distance value for points along the route\n",
    "    \n",
    "    \"\"\"\n",
    "    coord = extract_point(shapefile, route)\n",
    "    dis = []\n",
    "    for i in range(len(coord)-1):\n",
    "        dis.append(geodesic(coord[i],coord[i+1]).m)\n",
    "\n",
    "    distnt = np.insert(dis, 0, 0)\n",
    "    dist = np.cumsum(distnt)\n",
    "    \n",
    "    return(dist)\n",
    "\n",
    "# route plots \n",
    "def profile_plot(shapefile, route, rasterfile):\n",
    "    \"\"\"\n",
    "    Plots route metrics\n",
    "    \n",
    "    Parameters\n",
    "    ----------\n",
    "    shapefile: route geospatial data (.shp file)\n",
    "    route: route number (integer)\n",
    "    rasterfile: elevation data raster file (.tif file)\n",
    "    \n",
    "    Returns\n",
    "    -------\n",
    "    Plots\n",
    "    \n",
    "    \"\"\"\n",
    "    dist = dist_measure(shapefile, route)\n",
    "    elev = extract_elev(shapefile, route, rasterfile)\n",
    "    \n",
    "    plt.figure(figsize=(18,5))\n",
    "    \n",
    "    tem = pd.DataFrame({'elev': elev, 'dist':dist})\n",
    "    plt.plot(tem['dist'], tem['elev'], label= 'elevation')\n",
    "    plt.plot(tem['dist'], np.insert(np.diff(elev), 0,0), label= 'stress index')\n",
    "    plt.ylabel('Elevation (meter)')\n",
    "    plt.xlabel('Plain distance (meter)')\n",
    "    plt.legend()\n",
    "    \n",
    "    return()"
   ]
  },
  {
   "cell_type": "code",
   "execution_count": null,
   "metadata": {},
   "outputs": [],
   "source": [
    "read_shape()"
   ]
  },
  {
   "cell_type": "code",
   "execution_count": 6,
   "metadata": {},
   "outputs": [
    {
     "name": "stderr",
     "output_type": "stream",
     "text": [
      "C:\\users\\erica\\miniconda3\\envs\\route_dynamics\\lib\\site-packages\\geopandas\\io\\file.py:108: FionaDeprecationWarning: Use fiona.Env() instead.\n",
      "  with fiona.drivers():\n",
      "C:\\users\\erica\\miniconda3\\envs\\route_dynamics\\lib\\site-packages\\geopandas\\io\\file.py:108: FionaDeprecationWarning: Use fiona.Env() instead.\n",
      "  with fiona.drivers():\n"
     ]
    },
    {
     "name": "stdout",
     "output_type": "stream",
     "text": [
      "The number of points: 208\n"
     ]
    },
    {
     "data": {
      "image/png": "[encoded data removed]",
      "text/plain": [
       "<Figure size 1296x360 with 1 Axes>"
      ]
     },
     "metadata": {
      "needs_background": "light"
     },
     "output_type": "display_data"
    }
   ],
   "source": [
    "_=profile_plot('six_routes.shp', 45, 'seattle_dtm.tif')\n"
   ]
  },
  {
   "cell_type": "code",
   "execution_count": null,
   "metadata": {},
   "outputs": [],
   "source": []
  },
  {
   "cell_type": "markdown",
   "metadata": {},
   "source": [
    "## Test Functions"
   ]
  },
  {
   "cell_type": "code",
   "execution_count": 19,
   "metadata": {},
   "outputs": [],
   "source": [
    "def read_shape_test():\n",
    "   \n",
    "    shapefile = 'six_routes.shp'\n",
    "    route = 45\n",
    "    \n",
    "    assert type(read_shape(shapefile, route)[0]) == geopandas.geodataframe.GeoDataFrame\n",
    "    assert type(read_shape(shapefile, route)[1]) == folium.folium.Map\n",
    "    \n",
    "    return"
   ]
  },
  {
   "cell_type": "code",
   "execution_count": null,
   "metadata": {},
   "outputs": [],
   "source": [
    "def extract_elev_test():\n",
    "    \n",
    "    "
   ]
  }
 ],
 "metadata": {
  "kernelspec": {
   "display_name": "Python 3",
   "language": "python",
   "name": "python3"
  },
  "language_info": {
   "codemirror_mode": {
    "name": "ipython",
    "version": 3
   },
   "file_extension": ".py",
   "mimetype": "text/x-python",
   "name": "python",
   "nbconvert_exporter": "python",
   "pygments_lexer": "ipython3",
   "version": "3.7.1"
  }
 },
 "nbformat": 4,
 "nbformat_minor": 2
}
