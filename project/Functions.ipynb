{
 "cells": [
  {
   "cell_type": "code",
   "execution_count": 1,
   "metadata": {},
   "outputs": [],
   "source": [
    "import numpy as np\n",
    "import matplotlib.pyplot as plt\n",
    "import pandas as pd\n",
    "import geopandas as gpd\n",
    "import folium\n",
    "import rasterstats as rs\n",
    "import rasterio as rio\n",
    "import rasterio.plot as rioplot\n",
    "import xarray as xr\n",
    "from rasterio.warp import transform\n",
    "from folium.plugins import MarkerCluster\n",
    "from folium.features import ColorLine\n",
    "import gdal\n",
    "import ogr\n",
    "import struct"
   ]
  },
  {
   "cell_type": "markdown",
   "metadata": {},
   "source": [
    "## 1) Import data"
   ]
  },
  {
   "cell_type": "code",
   "execution_count": 2,
   "metadata": {},
   "outputs": [],
   "source": [
    "def imports(shp, raster):\n",
    "    fpn = shp\n",
    "    data_shp = gpd.read_file(fpn)\n",
    "    data_raster = rio.open(raster)\n",
    "    \n",
    "    return data_shp, data_raster"
   ]
  },
  {
   "cell_type": "markdown",
   "metadata": {},
   "source": [
    "## 2) Select Route and Create Elevation Profiles"
   ]
  },
  {
   "cell_type": "code",
   "execution_count": null,
   "metadata": {},
   "outputs": [],
   "source": [
    "def route_selection(route_num):\n",
    "    rt = data[data['ROUTE_NUM']==route_num]\n",
    "    rt_y = r45[r45['IN_SERVICE']=='Y']\n",
    "    \n",
    "    return rt_y\n",
    "\n",
    "def merge(rt_y, data_raster):\n",
    "    z = rs.point_query(rt45_y,data_raster)\n",
    "    return z"
   ]
  },
  {
   "cell_type": "markdown",
   "metadata": {},
   "source": [
    "## 3) Show routes on map with color gradient"
   ]
  },
  {
   "cell_type": "markdown",
   "metadata": {},
   "source": []
  }
 ],
 "metadata": {
  "kernelspec": {
   "display_name": "Python 3",
   "language": "python",
   "name": "python3"
  },
  "language_info": {
   "codemirror_mode": {
    "name": "ipython",
    "version": 3
   },
   "file_extension": ".py",
   "mimetype": "text/x-python",
   "name": "python",
   "nbconvert_exporter": "python",
   "pygments_lexer": "ipython3",
   "version": "3.7.1"
  }
 },
 "nbformat": 4,
 "nbformat_minor": 2
}
