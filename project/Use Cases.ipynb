{
 "cells": [
  {
   "cell_type": "markdown",
   "metadata": {},
   "source": [
    "## Overall goal: \n",
    "Visualize King County Metro bus routes and elevation changes for a given bus route\n",
    "\n"
   ]
  },
  {
   "cell_type": "markdown",
   "metadata": {},
   "source": [
    "### Use cases:\n"
   ]
  },
  {
   "cell_type": "markdown",
   "metadata": {},
   "source": [
    "##### 1) Read GIS data files, e.g., shape file (dbf, shx, shp) and raster file (tif, etc.)"
   ]
  },
  {
   "cell_type": "markdown",
   "metadata": {},
   "source": [
    "The first use of the software will be importing geographic information system (GIS) data files and making them readable by Python. Traditionally, these files are read using a geographic information system user interface, such as ArcGIS or QGIS. \n",
    "\n",
    "To do this, we will first use the package GeoPandas, designed for working with geospatial data for the bus route shape files. This package first uses the package Fiona to open GIS files and make them readable in Python. Next, a the package Shapely is used for geometric operations. GeoPandas will then create a dataframe of the data's x and y coordinates. \n",
    "\n",
    "For the raster file, or the elevation data, we will use a package call rasterio. "
   ]
  },
  {
   "cell_type": "markdown",
   "metadata": {},
   "source": [
    "##### 2) Create elevation profiles for all routes"
   ]
  },
  {
   "cell_type": "markdown",
   "metadata": {},
   "source": [
    "GeoPandas cannot incorporate z coordinates, the elevation, and rasterio is only for raster (.tif) files. So, for this use case, the data information needs to merge together so that for every x and y coordinate along the bus routes, there is also a z value. So far, we are thinking we can convert the .tif file into an array, to make the data more usable and easier to add ot the geopandas dataframe. "
   ]
  },
  {
   "cell_type": "markdown",
   "metadata": {},
   "source": [
    "##### 3) Visualize Network"
   ]
  },
  {
   "cell_type": "markdown",
   "metadata": {},
   "source": [
    "The next usecase of this software will be visualizing the entire bus route network. We will use folium to show the routes over a basemap of Seattle. Then, with the new elevation profiles created in usecase 2, we can show the elevation along the routes. Our ideas right now are to create a color gradiant along the route, either with dots or continuous, that follows a color ramp scale of the elevation values. "
   ]
  },
  {
   "cell_type": "markdown",
   "metadata": {},
   "source": [
    "##### 4) Qualitatively compare routes"
   ]
  },
  {
   "cell_type": "markdown",
   "metadata": {},
   "source": [
    "The last usecase is using this software to compare the elevation profiles of different metro routes. The route number is an attribute included in the Metro route shapefile. So we should be able to isolate the elevation profile with each route. The user can then select specific routes to compare qualitatively. "
   ]
  },
  {
   "cell_type": "code",
   "execution_count": null,
   "metadata": {},
   "outputs": [],
   "source": []
  }
 ],
 "metadata": {
  "kernelspec": {
   "display_name": "Python 3",
   "language": "python",
   "name": "python3"
  },
  "language_info": {
   "codemirror_mode": {
    "name": "ipython",
    "version": 3
   },
   "file_extension": ".py",
   "mimetype": "text/x-python",
   "name": "python",
   "nbconvert_exporter": "python",
   "pygments_lexer": "ipython3",
   "version": "3.7.1"
  }
 },
 "nbformat": 4,
 "nbformat_minor": 2
}
